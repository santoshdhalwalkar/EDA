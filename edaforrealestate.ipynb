{
  "cells": [
    {
      "cell_type": "markdown",
      "metadata": {
        "id": "view-in-github",
        "colab_type": "text"
      },
      "source": [
        "<a href=\"https://colab.research.google.com/github/santoshdhalwalkar/EDA/blob/main/edaforrealestate.ipynb\" target=\"_parent\"><img src=\"https://colab.research.google.com/assets/colab-badge.svg\" alt=\"Open In Colab\"/></a>"
      ]
    },
    {
      "cell_type": "code",
      "execution_count": 239,
      "metadata": {
        "id": "EQ33uRMZ-Oce"
      },
      "outputs": [],
      "source": [
        "#import drive from google\n",
        "from google.colab import drive"
      ]
    },
    {
      "cell_type": "code",
      "execution_count": 240,
      "metadata": {
        "id": "Tr1UJ2OI-kfe",
        "colab": {
          "base_uri": "https://localhost:8080/"
        },
        "outputId": "0745cf7d-82cc-4042-a5fb-61757d6bbeed"
      },
      "outputs": [
        {
          "output_type": "stream",
          "name": "stdout",
          "text": [
            "Drive already mounted at /content/drive; to attempt to forcibly remount, call drive.mount(\"/content/drive\", force_remount=True).\n"
          ]
        }
      ],
      "source": [
        "# mount the drive\n",
        "drive.mount(\"/content/drive\")"
      ]
    },
    {
      "cell_type": "code",
      "execution_count": 241,
      "metadata": {
        "id": "Vj6pLu6f-oPc"
      },
      "outputs": [],
      "source": [
        "#import the liabaries\n",
        "import seaborn as sns\n",
        "import matplotlib.pyplot as plt\n",
        "import pandas as pd\n",
        "import numpy as np\n",
        "import sklearn\n",
        "import warnings\n",
        "warnings.filterwarnings(\"ignore\")\n",
        "%matplotlib inline"
      ]
    },
    {
      "cell_type": "code",
      "execution_count": 242,
      "metadata": {
        "colab": {
          "base_uri": "https://localhost:8080/",
          "height": 461
        },
        "id": "GIGFSoNU-xyC",
        "outputId": "9c55b352-1ee1-4563-a674-f23a782c4327"
      },
      "outputs": [
        {
          "output_type": "execute_result",
          "data": {
            "text/plain": [
              "      Unnamed: 0 MSSubClass MSZoning  LotFrontage  LotArea Street Alley  \\\n",
              "0              0       SC60       RL           65     8450   Pave   NaN   \n",
              "1              1       SC20       RL           80     9600   Pave   NaN   \n",
              "2              2       SC60       RL           68    11250   Pave   NaN   \n",
              "3              3       SC70       RL           60     9550   Pave   NaN   \n",
              "4              4       SC60       RL           84    14260   Pave   NaN   \n",
              "...          ...        ...      ...          ...      ...    ...   ...   \n",
              "1455        1455       SC60       RL           62     7917   Pave   NaN   \n",
              "1456        1456       SC20       RL           85    13175   Pave   NaN   \n",
              "1457        1457       SC70       RL           66     9042   Pave   NaN   \n",
              "1458        1458       SC20       RL           68     9717   Pave   NaN   \n",
              "1459        1459       SC20       RL           75     9937   Pave   NaN   \n",
              "\n",
              "     LotShape LandContour Utilities  ... PoolArea PoolQC  Fence MiscFeature  \\\n",
              "0         Reg         Lvl    AllPub  ...        0     No     No          No   \n",
              "1         Reg         Lvl    AllPub  ...        0     No     No          No   \n",
              "2         IR1         Lvl    AllPub  ...        0     No     No          No   \n",
              "3         IR1         Lvl    AllPub  ...        0     No     No          No   \n",
              "4         IR1         Lvl    AllPub  ...        0     No     No          No   \n",
              "...       ...         ...       ...  ...      ...    ...    ...         ...   \n",
              "1455      Reg         Lvl    AllPub  ...        0     No     No          No   \n",
              "1456      Reg         Lvl    AllPub  ...        0     No  MnPrv          No   \n",
              "1457      Reg         Lvl    AllPub  ...        0     No  GdPrv        Shed   \n",
              "1458      Reg         Lvl    AllPub  ...        0     No     No          No   \n",
              "1459      Reg         Lvl    AllPub  ...        0     No     No          No   \n",
              "\n",
              "     MiscVal MoSold YrSold  SaleType  SaleCondition  SalePrice  \n",
              "0          0    Feb   2008        WD         Normal     208500  \n",
              "1          0    May   2007        WD         Normal     181500  \n",
              "2          0    Sep   2008        WD         Normal     223500  \n",
              "3          0    Feb   2006        WD        Abnorml     140000  \n",
              "4          0    Dec   2008        WD         Normal     250000  \n",
              "...      ...    ...    ...       ...            ...        ...  \n",
              "1455       0    Aug   2007        WD         Normal     175000  \n",
              "1456       0    Feb   2010        WD         Normal     210000  \n",
              "1457    2500    May   2010        WD         Normal     266500  \n",
              "1458       0    Apr   2010        WD         Normal     142125  \n",
              "1459       0    Jun   2008        WD         Normal     147500  \n",
              "\n",
              "[1460 rows x 81 columns]"
            ],
            "text/html": [
              "\n",
              "  <div id=\"df-22cb8ba2-1082-453e-9290-750da2ddb911\" class=\"colab-df-container\">\n",
              "    <div>\n",
              "<style scoped>\n",
              "    .dataframe tbody tr th:only-of-type {\n",
              "        vertical-align: middle;\n",
              "    }\n",
              "\n",
              "    .dataframe tbody tr th {\n",
              "        vertical-align: top;\n",
              "    }\n",
              "\n",
              "    .dataframe thead th {\n",
              "        text-align: right;\n",
              "    }\n",
              "</style>\n",
              "<table border=\"1\" class=\"dataframe\">\n",
              "  <thead>\n",
              "    <tr style=\"text-align: right;\">\n",
              "      <th></th>\n",
              "      <th>Unnamed: 0</th>\n",
              "      <th>MSSubClass</th>\n",
              "      <th>MSZoning</th>\n",
              "      <th>LotFrontage</th>\n",
              "      <th>LotArea</th>\n",
              "      <th>Street</th>\n",
              "      <th>Alley</th>\n",
              "      <th>LotShape</th>\n",
              "      <th>LandContour</th>\n",
              "      <th>Utilities</th>\n",
              "      <th>...</th>\n",
              "      <th>PoolArea</th>\n",
              "      <th>PoolQC</th>\n",
              "      <th>Fence</th>\n",
              "      <th>MiscFeature</th>\n",
              "      <th>MiscVal</th>\n",
              "      <th>MoSold</th>\n",
              "      <th>YrSold</th>\n",
              "      <th>SaleType</th>\n",
              "      <th>SaleCondition</th>\n",
              "      <th>SalePrice</th>\n",
              "    </tr>\n",
              "  </thead>\n",
              "  <tbody>\n",
              "    <tr>\n",
              "      <th>0</th>\n",
              "      <td>0</td>\n",
              "      <td>SC60</td>\n",
              "      <td>RL</td>\n",
              "      <td>65</td>\n",
              "      <td>8450</td>\n",
              "      <td>Pave</td>\n",
              "      <td>NaN</td>\n",
              "      <td>Reg</td>\n",
              "      <td>Lvl</td>\n",
              "      <td>AllPub</td>\n",
              "      <td>...</td>\n",
              "      <td>0</td>\n",
              "      <td>No</td>\n",
              "      <td>No</td>\n",
              "      <td>No</td>\n",
              "      <td>0</td>\n",
              "      <td>Feb</td>\n",
              "      <td>2008</td>\n",
              "      <td>WD</td>\n",
              "      <td>Normal</td>\n",
              "      <td>208500</td>\n",
              "    </tr>\n",
              "    <tr>\n",
              "      <th>1</th>\n",
              "      <td>1</td>\n",
              "      <td>SC20</td>\n",
              "      <td>RL</td>\n",
              "      <td>80</td>\n",
              "      <td>9600</td>\n",
              "      <td>Pave</td>\n",
              "      <td>NaN</td>\n",
              "      <td>Reg</td>\n",
              "      <td>Lvl</td>\n",
              "      <td>AllPub</td>\n",
              "      <td>...</td>\n",
              "      <td>0</td>\n",
              "      <td>No</td>\n",
              "      <td>No</td>\n",
              "      <td>No</td>\n",
              "      <td>0</td>\n",
              "      <td>May</td>\n",
              "      <td>2007</td>\n",
              "      <td>WD</td>\n",
              "      <td>Normal</td>\n",
              "      <td>181500</td>\n",
              "    </tr>\n",
              "    <tr>\n",
              "      <th>2</th>\n",
              "      <td>2</td>\n",
              "      <td>SC60</td>\n",
              "      <td>RL</td>\n",
              "      <td>68</td>\n",
              "      <td>11250</td>\n",
              "      <td>Pave</td>\n",
              "      <td>NaN</td>\n",
              "      <td>IR1</td>\n",
              "      <td>Lvl</td>\n",
              "      <td>AllPub</td>\n",
              "      <td>...</td>\n",
              "      <td>0</td>\n",
              "      <td>No</td>\n",
              "      <td>No</td>\n",
              "      <td>No</td>\n",
              "      <td>0</td>\n",
              "      <td>Sep</td>\n",
              "      <td>2008</td>\n",
              "      <td>WD</td>\n",
              "      <td>Normal</td>\n",
              "      <td>223500</td>\n",
              "    </tr>\n",
              "    <tr>\n",
              "      <th>3</th>\n",
              "      <td>3</td>\n",
              "      <td>SC70</td>\n",
              "      <td>RL</td>\n",
              "      <td>60</td>\n",
              "      <td>9550</td>\n",
              "      <td>Pave</td>\n",
              "      <td>NaN</td>\n",
              "      <td>IR1</td>\n",
              "      <td>Lvl</td>\n",
              "      <td>AllPub</td>\n",
              "      <td>...</td>\n",
              "      <td>0</td>\n",
              "      <td>No</td>\n",
              "      <td>No</td>\n",
              "      <td>No</td>\n",
              "      <td>0</td>\n",
              "      <td>Feb</td>\n",
              "      <td>2006</td>\n",
              "      <td>WD</td>\n",
              "      <td>Abnorml</td>\n",
              "      <td>140000</td>\n",
              "    </tr>\n",
              "    <tr>\n",
              "      <th>4</th>\n",
              "      <td>4</td>\n",
              "      <td>SC60</td>\n",
              "      <td>RL</td>\n",
              "      <td>84</td>\n",
              "      <td>14260</td>\n",
              "      <td>Pave</td>\n",
              "      <td>NaN</td>\n",
              "      <td>IR1</td>\n",
              "      <td>Lvl</td>\n",
              "      <td>AllPub</td>\n",
              "      <td>...</td>\n",
              "      <td>0</td>\n",
              "      <td>No</td>\n",
              "      <td>No</td>\n",
              "      <td>No</td>\n",
              "      <td>0</td>\n",
              "      <td>Dec</td>\n",
              "      <td>2008</td>\n",
              "      <td>WD</td>\n",
              "      <td>Normal</td>\n",
              "      <td>250000</td>\n",
              "    </tr>\n",
              "    <tr>\n",
              "      <th>...</th>\n",
              "      <td>...</td>\n",
              "      <td>...</td>\n",
              "      <td>...</td>\n",
              "      <td>...</td>\n",
              "      <td>...</td>\n",
              "      <td>...</td>\n",
              "      <td>...</td>\n",
              "      <td>...</td>\n",
              "      <td>...</td>\n",
              "      <td>...</td>\n",
              "      <td>...</td>\n",
              "      <td>...</td>\n",
              "      <td>...</td>\n",
              "      <td>...</td>\n",
              "      <td>...</td>\n",
              "      <td>...</td>\n",
              "      <td>...</td>\n",
              "      <td>...</td>\n",
              "      <td>...</td>\n",
              "      <td>...</td>\n",
              "      <td>...</td>\n",
              "    </tr>\n",
              "    <tr>\n",
              "      <th>1455</th>\n",
              "      <td>1455</td>\n",
              "      <td>SC60</td>\n",
              "      <td>RL</td>\n",
              "      <td>62</td>\n",
              "      <td>7917</td>\n",
              "      <td>Pave</td>\n",
              "      <td>NaN</td>\n",
              "      <td>Reg</td>\n",
              "      <td>Lvl</td>\n",
              "      <td>AllPub</td>\n",
              "      <td>...</td>\n",
              "      <td>0</td>\n",
              "      <td>No</td>\n",
              "      <td>No</td>\n",
              "      <td>No</td>\n",
              "      <td>0</td>\n",
              "      <td>Aug</td>\n",
              "      <td>2007</td>\n",
              "      <td>WD</td>\n",
              "      <td>Normal</td>\n",
              "      <td>175000</td>\n",
              "    </tr>\n",
              "    <tr>\n",
              "      <th>1456</th>\n",
              "      <td>1456</td>\n",
              "      <td>SC20</td>\n",
              "      <td>RL</td>\n",
              "      <td>85</td>\n",
              "      <td>13175</td>\n",
              "      <td>Pave</td>\n",
              "      <td>NaN</td>\n",
              "      <td>Reg</td>\n",
              "      <td>Lvl</td>\n",
              "      <td>AllPub</td>\n",
              "      <td>...</td>\n",
              "      <td>0</td>\n",
              "      <td>No</td>\n",
              "      <td>MnPrv</td>\n",
              "      <td>No</td>\n",
              "      <td>0</td>\n",
              "      <td>Feb</td>\n",
              "      <td>2010</td>\n",
              "      <td>WD</td>\n",
              "      <td>Normal</td>\n",
              "      <td>210000</td>\n",
              "    </tr>\n",
              "    <tr>\n",
              "      <th>1457</th>\n",
              "      <td>1457</td>\n",
              "      <td>SC70</td>\n",
              "      <td>RL</td>\n",
              "      <td>66</td>\n",
              "      <td>9042</td>\n",
              "      <td>Pave</td>\n",
              "      <td>NaN</td>\n",
              "      <td>Reg</td>\n",
              "      <td>Lvl</td>\n",
              "      <td>AllPub</td>\n",
              "      <td>...</td>\n",
              "      <td>0</td>\n",
              "      <td>No</td>\n",
              "      <td>GdPrv</td>\n",
              "      <td>Shed</td>\n",
              "      <td>2500</td>\n",
              "      <td>May</td>\n",
              "      <td>2010</td>\n",
              "      <td>WD</td>\n",
              "      <td>Normal</td>\n",
              "      <td>266500</td>\n",
              "    </tr>\n",
              "    <tr>\n",
              "      <th>1458</th>\n",
              "      <td>1458</td>\n",
              "      <td>SC20</td>\n",
              "      <td>RL</td>\n",
              "      <td>68</td>\n",
              "      <td>9717</td>\n",
              "      <td>Pave</td>\n",
              "      <td>NaN</td>\n",
              "      <td>Reg</td>\n",
              "      <td>Lvl</td>\n",
              "      <td>AllPub</td>\n",
              "      <td>...</td>\n",
              "      <td>0</td>\n",
              "      <td>No</td>\n",
              "      <td>No</td>\n",
              "      <td>No</td>\n",
              "      <td>0</td>\n",
              "      <td>Apr</td>\n",
              "      <td>2010</td>\n",
              "      <td>WD</td>\n",
              "      <td>Normal</td>\n",
              "      <td>142125</td>\n",
              "    </tr>\n",
              "    <tr>\n",
              "      <th>1459</th>\n",
              "      <td>1459</td>\n",
              "      <td>SC20</td>\n",
              "      <td>RL</td>\n",
              "      <td>75</td>\n",
              "      <td>9937</td>\n",
              "      <td>Pave</td>\n",
              "      <td>NaN</td>\n",
              "      <td>Reg</td>\n",
              "      <td>Lvl</td>\n",
              "      <td>AllPub</td>\n",
              "      <td>...</td>\n",
              "      <td>0</td>\n",
              "      <td>No</td>\n",
              "      <td>No</td>\n",
              "      <td>No</td>\n",
              "      <td>0</td>\n",
              "      <td>Jun</td>\n",
              "      <td>2008</td>\n",
              "      <td>WD</td>\n",
              "      <td>Normal</td>\n",
              "      <td>147500</td>\n",
              "    </tr>\n",
              "  </tbody>\n",
              "</table>\n",
              "<p>1460 rows × 81 columns</p>\n",
              "</div>\n",
              "    <div class=\"colab-df-buttons\">\n",
              "\n",
              "  <div class=\"colab-df-container\">\n",
              "    <button class=\"colab-df-convert\" onclick=\"convertToInteractive('df-22cb8ba2-1082-453e-9290-750da2ddb911')\"\n",
              "            title=\"Convert this dataframe to an interactive table.\"\n",
              "            style=\"display:none;\">\n",
              "\n",
              "  <svg xmlns=\"http://www.w3.org/2000/svg\" height=\"24px\" viewBox=\"0 -960 960 960\">\n",
              "    <path d=\"M120-120v-720h720v720H120Zm60-500h600v-160H180v160Zm220 220h160v-160H400v160Zm0 220h160v-160H400v160ZM180-400h160v-160H180v160Zm440 0h160v-160H620v160ZM180-180h160v-160H180v160Zm440 0h160v-160H620v160Z\"/>\n",
              "  </svg>\n",
              "    </button>\n",
              "\n",
              "  <style>\n",
              "    .colab-df-container {\n",
              "      display:flex;\n",
              "      gap: 12px;\n",
              "    }\n",
              "\n",
              "    .colab-df-convert {\n",
              "      background-color: #E8F0FE;\n",
              "      border: none;\n",
              "      border-radius: 50%;\n",
              "      cursor: pointer;\n",
              "      display: none;\n",
              "      fill: #1967D2;\n",
              "      height: 32px;\n",
              "      padding: 0 0 0 0;\n",
              "      width: 32px;\n",
              "    }\n",
              "\n",
              "    .colab-df-convert:hover {\n",
              "      background-color: #E2EBFA;\n",
              "      box-shadow: 0px 1px 2px rgba(60, 64, 67, 0.3), 0px 1px 3px 1px rgba(60, 64, 67, 0.15);\n",
              "      fill: #174EA6;\n",
              "    }\n",
              "\n",
              "    .colab-df-buttons div {\n",
              "      margin-bottom: 4px;\n",
              "    }\n",
              "\n",
              "    [theme=dark] .colab-df-convert {\n",
              "      background-color: #3B4455;\n",
              "      fill: #D2E3FC;\n",
              "    }\n",
              "\n",
              "    [theme=dark] .colab-df-convert:hover {\n",
              "      background-color: #434B5C;\n",
              "      box-shadow: 0px 1px 3px 1px rgba(0, 0, 0, 0.15);\n",
              "      filter: drop-shadow(0px 1px 2px rgba(0, 0, 0, 0.3));\n",
              "      fill: #FFFFFF;\n",
              "    }\n",
              "  </style>\n",
              "\n",
              "    <script>\n",
              "      const buttonEl =\n",
              "        document.querySelector('#df-22cb8ba2-1082-453e-9290-750da2ddb911 button.colab-df-convert');\n",
              "      buttonEl.style.display =\n",
              "        google.colab.kernel.accessAllowed ? 'block' : 'none';\n",
              "\n",
              "      async function convertToInteractive(key) {\n",
              "        const element = document.querySelector('#df-22cb8ba2-1082-453e-9290-750da2ddb911');\n",
              "        const dataTable =\n",
              "          await google.colab.kernel.invokeFunction('convertToInteractive',\n",
              "                                                    [key], {});\n",
              "        if (!dataTable) return;\n",
              "\n",
              "        const docLinkHtml = 'Like what you see? Visit the ' +\n",
              "          '<a target=\"_blank\" href=https://colab.research.google.com/notebooks/data_table.ipynb>data table notebook</a>'\n",
              "          + ' to learn more about interactive tables.';\n",
              "        element.innerHTML = '';\n",
              "        dataTable['output_type'] = 'display_data';\n",
              "        await google.colab.output.renderOutput(dataTable, element);\n",
              "        const docLink = document.createElement('div');\n",
              "        docLink.innerHTML = docLinkHtml;\n",
              "        element.appendChild(docLink);\n",
              "      }\n",
              "    </script>\n",
              "  </div>\n",
              "\n",
              "\n",
              "<div id=\"df-9c304afe-9a4f-4ebf-90fd-6e88706f0e70\">\n",
              "  <button class=\"colab-df-quickchart\" onclick=\"quickchart('df-9c304afe-9a4f-4ebf-90fd-6e88706f0e70')\"\n",
              "            title=\"Suggest charts\"\n",
              "            style=\"display:none;\">\n",
              "\n",
              "<svg xmlns=\"http://www.w3.org/2000/svg\" height=\"24px\"viewBox=\"0 0 24 24\"\n",
              "     width=\"24px\">\n",
              "    <g>\n",
              "        <path d=\"M19 3H5c-1.1 0-2 .9-2 2v14c0 1.1.9 2 2 2h14c1.1 0 2-.9 2-2V5c0-1.1-.9-2-2-2zM9 17H7v-7h2v7zm4 0h-2V7h2v10zm4 0h-2v-4h2v4z\"/>\n",
              "    </g>\n",
              "</svg>\n",
              "  </button>\n",
              "\n",
              "<style>\n",
              "  .colab-df-quickchart {\n",
              "      --bg-color: #E8F0FE;\n",
              "      --fill-color: #1967D2;\n",
              "      --hover-bg-color: #E2EBFA;\n",
              "      --hover-fill-color: #174EA6;\n",
              "      --disabled-fill-color: #AAA;\n",
              "      --disabled-bg-color: #DDD;\n",
              "  }\n",
              "\n",
              "  [theme=dark] .colab-df-quickchart {\n",
              "      --bg-color: #3B4455;\n",
              "      --fill-color: #D2E3FC;\n",
              "      --hover-bg-color: #434B5C;\n",
              "      --hover-fill-color: #FFFFFF;\n",
              "      --disabled-bg-color: #3B4455;\n",
              "      --disabled-fill-color: #666;\n",
              "  }\n",
              "\n",
              "  .colab-df-quickchart {\n",
              "    background-color: var(--bg-color);\n",
              "    border: none;\n",
              "    border-radius: 50%;\n",
              "    cursor: pointer;\n",
              "    display: none;\n",
              "    fill: var(--fill-color);\n",
              "    height: 32px;\n",
              "    padding: 0;\n",
              "    width: 32px;\n",
              "  }\n",
              "\n",
              "  .colab-df-quickchart:hover {\n",
              "    background-color: var(--hover-bg-color);\n",
              "    box-shadow: 0 1px 2px rgba(60, 64, 67, 0.3), 0 1px 3px 1px rgba(60, 64, 67, 0.15);\n",
              "    fill: var(--button-hover-fill-color);\n",
              "  }\n",
              "\n",
              "  .colab-df-quickchart-complete:disabled,\n",
              "  .colab-df-quickchart-complete:disabled:hover {\n",
              "    background-color: var(--disabled-bg-color);\n",
              "    fill: var(--disabled-fill-color);\n",
              "    box-shadow: none;\n",
              "  }\n",
              "\n",
              "  .colab-df-spinner {\n",
              "    border: 2px solid var(--fill-color);\n",
              "    border-color: transparent;\n",
              "    border-bottom-color: var(--fill-color);\n",
              "    animation:\n",
              "      spin 1s steps(1) infinite;\n",
              "  }\n",
              "\n",
              "  @keyframes spin {\n",
              "    0% {\n",
              "      border-color: transparent;\n",
              "      border-bottom-color: var(--fill-color);\n",
              "      border-left-color: var(--fill-color);\n",
              "    }\n",
              "    20% {\n",
              "      border-color: transparent;\n",
              "      border-left-color: var(--fill-color);\n",
              "      border-top-color: var(--fill-color);\n",
              "    }\n",
              "    30% {\n",
              "      border-color: transparent;\n",
              "      border-left-color: var(--fill-color);\n",
              "      border-top-color: var(--fill-color);\n",
              "      border-right-color: var(--fill-color);\n",
              "    }\n",
              "    40% {\n",
              "      border-color: transparent;\n",
              "      border-right-color: var(--fill-color);\n",
              "      border-top-color: var(--fill-color);\n",
              "    }\n",
              "    60% {\n",
              "      border-color: transparent;\n",
              "      border-right-color: var(--fill-color);\n",
              "    }\n",
              "    80% {\n",
              "      border-color: transparent;\n",
              "      border-right-color: var(--fill-color);\n",
              "      border-bottom-color: var(--fill-color);\n",
              "    }\n",
              "    90% {\n",
              "      border-color: transparent;\n",
              "      border-bottom-color: var(--fill-color);\n",
              "    }\n",
              "  }\n",
              "</style>\n",
              "\n",
              "  <script>\n",
              "    async function quickchart(key) {\n",
              "      const quickchartButtonEl =\n",
              "        document.querySelector('#' + key + ' button');\n",
              "      quickchartButtonEl.disabled = true;  // To prevent multiple clicks.\n",
              "      quickchartButtonEl.classList.add('colab-df-spinner');\n",
              "      try {\n",
              "        const charts = await google.colab.kernel.invokeFunction(\n",
              "            'suggestCharts', [key], {});\n",
              "      } catch (error) {\n",
              "        console.error('Error during call to suggestCharts:', error);\n",
              "      }\n",
              "      quickchartButtonEl.classList.remove('colab-df-spinner');\n",
              "      quickchartButtonEl.classList.add('colab-df-quickchart-complete');\n",
              "    }\n",
              "    (() => {\n",
              "      let quickchartButtonEl =\n",
              "        document.querySelector('#df-9c304afe-9a4f-4ebf-90fd-6e88706f0e70 button');\n",
              "      quickchartButtonEl.style.display =\n",
              "        google.colab.kernel.accessAllowed ? 'block' : 'none';\n",
              "    })();\n",
              "  </script>\n",
              "</div>\n",
              "\n",
              "  <div id=\"id_c05e01c9-940f-4704-9b93-0ab941906960\">\n",
              "    <style>\n",
              "      .colab-df-generate {\n",
              "        background-color: #E8F0FE;\n",
              "        border: none;\n",
              "        border-radius: 50%;\n",
              "        cursor: pointer;\n",
              "        display: none;\n",
              "        fill: #1967D2;\n",
              "        height: 32px;\n",
              "        padding: 0 0 0 0;\n",
              "        width: 32px;\n",
              "      }\n",
              "\n",
              "      .colab-df-generate:hover {\n",
              "        background-color: #E2EBFA;\n",
              "        box-shadow: 0px 1px 2px rgba(60, 64, 67, 0.3), 0px 1px 3px 1px rgba(60, 64, 67, 0.15);\n",
              "        fill: #174EA6;\n",
              "      }\n",
              "\n",
              "      [theme=dark] .colab-df-generate {\n",
              "        background-color: #3B4455;\n",
              "        fill: #D2E3FC;\n",
              "      }\n",
              "\n",
              "      [theme=dark] .colab-df-generate:hover {\n",
              "        background-color: #434B5C;\n",
              "        box-shadow: 0px 1px 3px 1px rgba(0, 0, 0, 0.15);\n",
              "        filter: drop-shadow(0px 1px 2px rgba(0, 0, 0, 0.3));\n",
              "        fill: #FFFFFF;\n",
              "      }\n",
              "    </style>\n",
              "    <button class=\"colab-df-generate\" onclick=\"generateWithVariable('df')\"\n",
              "            title=\"Generate code using this dataframe.\"\n",
              "            style=\"display:none;\">\n",
              "\n",
              "  <svg xmlns=\"http://www.w3.org/2000/svg\" height=\"24px\"viewBox=\"0 0 24 24\"\n",
              "       width=\"24px\">\n",
              "    <path d=\"M7,19H8.4L18.45,9,17,7.55,7,17.6ZM5,21V16.75L18.45,3.32a2,2,0,0,1,2.83,0l1.4,1.43a1.91,1.91,0,0,1,.58,1.4,1.91,1.91,0,0,1-.58,1.4L9.25,21ZM18.45,9,17,7.55Zm-12,3A5.31,5.31,0,0,0,4.9,8.1,5.31,5.31,0,0,0,1,6.5,5.31,5.31,0,0,0,4.9,4.9,5.31,5.31,0,0,0,6.5,1,5.31,5.31,0,0,0,8.1,4.9,5.31,5.31,0,0,0,12,6.5,5.46,5.46,0,0,0,6.5,12Z\"/>\n",
              "  </svg>\n",
              "    </button>\n",
              "    <script>\n",
              "      (() => {\n",
              "      const buttonEl =\n",
              "        document.querySelector('#id_c05e01c9-940f-4704-9b93-0ab941906960 button.colab-df-generate');\n",
              "      buttonEl.style.display =\n",
              "        google.colab.kernel.accessAllowed ? 'block' : 'none';\n",
              "\n",
              "      buttonEl.onclick = () => {\n",
              "        google.colab.notebook.generateWithVariable('df');\n",
              "      }\n",
              "      })();\n",
              "    </script>\n",
              "  </div>\n",
              "\n",
              "    </div>\n",
              "  </div>\n"
            ],
            "application/vnd.google.colaboratory.intrinsic+json": {
              "type": "dataframe",
              "variable_name": "df"
            }
          },
          "metadata": {},
          "execution_count": 242
        }
      ],
      "source": [
        "# read the data from google drive\n",
        "df =pd.read_csv(\"/content/drive/MyDrive/housing_data.csv\")\n",
        "df"
      ]
    },
    {
      "cell_type": "code",
      "execution_count": 243,
      "metadata": {
        "colab": {
          "base_uri": "https://localhost:8080/",
          "height": 443
        },
        "id": "kiSOHpJq_FaR",
        "outputId": "2af06b60-4122-4fe4-9f6d-d5902f1e9638"
      },
      "outputs": [
        {
          "output_type": "execute_result",
          "data": {
            "text/plain": [
              "     MSSubClass MSZoning  LotFrontage  LotArea Street Alley LotShape  \\\n",
              "0          SC60       RL           65     8450   Pave   NaN      Reg   \n",
              "1          SC20       RL           80     9600   Pave   NaN      Reg   \n",
              "2          SC60       RL           68    11250   Pave   NaN      IR1   \n",
              "3          SC70       RL           60     9550   Pave   NaN      IR1   \n",
              "4          SC60       RL           84    14260   Pave   NaN      IR1   \n",
              "...         ...      ...          ...      ...    ...   ...      ...   \n",
              "1455       SC60       RL           62     7917   Pave   NaN      Reg   \n",
              "1456       SC20       RL           85    13175   Pave   NaN      Reg   \n",
              "1457       SC70       RL           66     9042   Pave   NaN      Reg   \n",
              "1458       SC20       RL           68     9717   Pave   NaN      Reg   \n",
              "1459       SC20       RL           75     9937   Pave   NaN      Reg   \n",
              "\n",
              "     LandContour Utilities LotConfig  ... PoolArea PoolQC  Fence MiscFeature  \\\n",
              "0            Lvl    AllPub    Inside  ...        0     No     No          No   \n",
              "1            Lvl    AllPub       FR2  ...        0     No     No          No   \n",
              "2            Lvl    AllPub    Inside  ...        0     No     No          No   \n",
              "3            Lvl    AllPub    Corner  ...        0     No     No          No   \n",
              "4            Lvl    AllPub       FR2  ...        0     No     No          No   \n",
              "...          ...       ...       ...  ...      ...    ...    ...         ...   \n",
              "1455         Lvl    AllPub    Inside  ...        0     No     No          No   \n",
              "1456         Lvl    AllPub    Inside  ...        0     No  MnPrv          No   \n",
              "1457         Lvl    AllPub    Inside  ...        0     No  GdPrv        Shed   \n",
              "1458         Lvl    AllPub    Inside  ...        0     No     No          No   \n",
              "1459         Lvl    AllPub    Inside  ...        0     No     No          No   \n",
              "\n",
              "     MiscVal MoSold  YrSold  SaleType  SaleCondition  SalePrice  \n",
              "0          0    Feb    2008        WD         Normal     208500  \n",
              "1          0    May    2007        WD         Normal     181500  \n",
              "2          0    Sep    2008        WD         Normal     223500  \n",
              "3          0    Feb    2006        WD        Abnorml     140000  \n",
              "4          0    Dec    2008        WD         Normal     250000  \n",
              "...      ...    ...     ...       ...            ...        ...  \n",
              "1455       0    Aug    2007        WD         Normal     175000  \n",
              "1456       0    Feb    2010        WD         Normal     210000  \n",
              "1457    2500    May    2010        WD         Normal     266500  \n",
              "1458       0    Apr    2010        WD         Normal     142125  \n",
              "1459       0    Jun    2008        WD         Normal     147500  \n",
              "\n",
              "[1460 rows x 80 columns]"
            ],
            "text/html": [
              "\n",
              "  <div id=\"df-4e6be9f4-d2b2-4f21-ab22-bd541dad81a6\" class=\"colab-df-container\">\n",
              "    <div>\n",
              "<style scoped>\n",
              "    .dataframe tbody tr th:only-of-type {\n",
              "        vertical-align: middle;\n",
              "    }\n",
              "\n",
              "    .dataframe tbody tr th {\n",
              "        vertical-align: top;\n",
              "    }\n",
              "\n",
              "    .dataframe thead th {\n",
              "        text-align: right;\n",
              "    }\n",
              "</style>\n",
              "<table border=\"1\" class=\"dataframe\">\n",
              "  <thead>\n",
              "    <tr style=\"text-align: right;\">\n",
              "      <th></th>\n",
              "      <th>MSSubClass</th>\n",
              "      <th>MSZoning</th>\n",
              "      <th>LotFrontage</th>\n",
              "      <th>LotArea</th>\n",
              "      <th>Street</th>\n",
              "      <th>Alley</th>\n",
              "      <th>LotShape</th>\n",
              "      <th>LandContour</th>\n",
              "      <th>Utilities</th>\n",
              "      <th>LotConfig</th>\n",
              "      <th>...</th>\n",
              "      <th>PoolArea</th>\n",
              "      <th>PoolQC</th>\n",
              "      <th>Fence</th>\n",
              "      <th>MiscFeature</th>\n",
              "      <th>MiscVal</th>\n",
              "      <th>MoSold</th>\n",
              "      <th>YrSold</th>\n",
              "      <th>SaleType</th>\n",
              "      <th>SaleCondition</th>\n",
              "      <th>SalePrice</th>\n",
              "    </tr>\n",
              "  </thead>\n",
              "  <tbody>\n",
              "    <tr>\n",
              "      <th>0</th>\n",
              "      <td>SC60</td>\n",
              "      <td>RL</td>\n",
              "      <td>65</td>\n",
              "      <td>8450</td>\n",
              "      <td>Pave</td>\n",
              "      <td>NaN</td>\n",
              "      <td>Reg</td>\n",
              "      <td>Lvl</td>\n",
              "      <td>AllPub</td>\n",
              "      <td>Inside</td>\n",
              "      <td>...</td>\n",
              "      <td>0</td>\n",
              "      <td>No</td>\n",
              "      <td>No</td>\n",
              "      <td>No</td>\n",
              "      <td>0</td>\n",
              "      <td>Feb</td>\n",
              "      <td>2008</td>\n",
              "      <td>WD</td>\n",
              "      <td>Normal</td>\n",
              "      <td>208500</td>\n",
              "    </tr>\n",
              "    <tr>\n",
              "      <th>1</th>\n",
              "      <td>SC20</td>\n",
              "      <td>RL</td>\n",
              "      <td>80</td>\n",
              "      <td>9600</td>\n",
              "      <td>Pave</td>\n",
              "      <td>NaN</td>\n",
              "      <td>Reg</td>\n",
              "      <td>Lvl</td>\n",
              "      <td>AllPub</td>\n",
              "      <td>FR2</td>\n",
              "      <td>...</td>\n",
              "      <td>0</td>\n",
              "      <td>No</td>\n",
              "      <td>No</td>\n",
              "      <td>No</td>\n",
              "      <td>0</td>\n",
              "      <td>May</td>\n",
              "      <td>2007</td>\n",
              "      <td>WD</td>\n",
              "      <td>Normal</td>\n",
              "      <td>181500</td>\n",
              "    </tr>\n",
              "    <tr>\n",
              "      <th>2</th>\n",
              "      <td>SC60</td>\n",
              "      <td>RL</td>\n",
              "      <td>68</td>\n",
              "      <td>11250</td>\n",
              "      <td>Pave</td>\n",
              "      <td>NaN</td>\n",
              "      <td>IR1</td>\n",
              "      <td>Lvl</td>\n",
              "      <td>AllPub</td>\n",
              "      <td>Inside</td>\n",
              "      <td>...</td>\n",
              "      <td>0</td>\n",
              "      <td>No</td>\n",
              "      <td>No</td>\n",
              "      <td>No</td>\n",
              "      <td>0</td>\n",
              "      <td>Sep</td>\n",
              "      <td>2008</td>\n",
              "      <td>WD</td>\n",
              "      <td>Normal</td>\n",
              "      <td>223500</td>\n",
              "    </tr>\n",
              "    <tr>\n",
              "      <th>3</th>\n",
              "      <td>SC70</td>\n",
              "      <td>RL</td>\n",
              "      <td>60</td>\n",
              "      <td>9550</td>\n",
              "      <td>Pave</td>\n",
              "      <td>NaN</td>\n",
              "      <td>IR1</td>\n",
              "      <td>Lvl</td>\n",
              "      <td>AllPub</td>\n",
              "      <td>Corner</td>\n",
              "      <td>...</td>\n",
              "      <td>0</td>\n",
              "      <td>No</td>\n",
              "      <td>No</td>\n",
              "      <td>No</td>\n",
              "      <td>0</td>\n",
              "      <td>Feb</td>\n",
              "      <td>2006</td>\n",
              "      <td>WD</td>\n",
              "      <td>Abnorml</td>\n",
              "      <td>140000</td>\n",
              "    </tr>\n",
              "    <tr>\n",
              "      <th>4</th>\n",
              "      <td>SC60</td>\n",
              "      <td>RL</td>\n",
              "      <td>84</td>\n",
              "      <td>14260</td>\n",
              "      <td>Pave</td>\n",
              "      <td>NaN</td>\n",
              "      <td>IR1</td>\n",
              "      <td>Lvl</td>\n",
              "      <td>AllPub</td>\n",
              "      <td>FR2</td>\n",
              "      <td>...</td>\n",
              "      <td>0</td>\n",
              "      <td>No</td>\n",
              "      <td>No</td>\n",
              "      <td>No</td>\n",
              "      <td>0</td>\n",
              "      <td>Dec</td>\n",
              "      <td>2008</td>\n",
              "      <td>WD</td>\n",
              "      <td>Normal</td>\n",
              "      <td>250000</td>\n",
              "    </tr>\n",
              "    <tr>\n",
              "      <th>...</th>\n",
              "      <td>...</td>\n",
              "      <td>...</td>\n",
              "      <td>...</td>\n",
              "      <td>...</td>\n",
              "      <td>...</td>\n",
              "      <td>...</td>\n",
              "      <td>...</td>\n",
              "      <td>...</td>\n",
              "      <td>...</td>\n",
              "      <td>...</td>\n",
              "      <td>...</td>\n",
              "      <td>...</td>\n",
              "      <td>...</td>\n",
              "      <td>...</td>\n",
              "      <td>...</td>\n",
              "      <td>...</td>\n",
              "      <td>...</td>\n",
              "      <td>...</td>\n",
              "      <td>...</td>\n",
              "      <td>...</td>\n",
              "      <td>...</td>\n",
              "    </tr>\n",
              "    <tr>\n",
              "      <th>1455</th>\n",
              "      <td>SC60</td>\n",
              "      <td>RL</td>\n",
              "      <td>62</td>\n",
              "      <td>7917</td>\n",
              "      <td>Pave</td>\n",
              "      <td>NaN</td>\n",
              "      <td>Reg</td>\n",
              "      <td>Lvl</td>\n",
              "      <td>AllPub</td>\n",
              "      <td>Inside</td>\n",
              "      <td>...</td>\n",
              "      <td>0</td>\n",
              "      <td>No</td>\n",
              "      <td>No</td>\n",
              "      <td>No</td>\n",
              "      <td>0</td>\n",
              "      <td>Aug</td>\n",
              "      <td>2007</td>\n",
              "      <td>WD</td>\n",
              "      <td>Normal</td>\n",
              "      <td>175000</td>\n",
              "    </tr>\n",
              "    <tr>\n",
              "      <th>1456</th>\n",
              "      <td>SC20</td>\n",
              "      <td>RL</td>\n",
              "      <td>85</td>\n",
              "      <td>13175</td>\n",
              "      <td>Pave</td>\n",
              "      <td>NaN</td>\n",
              "      <td>Reg</td>\n",
              "      <td>Lvl</td>\n",
              "      <td>AllPub</td>\n",
              "      <td>Inside</td>\n",
              "      <td>...</td>\n",
              "      <td>0</td>\n",
              "      <td>No</td>\n",
              "      <td>MnPrv</td>\n",
              "      <td>No</td>\n",
              "      <td>0</td>\n",
              "      <td>Feb</td>\n",
              "      <td>2010</td>\n",
              "      <td>WD</td>\n",
              "      <td>Normal</td>\n",
              "      <td>210000</td>\n",
              "    </tr>\n",
              "    <tr>\n",
              "      <th>1457</th>\n",
              "      <td>SC70</td>\n",
              "      <td>RL</td>\n",
              "      <td>66</td>\n",
              "      <td>9042</td>\n",
              "      <td>Pave</td>\n",
              "      <td>NaN</td>\n",
              "      <td>Reg</td>\n",
              "      <td>Lvl</td>\n",
              "      <td>AllPub</td>\n",
              "      <td>Inside</td>\n",
              "      <td>...</td>\n",
              "      <td>0</td>\n",
              "      <td>No</td>\n",
              "      <td>GdPrv</td>\n",
              "      <td>Shed</td>\n",
              "      <td>2500</td>\n",
              "      <td>May</td>\n",
              "      <td>2010</td>\n",
              "      <td>WD</td>\n",
              "      <td>Normal</td>\n",
              "      <td>266500</td>\n",
              "    </tr>\n",
              "    <tr>\n",
              "      <th>1458</th>\n",
              "      <td>SC20</td>\n",
              "      <td>RL</td>\n",
              "      <td>68</td>\n",
              "      <td>9717</td>\n",
              "      <td>Pave</td>\n",
              "      <td>NaN</td>\n",
              "      <td>Reg</td>\n",
              "      <td>Lvl</td>\n",
              "      <td>AllPub</td>\n",
              "      <td>Inside</td>\n",
              "      <td>...</td>\n",
              "      <td>0</td>\n",
              "      <td>No</td>\n",
              "      <td>No</td>\n",
              "      <td>No</td>\n",
              "      <td>0</td>\n",
              "      <td>Apr</td>\n",
              "      <td>2010</td>\n",
              "      <td>WD</td>\n",
              "      <td>Normal</td>\n",
              "      <td>142125</td>\n",
              "    </tr>\n",
              "    <tr>\n",
              "      <th>1459</th>\n",
              "      <td>SC20</td>\n",
              "      <td>RL</td>\n",
              "      <td>75</td>\n",
              "      <td>9937</td>\n",
              "      <td>Pave</td>\n",
              "      <td>NaN</td>\n",
              "      <td>Reg</td>\n",
              "      <td>Lvl</td>\n",
              "      <td>AllPub</td>\n",
              "      <td>Inside</td>\n",
              "      <td>...</td>\n",
              "      <td>0</td>\n",
              "      <td>No</td>\n",
              "      <td>No</td>\n",
              "      <td>No</td>\n",
              "      <td>0</td>\n",
              "      <td>Jun</td>\n",
              "      <td>2008</td>\n",
              "      <td>WD</td>\n",
              "      <td>Normal</td>\n",
              "      <td>147500</td>\n",
              "    </tr>\n",
              "  </tbody>\n",
              "</table>\n",
              "<p>1460 rows × 80 columns</p>\n",
              "</div>\n",
              "    <div class=\"colab-df-buttons\">\n",
              "\n",
              "  <div class=\"colab-df-container\">\n",
              "    <button class=\"colab-df-convert\" onclick=\"convertToInteractive('df-4e6be9f4-d2b2-4f21-ab22-bd541dad81a6')\"\n",
              "            title=\"Convert this dataframe to an interactive table.\"\n",
              "            style=\"display:none;\">\n",
              "\n",
              "  <svg xmlns=\"http://www.w3.org/2000/svg\" height=\"24px\" viewBox=\"0 -960 960 960\">\n",
              "    <path d=\"M120-120v-720h720v720H120Zm60-500h600v-160H180v160Zm220 220h160v-160H400v160Zm0 220h160v-160H400v160ZM180-400h160v-160H180v160Zm440 0h160v-160H620v160ZM180-180h160v-160H180v160Zm440 0h160v-160H620v160Z\"/>\n",
              "  </svg>\n",
              "    </button>\n",
              "\n",
              "  <style>\n",
              "    .colab-df-container {\n",
              "      display:flex;\n",
              "      gap: 12px;\n",
              "    }\n",
              "\n",
              "    .colab-df-convert {\n",
              "      background-color: #E8F0FE;\n",
              "      border: none;\n",
              "      border-radius: 50%;\n",
              "      cursor: pointer;\n",
              "      display: none;\n",
              "      fill: #1967D2;\n",
              "      height: 32px;\n",
              "      padding: 0 0 0 0;\n",
              "      width: 32px;\n",
              "    }\n",
              "\n",
              "    .colab-df-convert:hover {\n",
              "      background-color: #E2EBFA;\n",
              "      box-shadow: 0px 1px 2px rgba(60, 64, 67, 0.3), 0px 1px 3px 1px rgba(60, 64, 67, 0.15);\n",
              "      fill: #174EA6;\n",
              "    }\n",
              "\n",
              "    .colab-df-buttons div {\n",
              "      margin-bottom: 4px;\n",
              "    }\n",
              "\n",
              "    [theme=dark] .colab-df-convert {\n",
              "      background-color: #3B4455;\n",
              "      fill: #D2E3FC;\n",
              "    }\n",
              "\n",
              "    [theme=dark] .colab-df-convert:hover {\n",
              "      background-color: #434B5C;\n",
              "      box-shadow: 0px 1px 3px 1px rgba(0, 0, 0, 0.15);\n",
              "      filter: drop-shadow(0px 1px 2px rgba(0, 0, 0, 0.3));\n",
              "      fill: #FFFFFF;\n",
              "    }\n",
              "  </style>\n",
              "\n",
              "    <script>\n",
              "      const buttonEl =\n",
              "        document.querySelector('#df-4e6be9f4-d2b2-4f21-ab22-bd541dad81a6 button.colab-df-convert');\n",
              "      buttonEl.style.display =\n",
              "        google.colab.kernel.accessAllowed ? 'block' : 'none';\n",
              "\n",
              "      async function convertToInteractive(key) {\n",
              "        const element = document.querySelector('#df-4e6be9f4-d2b2-4f21-ab22-bd541dad81a6');\n",
              "        const dataTable =\n",
              "          await google.colab.kernel.invokeFunction('convertToInteractive',\n",
              "                                                    [key], {});\n",
              "        if (!dataTable) return;\n",
              "\n",
              "        const docLinkHtml = 'Like what you see? Visit the ' +\n",
              "          '<a target=\"_blank\" href=https://colab.research.google.com/notebooks/data_table.ipynb>data table notebook</a>'\n",
              "          + ' to learn more about interactive tables.';\n",
              "        element.innerHTML = '';\n",
              "        dataTable['output_type'] = 'display_data';\n",
              "        await google.colab.output.renderOutput(dataTable, element);\n",
              "        const docLink = document.createElement('div');\n",
              "        docLink.innerHTML = docLinkHtml;\n",
              "        element.appendChild(docLink);\n",
              "      }\n",
              "    </script>\n",
              "  </div>\n",
              "\n",
              "\n",
              "<div id=\"df-94fde719-2ea2-408f-ab8d-0f29cb536f93\">\n",
              "  <button class=\"colab-df-quickchart\" onclick=\"quickchart('df-94fde719-2ea2-408f-ab8d-0f29cb536f93')\"\n",
              "            title=\"Suggest charts\"\n",
              "            style=\"display:none;\">\n",
              "\n",
              "<svg xmlns=\"http://www.w3.org/2000/svg\" height=\"24px\"viewBox=\"0 0 24 24\"\n",
              "     width=\"24px\">\n",
              "    <g>\n",
              "        <path d=\"M19 3H5c-1.1 0-2 .9-2 2v14c0 1.1.9 2 2 2h14c1.1 0 2-.9 2-2V5c0-1.1-.9-2-2-2zM9 17H7v-7h2v7zm4 0h-2V7h2v10zm4 0h-2v-4h2v4z\"/>\n",
              "    </g>\n",
              "</svg>\n",
              "  </button>\n",
              "\n",
              "<style>\n",
              "  .colab-df-quickchart {\n",
              "      --bg-color: #E8F0FE;\n",
              "      --fill-color: #1967D2;\n",
              "      --hover-bg-color: #E2EBFA;\n",
              "      --hover-fill-color: #174EA6;\n",
              "      --disabled-fill-color: #AAA;\n",
              "      --disabled-bg-color: #DDD;\n",
              "  }\n",
              "\n",
              "  [theme=dark] .colab-df-quickchart {\n",
              "      --bg-color: #3B4455;\n",
              "      --fill-color: #D2E3FC;\n",
              "      --hover-bg-color: #434B5C;\n",
              "      --hover-fill-color: #FFFFFF;\n",
              "      --disabled-bg-color: #3B4455;\n",
              "      --disabled-fill-color: #666;\n",
              "  }\n",
              "\n",
              "  .colab-df-quickchart {\n",
              "    background-color: var(--bg-color);\n",
              "    border: none;\n",
              "    border-radius: 50%;\n",
              "    cursor: pointer;\n",
              "    display: none;\n",
              "    fill: var(--fill-color);\n",
              "    height: 32px;\n",
              "    padding: 0;\n",
              "    width: 32px;\n",
              "  }\n",
              "\n",
              "  .colab-df-quickchart:hover {\n",
              "    background-color: var(--hover-bg-color);\n",
              "    box-shadow: 0 1px 2px rgba(60, 64, 67, 0.3), 0 1px 3px 1px rgba(60, 64, 67, 0.15);\n",
              "    fill: var(--button-hover-fill-color);\n",
              "  }\n",
              "\n",
              "  .colab-df-quickchart-complete:disabled,\n",
              "  .colab-df-quickchart-complete:disabled:hover {\n",
              "    background-color: var(--disabled-bg-color);\n",
              "    fill: var(--disabled-fill-color);\n",
              "    box-shadow: none;\n",
              "  }\n",
              "\n",
              "  .colab-df-spinner {\n",
              "    border: 2px solid var(--fill-color);\n",
              "    border-color: transparent;\n",
              "    border-bottom-color: var(--fill-color);\n",
              "    animation:\n",
              "      spin 1s steps(1) infinite;\n",
              "  }\n",
              "\n",
              "  @keyframes spin {\n",
              "    0% {\n",
              "      border-color: transparent;\n",
              "      border-bottom-color: var(--fill-color);\n",
              "      border-left-color: var(--fill-color);\n",
              "    }\n",
              "    20% {\n",
              "      border-color: transparent;\n",
              "      border-left-color: var(--fill-color);\n",
              "      border-top-color: var(--fill-color);\n",
              "    }\n",
              "    30% {\n",
              "      border-color: transparent;\n",
              "      border-left-color: var(--fill-color);\n",
              "      border-top-color: var(--fill-color);\n",
              "      border-right-color: var(--fill-color);\n",
              "    }\n",
              "    40% {\n",
              "      border-color: transparent;\n",
              "      border-right-color: var(--fill-color);\n",
              "      border-top-color: var(--fill-color);\n",
              "    }\n",
              "    60% {\n",
              "      border-color: transparent;\n",
              "      border-right-color: var(--fill-color);\n",
              "    }\n",
              "    80% {\n",
              "      border-color: transparent;\n",
              "      border-right-color: var(--fill-color);\n",
              "      border-bottom-color: var(--fill-color);\n",
              "    }\n",
              "    90% {\n",
              "      border-color: transparent;\n",
              "      border-bottom-color: var(--fill-color);\n",
              "    }\n",
              "  }\n",
              "</style>\n",
              "\n",
              "  <script>\n",
              "    async function quickchart(key) {\n",
              "      const quickchartButtonEl =\n",
              "        document.querySelector('#' + key + ' button');\n",
              "      quickchartButtonEl.disabled = true;  // To prevent multiple clicks.\n",
              "      quickchartButtonEl.classList.add('colab-df-spinner');\n",
              "      try {\n",
              "        const charts = await google.colab.kernel.invokeFunction(\n",
              "            'suggestCharts', [key], {});\n",
              "      } catch (error) {\n",
              "        console.error('Error during call to suggestCharts:', error);\n",
              "      }\n",
              "      quickchartButtonEl.classList.remove('colab-df-spinner');\n",
              "      quickchartButtonEl.classList.add('colab-df-quickchart-complete');\n",
              "    }\n",
              "    (() => {\n",
              "      let quickchartButtonEl =\n",
              "        document.querySelector('#df-94fde719-2ea2-408f-ab8d-0f29cb536f93 button');\n",
              "      quickchartButtonEl.style.display =\n",
              "        google.colab.kernel.accessAllowed ? 'block' : 'none';\n",
              "    })();\n",
              "  </script>\n",
              "</div>\n",
              "\n",
              "  <div id=\"id_734ecab3-94de-44d2-a81a-b9c897c33881\">\n",
              "    <style>\n",
              "      .colab-df-generate {\n",
              "        background-color: #E8F0FE;\n",
              "        border: none;\n",
              "        border-radius: 50%;\n",
              "        cursor: pointer;\n",
              "        display: none;\n",
              "        fill: #1967D2;\n",
              "        height: 32px;\n",
              "        padding: 0 0 0 0;\n",
              "        width: 32px;\n",
              "      }\n",
              "\n",
              "      .colab-df-generate:hover {\n",
              "        background-color: #E2EBFA;\n",
              "        box-shadow: 0px 1px 2px rgba(60, 64, 67, 0.3), 0px 1px 3px 1px rgba(60, 64, 67, 0.15);\n",
              "        fill: #174EA6;\n",
              "      }\n",
              "\n",
              "      [theme=dark] .colab-df-generate {\n",
              "        background-color: #3B4455;\n",
              "        fill: #D2E3FC;\n",
              "      }\n",
              "\n",
              "      [theme=dark] .colab-df-generate:hover {\n",
              "        background-color: #434B5C;\n",
              "        box-shadow: 0px 1px 3px 1px rgba(0, 0, 0, 0.15);\n",
              "        filter: drop-shadow(0px 1px 2px rgba(0, 0, 0, 0.3));\n",
              "        fill: #FFFFFF;\n",
              "      }\n",
              "    </style>\n",
              "    <button class=\"colab-df-generate\" onclick=\"generateWithVariable('df')\"\n",
              "            title=\"Generate code using this dataframe.\"\n",
              "            style=\"display:none;\">\n",
              "\n",
              "  <svg xmlns=\"http://www.w3.org/2000/svg\" height=\"24px\"viewBox=\"0 0 24 24\"\n",
              "       width=\"24px\">\n",
              "    <path d=\"M7,19H8.4L18.45,9,17,7.55,7,17.6ZM5,21V16.75L18.45,3.32a2,2,0,0,1,2.83,0l1.4,1.43a1.91,1.91,0,0,1,.58,1.4,1.91,1.91,0,0,1-.58,1.4L9.25,21ZM18.45,9,17,7.55Zm-12,3A5.31,5.31,0,0,0,4.9,8.1,5.31,5.31,0,0,0,1,6.5,5.31,5.31,0,0,0,4.9,4.9,5.31,5.31,0,0,0,6.5,1,5.31,5.31,0,0,0,8.1,4.9,5.31,5.31,0,0,0,12,6.5,5.46,5.46,0,0,0,6.5,12Z\"/>\n",
              "  </svg>\n",
              "    </button>\n",
              "    <script>\n",
              "      (() => {\n",
              "      const buttonEl =\n",
              "        document.querySelector('#id_734ecab3-94de-44d2-a81a-b9c897c33881 button.colab-df-generate');\n",
              "      buttonEl.style.display =\n",
              "        google.colab.kernel.accessAllowed ? 'block' : 'none';\n",
              "\n",
              "      buttonEl.onclick = () => {\n",
              "        google.colab.notebook.generateWithVariable('df');\n",
              "      }\n",
              "      })();\n",
              "    </script>\n",
              "  </div>\n",
              "\n",
              "    </div>\n",
              "  </div>\n"
            ],
            "application/vnd.google.colaboratory.intrinsic+json": {
              "type": "dataframe",
              "variable_name": "df"
            }
          },
          "metadata": {},
          "execution_count": 243
        }
      ],
      "source": [
        "#drop the unwanted column\n",
        "df.drop(['Unnamed: 0'], axis=1, inplace=True)\n",
        "df"
      ]
    },
    {
      "cell_type": "code",
      "execution_count": 244,
      "metadata": {
        "colab": {
          "base_uri": "https://localhost:8080/"
        },
        "id": "hb96qErI_od1",
        "outputId": "47d2f6b7-f9b8-46ca-b826-83917787be51"
      },
      "outputs": [
        {
          "output_type": "execute_result",
          "data": {
            "text/plain": [
              "(1460, 80)"
            ]
          },
          "metadata": {},
          "execution_count": 244
        }
      ],
      "source": [
        "df.shape"
      ]
    },
    {
      "cell_type": "code",
      "execution_count": 245,
      "metadata": {
        "colab": {
          "base_uri": "https://localhost:8080/",
          "height": 349
        },
        "id": "dBfECboRYZHj",
        "outputId": "b51b2f17-cffa-4684-e33f-1528e14a337e"
      },
      "outputs": [
        {
          "output_type": "execute_result",
          "data": {
            "text/plain": [
              "       LotFrontage        LotArea  OverallQual  OverallCond    YearBuilt  \\\n",
              "count  1460.000000    1460.000000  1460.000000  1460.000000  1460.000000   \n",
              "mean     57.623288   10516.828082     6.099315     5.575342  1971.267808   \n",
              "std      34.664304    9981.264932     1.382997     1.112799    30.202904   \n",
              "min       0.000000    1300.000000     1.000000     1.000000  1872.000000   \n",
              "25%      42.000000    7553.500000     5.000000     5.000000  1954.000000   \n",
              "50%      63.000000    9478.500000     6.000000     5.000000  1973.000000   \n",
              "75%      79.000000   11601.500000     7.000000     6.000000  2000.000000   \n",
              "max     313.000000  215245.000000    10.000000     9.000000  2010.000000   \n",
              "\n",
              "       YearRemodAdd   MasVnrArea   BsmtFinSF1   BsmtFinSF2    BsmtUnfSF  ...  \\\n",
              "count   1460.000000  1460.000000  1460.000000  1460.000000  1460.000000  ...   \n",
              "mean    1984.865753   103.117123   443.639726    46.549315   567.240411  ...   \n",
              "std       20.645407   180.731373   456.098091   161.319273   441.866955  ...   \n",
              "min     1950.000000     0.000000     0.000000     0.000000     0.000000  ...   \n",
              "25%     1967.000000     0.000000     0.000000     0.000000   223.000000  ...   \n",
              "50%     1994.000000     0.000000   383.500000     0.000000   477.500000  ...   \n",
              "75%     2004.000000   164.250000   712.250000     0.000000   808.000000  ...   \n",
              "max     2010.000000  1600.000000  5644.000000  1474.000000  2336.000000  ...   \n",
              "\n",
              "        GarageArea   WoodDeckSF  OpenPorchSF  EnclosedPorch    3SsnPorch  \\\n",
              "count  1460.000000  1460.000000  1460.000000    1460.000000  1460.000000   \n",
              "mean    472.980137    94.244521    46.660274      21.954110     3.409589   \n",
              "std     213.804841   125.338794    66.256028      61.119149    29.317331   \n",
              "min       0.000000     0.000000     0.000000       0.000000     0.000000   \n",
              "25%     334.500000     0.000000     0.000000       0.000000     0.000000   \n",
              "50%     480.000000     0.000000    25.000000       0.000000     0.000000   \n",
              "75%     576.000000   168.000000    68.000000       0.000000     0.000000   \n",
              "max    1418.000000   857.000000   547.000000     552.000000   508.000000   \n",
              "\n",
              "       ScreenPorch     PoolArea       MiscVal       YrSold      SalePrice  \n",
              "count  1460.000000  1460.000000   1460.000000  1460.000000    1460.000000  \n",
              "mean     15.060959     2.758904     43.489041  2007.815753  180921.195890  \n",
              "std      55.757415    40.177307    496.123024     1.328095   79442.502883  \n",
              "min       0.000000     0.000000      0.000000  2006.000000   34900.000000  \n",
              "25%       0.000000     0.000000      0.000000  2007.000000  129975.000000  \n",
              "50%       0.000000     0.000000      0.000000  2008.000000  163000.000000  \n",
              "75%       0.000000     0.000000      0.000000  2009.000000  214000.000000  \n",
              "max     480.000000   738.000000  15500.000000  2010.000000  755000.000000  \n",
              "\n",
              "[8 rows x 35 columns]"
            ],
            "text/html": [
              "\n",
              "  <div id=\"df-879fab88-6c4f-4629-9e9f-436335ead9dc\" class=\"colab-df-container\">\n",
              "    <div>\n",
              "<style scoped>\n",
              "    .dataframe tbody tr th:only-of-type {\n",
              "        vertical-align: middle;\n",
              "    }\n",
              "\n",
              "    .dataframe tbody tr th {\n",
              "        vertical-align: top;\n",
              "    }\n",
              "\n",
              "    .dataframe thead th {\n",
              "        text-align: right;\n",
              "    }\n",
              "</style>\n",
              "<table border=\"1\" class=\"dataframe\">\n",
              "  <thead>\n",
              "    <tr style=\"text-align: right;\">\n",
              "      <th></th>\n",
              "      <th>LotFrontage</th>\n",
              "      <th>LotArea</th>\n",
              "      <th>OverallQual</th>\n",
              "      <th>OverallCond</th>\n",
              "      <th>YearBuilt</th>\n",
              "      <th>YearRemodAdd</th>\n",
              "      <th>MasVnrArea</th>\n",
              "      <th>BsmtFinSF1</th>\n",
              "      <th>BsmtFinSF2</th>\n",
              "      <th>BsmtUnfSF</th>\n",
              "      <th>...</th>\n",
              "      <th>GarageArea</th>\n",
              "      <th>WoodDeckSF</th>\n",
              "      <th>OpenPorchSF</th>\n",
              "      <th>EnclosedPorch</th>\n",
              "      <th>3SsnPorch</th>\n",
              "      <th>ScreenPorch</th>\n",
              "      <th>PoolArea</th>\n",
              "      <th>MiscVal</th>\n",
              "      <th>YrSold</th>\n",
              "      <th>SalePrice</th>\n",
              "    </tr>\n",
              "  </thead>\n",
              "  <tbody>\n",
              "    <tr>\n",
              "      <th>count</th>\n",
              "      <td>1460.000000</td>\n",
              "      <td>1460.000000</td>\n",
              "      <td>1460.000000</td>\n",
              "      <td>1460.000000</td>\n",
              "      <td>1460.000000</td>\n",
              "      <td>1460.000000</td>\n",
              "      <td>1460.000000</td>\n",
              "      <td>1460.000000</td>\n",
              "      <td>1460.000000</td>\n",
              "      <td>1460.000000</td>\n",
              "      <td>...</td>\n",
              "      <td>1460.000000</td>\n",
              "      <td>1460.000000</td>\n",
              "      <td>1460.000000</td>\n",
              "      <td>1460.000000</td>\n",
              "      <td>1460.000000</td>\n",
              "      <td>1460.000000</td>\n",
              "      <td>1460.000000</td>\n",
              "      <td>1460.000000</td>\n",
              "      <td>1460.000000</td>\n",
              "      <td>1460.000000</td>\n",
              "    </tr>\n",
              "    <tr>\n",
              "      <th>mean</th>\n",
              "      <td>57.623288</td>\n",
              "      <td>10516.828082</td>\n",
              "      <td>6.099315</td>\n",
              "      <td>5.575342</td>\n",
              "      <td>1971.267808</td>\n",
              "      <td>1984.865753</td>\n",
              "      <td>103.117123</td>\n",
              "      <td>443.639726</td>\n",
              "      <td>46.549315</td>\n",
              "      <td>567.240411</td>\n",
              "      <td>...</td>\n",
              "      <td>472.980137</td>\n",
              "      <td>94.244521</td>\n",
              "      <td>46.660274</td>\n",
              "      <td>21.954110</td>\n",
              "      <td>3.409589</td>\n",
              "      <td>15.060959</td>\n",
              "      <td>2.758904</td>\n",
              "      <td>43.489041</td>\n",
              "      <td>2007.815753</td>\n",
              "      <td>180921.195890</td>\n",
              "    </tr>\n",
              "    <tr>\n",
              "      <th>std</th>\n",
              "      <td>34.664304</td>\n",
              "      <td>9981.264932</td>\n",
              "      <td>1.382997</td>\n",
              "      <td>1.112799</td>\n",
              "      <td>30.202904</td>\n",
              "      <td>20.645407</td>\n",
              "      <td>180.731373</td>\n",
              "      <td>456.098091</td>\n",
              "      <td>161.319273</td>\n",
              "      <td>441.866955</td>\n",
              "      <td>...</td>\n",
              "      <td>213.804841</td>\n",
              "      <td>125.338794</td>\n",
              "      <td>66.256028</td>\n",
              "      <td>61.119149</td>\n",
              "      <td>29.317331</td>\n",
              "      <td>55.757415</td>\n",
              "      <td>40.177307</td>\n",
              "      <td>496.123024</td>\n",
              "      <td>1.328095</td>\n",
              "      <td>79442.502883</td>\n",
              "    </tr>\n",
              "    <tr>\n",
              "      <th>min</th>\n",
              "      <td>0.000000</td>\n",
              "      <td>1300.000000</td>\n",
              "      <td>1.000000</td>\n",
              "      <td>1.000000</td>\n",
              "      <td>1872.000000</td>\n",
              "      <td>1950.000000</td>\n",
              "      <td>0.000000</td>\n",
              "      <td>0.000000</td>\n",
              "      <td>0.000000</td>\n",
              "      <td>0.000000</td>\n",
              "      <td>...</td>\n",
              "      <td>0.000000</td>\n",
              "      <td>0.000000</td>\n",
              "      <td>0.000000</td>\n",
              "      <td>0.000000</td>\n",
              "      <td>0.000000</td>\n",
              "      <td>0.000000</td>\n",
              "      <td>0.000000</td>\n",
              "      <td>0.000000</td>\n",
              "      <td>2006.000000</td>\n",
              "      <td>34900.000000</td>\n",
              "    </tr>\n",
              "    <tr>\n",
              "      <th>25%</th>\n",
              "      <td>42.000000</td>\n",
              "      <td>7553.500000</td>\n",
              "      <td>5.000000</td>\n",
              "      <td>5.000000</td>\n",
              "      <td>1954.000000</td>\n",
              "      <td>1967.000000</td>\n",
              "      <td>0.000000</td>\n",
              "      <td>0.000000</td>\n",
              "      <td>0.000000</td>\n",
              "      <td>223.000000</td>\n",
              "      <td>...</td>\n",
              "      <td>334.500000</td>\n",
              "      <td>0.000000</td>\n",
              "      <td>0.000000</td>\n",
              "      <td>0.000000</td>\n",
              "      <td>0.000000</td>\n",
              "      <td>0.000000</td>\n",
              "      <td>0.000000</td>\n",
              "      <td>0.000000</td>\n",
              "      <td>2007.000000</td>\n",
              "      <td>129975.000000</td>\n",
              "    </tr>\n",
              "    <tr>\n",
              "      <th>50%</th>\n",
              "      <td>63.000000</td>\n",
              "      <td>9478.500000</td>\n",
              "      <td>6.000000</td>\n",
              "      <td>5.000000</td>\n",
              "      <td>1973.000000</td>\n",
              "      <td>1994.000000</td>\n",
              "      <td>0.000000</td>\n",
              "      <td>383.500000</td>\n",
              "      <td>0.000000</td>\n",
              "      <td>477.500000</td>\n",
              "      <td>...</td>\n",
              "      <td>480.000000</td>\n",
              "      <td>0.000000</td>\n",
              "      <td>25.000000</td>\n",
              "      <td>0.000000</td>\n",
              "      <td>0.000000</td>\n",
              "      <td>0.000000</td>\n",
              "      <td>0.000000</td>\n",
              "      <td>0.000000</td>\n",
              "      <td>2008.000000</td>\n",
              "      <td>163000.000000</td>\n",
              "    </tr>\n",
              "    <tr>\n",
              "      <th>75%</th>\n",
              "      <td>79.000000</td>\n",
              "      <td>11601.500000</td>\n",
              "      <td>7.000000</td>\n",
              "      <td>6.000000</td>\n",
              "      <td>2000.000000</td>\n",
              "      <td>2004.000000</td>\n",
              "      <td>164.250000</td>\n",
              "      <td>712.250000</td>\n",
              "      <td>0.000000</td>\n",
              "      <td>808.000000</td>\n",
              "      <td>...</td>\n",
              "      <td>576.000000</td>\n",
              "      <td>168.000000</td>\n",
              "      <td>68.000000</td>\n",
              "      <td>0.000000</td>\n",
              "      <td>0.000000</td>\n",
              "      <td>0.000000</td>\n",
              "      <td>0.000000</td>\n",
              "      <td>0.000000</td>\n",
              "      <td>2009.000000</td>\n",
              "      <td>214000.000000</td>\n",
              "    </tr>\n",
              "    <tr>\n",
              "      <th>max</th>\n",
              "      <td>313.000000</td>\n",
              "      <td>215245.000000</td>\n",
              "      <td>10.000000</td>\n",
              "      <td>9.000000</td>\n",
              "      <td>2010.000000</td>\n",
              "      <td>2010.000000</td>\n",
              "      <td>1600.000000</td>\n",
              "      <td>5644.000000</td>\n",
              "      <td>1474.000000</td>\n",
              "      <td>2336.000000</td>\n",
              "      <td>...</td>\n",
              "      <td>1418.000000</td>\n",
              "      <td>857.000000</td>\n",
              "      <td>547.000000</td>\n",
              "      <td>552.000000</td>\n",
              "      <td>508.000000</td>\n",
              "      <td>480.000000</td>\n",
              "      <td>738.000000</td>\n",
              "      <td>15500.000000</td>\n",
              "      <td>2010.000000</td>\n",
              "      <td>755000.000000</td>\n",
              "    </tr>\n",
              "  </tbody>\n",
              "</table>\n",
              "<p>8 rows × 35 columns</p>\n",
              "</div>\n",
              "    <div class=\"colab-df-buttons\">\n",
              "\n",
              "  <div class=\"colab-df-container\">\n",
              "    <button class=\"colab-df-convert\" onclick=\"convertToInteractive('df-879fab88-6c4f-4629-9e9f-436335ead9dc')\"\n",
              "            title=\"Convert this dataframe to an interactive table.\"\n",
              "            style=\"display:none;\">\n",
              "\n",
              "  <svg xmlns=\"http://www.w3.org/2000/svg\" height=\"24px\" viewBox=\"0 -960 960 960\">\n",
              "    <path d=\"M120-120v-720h720v720H120Zm60-500h600v-160H180v160Zm220 220h160v-160H400v160Zm0 220h160v-160H400v160ZM180-400h160v-160H180v160Zm440 0h160v-160H620v160ZM180-180h160v-160H180v160Zm440 0h160v-160H620v160Z\"/>\n",
              "  </svg>\n",
              "    </button>\n",
              "\n",
              "  <style>\n",
              "    .colab-df-container {\n",
              "      display:flex;\n",
              "      gap: 12px;\n",
              "    }\n",
              "\n",
              "    .colab-df-convert {\n",
              "      background-color: #E8F0FE;\n",
              "      border: none;\n",
              "      border-radius: 50%;\n",
              "      cursor: pointer;\n",
              "      display: none;\n",
              "      fill: #1967D2;\n",
              "      height: 32px;\n",
              "      padding: 0 0 0 0;\n",
              "      width: 32px;\n",
              "    }\n",
              "\n",
              "    .colab-df-convert:hover {\n",
              "      background-color: #E2EBFA;\n",
              "      box-shadow: 0px 1px 2px rgba(60, 64, 67, 0.3), 0px 1px 3px 1px rgba(60, 64, 67, 0.15);\n",
              "      fill: #174EA6;\n",
              "    }\n",
              "\n",
              "    .colab-df-buttons div {\n",
              "      margin-bottom: 4px;\n",
              "    }\n",
              "\n",
              "    [theme=dark] .colab-df-convert {\n",
              "      background-color: #3B4455;\n",
              "      fill: #D2E3FC;\n",
              "    }\n",
              "\n",
              "    [theme=dark] .colab-df-convert:hover {\n",
              "      background-color: #434B5C;\n",
              "      box-shadow: 0px 1px 3px 1px rgba(0, 0, 0, 0.15);\n",
              "      filter: drop-shadow(0px 1px 2px rgba(0, 0, 0, 0.3));\n",
              "      fill: #FFFFFF;\n",
              "    }\n",
              "  </style>\n",
              "\n",
              "    <script>\n",
              "      const buttonEl =\n",
              "        document.querySelector('#df-879fab88-6c4f-4629-9e9f-436335ead9dc button.colab-df-convert');\n",
              "      buttonEl.style.display =\n",
              "        google.colab.kernel.accessAllowed ? 'block' : 'none';\n",
              "\n",
              "      async function convertToInteractive(key) {\n",
              "        const element = document.querySelector('#df-879fab88-6c4f-4629-9e9f-436335ead9dc');\n",
              "        const dataTable =\n",
              "          await google.colab.kernel.invokeFunction('convertToInteractive',\n",
              "                                                    [key], {});\n",
              "        if (!dataTable) return;\n",
              "\n",
              "        const docLinkHtml = 'Like what you see? Visit the ' +\n",
              "          '<a target=\"_blank\" href=https://colab.research.google.com/notebooks/data_table.ipynb>data table notebook</a>'\n",
              "          + ' to learn more about interactive tables.';\n",
              "        element.innerHTML = '';\n",
              "        dataTable['output_type'] = 'display_data';\n",
              "        await google.colab.output.renderOutput(dataTable, element);\n",
              "        const docLink = document.createElement('div');\n",
              "        docLink.innerHTML = docLinkHtml;\n",
              "        element.appendChild(docLink);\n",
              "      }\n",
              "    </script>\n",
              "  </div>\n",
              "\n",
              "\n",
              "<div id=\"df-21e71ed4-c4bc-45f5-b148-e8bba8fda167\">\n",
              "  <button class=\"colab-df-quickchart\" onclick=\"quickchart('df-21e71ed4-c4bc-45f5-b148-e8bba8fda167')\"\n",
              "            title=\"Suggest charts\"\n",
              "            style=\"display:none;\">\n",
              "\n",
              "<svg xmlns=\"http://www.w3.org/2000/svg\" height=\"24px\"viewBox=\"0 0 24 24\"\n",
              "     width=\"24px\">\n",
              "    <g>\n",
              "        <path d=\"M19 3H5c-1.1 0-2 .9-2 2v14c0 1.1.9 2 2 2h14c1.1 0 2-.9 2-2V5c0-1.1-.9-2-2-2zM9 17H7v-7h2v7zm4 0h-2V7h2v10zm4 0h-2v-4h2v4z\"/>\n",
              "    </g>\n",
              "</svg>\n",
              "  </button>\n",
              "\n",
              "<style>\n",
              "  .colab-df-quickchart {\n",
              "      --bg-color: #E8F0FE;\n",
              "      --fill-color: #1967D2;\n",
              "      --hover-bg-color: #E2EBFA;\n",
              "      --hover-fill-color: #174EA6;\n",
              "      --disabled-fill-color: #AAA;\n",
              "      --disabled-bg-color: #DDD;\n",
              "  }\n",
              "\n",
              "  [theme=dark] .colab-df-quickchart {\n",
              "      --bg-color: #3B4455;\n",
              "      --fill-color: #D2E3FC;\n",
              "      --hover-bg-color: #434B5C;\n",
              "      --hover-fill-color: #FFFFFF;\n",
              "      --disabled-bg-color: #3B4455;\n",
              "      --disabled-fill-color: #666;\n",
              "  }\n",
              "\n",
              "  .colab-df-quickchart {\n",
              "    background-color: var(--bg-color);\n",
              "    border: none;\n",
              "    border-radius: 50%;\n",
              "    cursor: pointer;\n",
              "    display: none;\n",
              "    fill: var(--fill-color);\n",
              "    height: 32px;\n",
              "    padding: 0;\n",
              "    width: 32px;\n",
              "  }\n",
              "\n",
              "  .colab-df-quickchart:hover {\n",
              "    background-color: var(--hover-bg-color);\n",
              "    box-shadow: 0 1px 2px rgba(60, 64, 67, 0.3), 0 1px 3px 1px rgba(60, 64, 67, 0.15);\n",
              "    fill: var(--button-hover-fill-color);\n",
              "  }\n",
              "\n",
              "  .colab-df-quickchart-complete:disabled,\n",
              "  .colab-df-quickchart-complete:disabled:hover {\n",
              "    background-color: var(--disabled-bg-color);\n",
              "    fill: var(--disabled-fill-color);\n",
              "    box-shadow: none;\n",
              "  }\n",
              "\n",
              "  .colab-df-spinner {\n",
              "    border: 2px solid var(--fill-color);\n",
              "    border-color: transparent;\n",
              "    border-bottom-color: var(--fill-color);\n",
              "    animation:\n",
              "      spin 1s steps(1) infinite;\n",
              "  }\n",
              "\n",
              "  @keyframes spin {\n",
              "    0% {\n",
              "      border-color: transparent;\n",
              "      border-bottom-color: var(--fill-color);\n",
              "      border-left-color: var(--fill-color);\n",
              "    }\n",
              "    20% {\n",
              "      border-color: transparent;\n",
              "      border-left-color: var(--fill-color);\n",
              "      border-top-color: var(--fill-color);\n",
              "    }\n",
              "    30% {\n",
              "      border-color: transparent;\n",
              "      border-left-color: var(--fill-color);\n",
              "      border-top-color: var(--fill-color);\n",
              "      border-right-color: var(--fill-color);\n",
              "    }\n",
              "    40% {\n",
              "      border-color: transparent;\n",
              "      border-right-color: var(--fill-color);\n",
              "      border-top-color: var(--fill-color);\n",
              "    }\n",
              "    60% {\n",
              "      border-color: transparent;\n",
              "      border-right-color: var(--fill-color);\n",
              "    }\n",
              "    80% {\n",
              "      border-color: transparent;\n",
              "      border-right-color: var(--fill-color);\n",
              "      border-bottom-color: var(--fill-color);\n",
              "    }\n",
              "    90% {\n",
              "      border-color: transparent;\n",
              "      border-bottom-color: var(--fill-color);\n",
              "    }\n",
              "  }\n",
              "</style>\n",
              "\n",
              "  <script>\n",
              "    async function quickchart(key) {\n",
              "      const quickchartButtonEl =\n",
              "        document.querySelector('#' + key + ' button');\n",
              "      quickchartButtonEl.disabled = true;  // To prevent multiple clicks.\n",
              "      quickchartButtonEl.classList.add('colab-df-spinner');\n",
              "      try {\n",
              "        const charts = await google.colab.kernel.invokeFunction(\n",
              "            'suggestCharts', [key], {});\n",
              "      } catch (error) {\n",
              "        console.error('Error during call to suggestCharts:', error);\n",
              "      }\n",
              "      quickchartButtonEl.classList.remove('colab-df-spinner');\n",
              "      quickchartButtonEl.classList.add('colab-df-quickchart-complete');\n",
              "    }\n",
              "    (() => {\n",
              "      let quickchartButtonEl =\n",
              "        document.querySelector('#df-21e71ed4-c4bc-45f5-b148-e8bba8fda167 button');\n",
              "      quickchartButtonEl.style.display =\n",
              "        google.colab.kernel.accessAllowed ? 'block' : 'none';\n",
              "    })();\n",
              "  </script>\n",
              "</div>\n",
              "\n",
              "    </div>\n",
              "  </div>\n"
            ],
            "application/vnd.google.colaboratory.intrinsic+json": {
              "type": "dataframe"
            }
          },
          "metadata": {},
          "execution_count": 245
        }
      ],
      "source": [
        "# summary statistics\n",
        "\n",
        "df.describe()"
      ]
    },
    {
      "cell_type": "code",
      "execution_count": 246,
      "metadata": {
        "colab": {
          "base_uri": "https://localhost:8080/"
        },
        "id": "5lKokI66YmV5",
        "outputId": "e1f0a1ad-f644-4a94-f4e0-e0be00829390"
      },
      "outputs": [
        {
          "output_type": "stream",
          "name": "stdout",
          "text": [
            "<class 'pandas.core.frame.DataFrame'>\n",
            "RangeIndex: 1460 entries, 0 to 1459\n",
            "Data columns (total 80 columns):\n",
            " #   Column         Non-Null Count  Dtype  \n",
            "---  ------         --------------  -----  \n",
            " 0   MSSubClass     1460 non-null   object \n",
            " 1   MSZoning       1460 non-null   object \n",
            " 2   LotFrontage    1460 non-null   int64  \n",
            " 3   LotArea        1460 non-null   int64  \n",
            " 4   Street         1460 non-null   object \n",
            " 5   Alley          91 non-null     object \n",
            " 6   LotShape       1460 non-null   object \n",
            " 7   LandContour    1460 non-null   object \n",
            " 8   Utilities      1460 non-null   object \n",
            " 9   LotConfig      1460 non-null   object \n",
            " 10  LandSlope      1460 non-null   object \n",
            " 11  Neighborhood   1460 non-null   object \n",
            " 12  Condition1     1460 non-null   object \n",
            " 13  Condition2     1460 non-null   object \n",
            " 14  BldgType       1460 non-null   object \n",
            " 15  HouseStyle     1460 non-null   object \n",
            " 16  OverallQual    1460 non-null   int64  \n",
            " 17  OverallCond    1460 non-null   int64  \n",
            " 18  YearBuilt      1460 non-null   int64  \n",
            " 19  YearRemodAdd   1460 non-null   int64  \n",
            " 20  RoofStyle      1460 non-null   object \n",
            " 21  RoofMatl       1460 non-null   object \n",
            " 22  Exterior1st    1460 non-null   object \n",
            " 23  Exterior2nd    1460 non-null   object \n",
            " 24  MasVnrType     588 non-null    object \n",
            " 25  MasVnrArea     1460 non-null   int64  \n",
            " 26  ExterQual      1460 non-null   object \n",
            " 27  ExterCond      1460 non-null   object \n",
            " 28  Foundation     1460 non-null   object \n",
            " 29  BsmtQual       1460 non-null   object \n",
            " 30  BsmtCond       1460 non-null   object \n",
            " 31  BsmtExposure   1460 non-null   object \n",
            " 32  BsmtFinType1   1460 non-null   object \n",
            " 33  BsmtFinSF1     1460 non-null   int64  \n",
            " 34  BsmtFinType2   1460 non-null   object \n",
            " 35  BsmtFinSF2     1460 non-null   int64  \n",
            " 36  BsmtUnfSF      1460 non-null   int64  \n",
            " 37  TotalBsmtSF    1460 non-null   int64  \n",
            " 38  Heating        1460 non-null   object \n",
            " 39  HeatingQC      1460 non-null   object \n",
            " 40  CentralAir     1460 non-null   object \n",
            " 41  Electrical     1459 non-null   object \n",
            " 42  1stFlrSF       1460 non-null   int64  \n",
            " 43  2ndFlrSF       1460 non-null   int64  \n",
            " 44  LowQualFinSF   1460 non-null   int64  \n",
            " 45  GrLivArea      1460 non-null   int64  \n",
            " 46  BsmtFullBath   1460 non-null   int64  \n",
            " 47  BsmtHalfBath   1460 non-null   int64  \n",
            " 48  FullBath       1460 non-null   int64  \n",
            " 49  HalfBath       1460 non-null   int64  \n",
            " 50  BedroomAbvGr   1460 non-null   int64  \n",
            " 51  KitchenAbvGr   1460 non-null   int64  \n",
            " 52  KitchenQual    1460 non-null   object \n",
            " 53  TotRmsAbvGrd   1460 non-null   int64  \n",
            " 54  Functional     1460 non-null   object \n",
            " 55  Fireplaces     1460 non-null   int64  \n",
            " 56  FireplaceQu    1460 non-null   object \n",
            " 57  GarageType     1460 non-null   object \n",
            " 58  GarageYrBlt    1379 non-null   float64\n",
            " 59  GarageFinish   1460 non-null   object \n",
            " 60  GarageCars     1460 non-null   int64  \n",
            " 61  GarageArea     1460 non-null   int64  \n",
            " 62  GarageQual     1460 non-null   object \n",
            " 63  GarageCond     1460 non-null   object \n",
            " 64  PavedDrive     1460 non-null   object \n",
            " 65  WoodDeckSF     1460 non-null   int64  \n",
            " 66  OpenPorchSF    1460 non-null   int64  \n",
            " 67  EnclosedPorch  1460 non-null   int64  \n",
            " 68  3SsnPorch      1460 non-null   int64  \n",
            " 69  ScreenPorch    1460 non-null   int64  \n",
            " 70  PoolArea       1460 non-null   int64  \n",
            " 71  PoolQC         1460 non-null   object \n",
            " 72  Fence          1460 non-null   object \n",
            " 73  MiscFeature    1460 non-null   object \n",
            " 74  MiscVal        1460 non-null   int64  \n",
            " 75  MoSold         1460 non-null   object \n",
            " 76  YrSold         1460 non-null   int64  \n",
            " 77  SaleType       1460 non-null   object \n",
            " 78  SaleCondition  1460 non-null   object \n",
            " 79  SalePrice      1460 non-null   int64  \n",
            "dtypes: float64(1), int64(34), object(45)\n",
            "memory usage: 912.6+ KB\n"
          ]
        }
      ],
      "source": [
        "# what is the info in my data\n",
        "df.info()"
      ]
    },
    {
      "cell_type": "code",
      "execution_count": 247,
      "metadata": {
        "colab": {
          "base_uri": "https://localhost:8080/"
        },
        "id": "_DBknCj2_2v9",
        "outputId": "6e05d76f-cd04-4cd0-dc54-c0570357351e"
      },
      "outputs": [
        {
          "output_type": "execute_result",
          "data": {
            "text/plain": [
              "MSSubClass       0\n",
              "MSZoning         0\n",
              "LotFrontage      0\n",
              "LotArea          0\n",
              "Street           0\n",
              "                ..\n",
              "MoSold           0\n",
              "YrSold           0\n",
              "SaleType         0\n",
              "SaleCondition    0\n",
              "SalePrice        0\n",
              "Length: 80, dtype: int64"
            ]
          },
          "metadata": {},
          "execution_count": 247
        }
      ],
      "source": [
        "# finding null values\n",
        "df.isnull().sum()"
      ]
    },
    {
      "cell_type": "code",
      "execution_count": 248,
      "metadata": {
        "colab": {
          "base_uri": "https://localhost:8080/"
        },
        "id": "VNH7IPUEAGYI",
        "outputId": "d530b7e6-5197-4664-f399-3caa7e0585cd"
      },
      "outputs": [
        {
          "output_type": "stream",
          "name": "stdout",
          "text": [
            "Column 'MSSubClass': 0 null values\n",
            "Column 'MSZoning': 0 null values\n",
            "Column 'LotFrontage': 0 null values\n",
            "Column 'LotArea': 0 null values\n",
            "Column 'Street': 0 null values\n",
            "Column 'Alley': 1369 null values\n",
            "Column 'LotShape': 0 null values\n",
            "Column 'LandContour': 0 null values\n",
            "Column 'Utilities': 0 null values\n",
            "Column 'LotConfig': 0 null values\n",
            "Column 'LandSlope': 0 null values\n",
            "Column 'Neighborhood': 0 null values\n",
            "Column 'Condition1': 0 null values\n",
            "Column 'Condition2': 0 null values\n",
            "Column 'BldgType': 0 null values\n",
            "Column 'HouseStyle': 0 null values\n",
            "Column 'OverallQual': 0 null values\n",
            "Column 'OverallCond': 0 null values\n",
            "Column 'YearBuilt': 0 null values\n",
            "Column 'YearRemodAdd': 0 null values\n",
            "Column 'RoofStyle': 0 null values\n",
            "Column 'RoofMatl': 0 null values\n",
            "Column 'Exterior1st': 0 null values\n",
            "Column 'Exterior2nd': 0 null values\n",
            "Column 'MasVnrType': 872 null values\n",
            "Column 'MasVnrArea': 0 null values\n",
            "Column 'ExterQual': 0 null values\n",
            "Column 'ExterCond': 0 null values\n",
            "Column 'Foundation': 0 null values\n",
            "Column 'BsmtQual': 0 null values\n",
            "Column 'BsmtCond': 0 null values\n",
            "Column 'BsmtExposure': 0 null values\n",
            "Column 'BsmtFinType1': 0 null values\n",
            "Column 'BsmtFinSF1': 0 null values\n",
            "Column 'BsmtFinType2': 0 null values\n",
            "Column 'BsmtFinSF2': 0 null values\n",
            "Column 'BsmtUnfSF': 0 null values\n",
            "Column 'TotalBsmtSF': 0 null values\n",
            "Column 'Heating': 0 null values\n",
            "Column 'HeatingQC': 0 null values\n",
            "Column 'CentralAir': 0 null values\n",
            "Column 'Electrical': 1 null values\n",
            "Column '1stFlrSF': 0 null values\n",
            "Column '2ndFlrSF': 0 null values\n",
            "Column 'LowQualFinSF': 0 null values\n",
            "Column 'GrLivArea': 0 null values\n",
            "Column 'BsmtFullBath': 0 null values\n",
            "Column 'BsmtHalfBath': 0 null values\n",
            "Column 'FullBath': 0 null values\n",
            "Column 'HalfBath': 0 null values\n",
            "Column 'BedroomAbvGr': 0 null values\n",
            "Column 'KitchenAbvGr': 0 null values\n",
            "Column 'KitchenQual': 0 null values\n",
            "Column 'TotRmsAbvGrd': 0 null values\n",
            "Column 'Functional': 0 null values\n",
            "Column 'Fireplaces': 0 null values\n",
            "Column 'FireplaceQu': 0 null values\n",
            "Column 'GarageType': 0 null values\n",
            "Column 'GarageYrBlt': 81 null values\n",
            "Column 'GarageFinish': 0 null values\n",
            "Column 'GarageCars': 0 null values\n",
            "Column 'GarageArea': 0 null values\n",
            "Column 'GarageQual': 0 null values\n",
            "Column 'GarageCond': 0 null values\n",
            "Column 'PavedDrive': 0 null values\n",
            "Column 'WoodDeckSF': 0 null values\n",
            "Column 'OpenPorchSF': 0 null values\n",
            "Column 'EnclosedPorch': 0 null values\n",
            "Column '3SsnPorch': 0 null values\n",
            "Column 'ScreenPorch': 0 null values\n",
            "Column 'PoolArea': 0 null values\n",
            "Column 'PoolQC': 0 null values\n",
            "Column 'Fence': 0 null values\n",
            "Column 'MiscFeature': 0 null values\n",
            "Column 'MiscVal': 0 null values\n",
            "Column 'MoSold': 0 null values\n",
            "Column 'YrSold': 0 null values\n",
            "Column 'SaleType': 0 null values\n",
            "Column 'SaleCondition': 0 null values\n",
            "Column 'SalePrice': 0 null values\n"
          ]
        }
      ],
      "source": [
        "null_values = df.isnull()\n",
        "null_counts = null_values.sum()\n",
        "null_counts\n",
        "\n",
        "for column, count in null_counts.items():\n",
        "    print(f\"Column '{column}': {count} null values\")"
      ]
    },
    {
      "cell_type": "code",
      "source": [
        "# Renaming columns\n",
        "df = df.rename(columns={\n",
        "    'MSSubClass': 'PropertySubClass',\n",
        "    'MSZoning': 'PropertyZone',\n",
        "     'LotFrontage': 'PropertyFrontage',\n",
        "    'LotArea': 'PropertyArea',\n",
        "    'LotShape': 'PropertyShape',\n",
        "    'LandContour': 'PropertyContour',\n",
        "    'LotConfig': 'PropertyConfig',\n",
        "    'LandSlope': 'PropertySlope',\n",
        "    'MasVnrType': 'MasonryVeneerType',\n",
        "    'MasVnrArea':'MasonryVeneerArea',\n",
        "    'BsmtQual':'BasementQuality',\n",
        "    'BsmtCond': 'BasementCondition',\n",
        "    'BsmtExposure': 'BasementExposure',\n",
        "    'BsmtFinType1':'BasementFinishType1',\n",
        "    'BsmtFinType2':'BasementFinishType2',\n",
        "    'BsmtFinSF1':'BasementFinishSquareFeet1',\n",
        "    'BsmtFinSF2':'BasementFinishSquareFeet2',\n",
        "    'BsmtUnfSF': 'BasementUnFinishSquareFeet',\n",
        "    'TotalBsmtSF': 'TotalBasementSquareFeet',\n",
        "    'GrLivArea': 'AboveGradeGroundLiving Area',\n",
        "    'BsmtFullBath':'BasementFullBath',\n",
        "    'BsmtHalfBath':'BasementHalfBath',\n",
        "    'TotRmsAbvGrd': 'TotalRoomsAboveGrade',\n",
        "    '1stFlrSF': 'FirstFloorSquareFeet',\n",
        "    '2ndFlrSF':'SecondFloorSquareFeet',\n",
        "    '3SsnPorch': 'ThreeSeasonPorchArea'\n",
        "\n",
        "})"
      ],
      "metadata": {
        "id": "lGjjfi4MemI5"
      },
      "execution_count": 249,
      "outputs": []
    },
    {
      "cell_type": "code",
      "source": [
        "df.columns"
      ],
      "metadata": {
        "colab": {
          "base_uri": "https://localhost:8080/"
        },
        "id": "X1PMM78Vigm2",
        "outputId": "ee3eefbe-dcb4-4752-a52f-c625f43570ed"
      },
      "execution_count": 250,
      "outputs": [
        {
          "output_type": "execute_result",
          "data": {
            "text/plain": [
              "Index(['PropertySubClass', 'PropertyZone', 'PropertyFrontage', 'PropertyArea',\n",
              "       'Street', 'Alley', 'PropertyShape', 'PropertyContour', 'Utilities',\n",
              "       'PropertyConfig', 'PropertySlope', 'Neighborhood', 'Condition1',\n",
              "       'Condition2', 'BldgType', 'HouseStyle', 'OverallQual', 'OverallCond',\n",
              "       'YearBuilt', 'YearRemodAdd', 'RoofStyle', 'RoofMatl', 'Exterior1st',\n",
              "       'Exterior2nd', 'MasonryVeneerType', 'MasonryVeneerArea', 'ExterQual',\n",
              "       'ExterCond', 'Foundation', 'BasementQuality', 'BasementCondition',\n",
              "       'BasementExposure', 'BasementFinishType1', 'BasementFinishSquareFeet1',\n",
              "       'BasementFinishType2', 'BasementFinishSquareFeet2',\n",
              "       'BasementUnFinishSquareFeet', 'TotalBasementSquareFeet', 'Heating',\n",
              "       'HeatingQC', 'CentralAir', 'Electrical', 'FirstFloorSquareFeet',\n",
              "       'SecondFloorSquareFeet', 'LowQualFinSF', 'AboveGradeGroundLiving Area',\n",
              "       'BasementFullBath', 'BasementHalfBath', 'FullBath', 'HalfBath',\n",
              "       'BedroomAbvGr', 'KitchenAbvGr', 'KitchenQual', 'TotalRoomsAboveGrade',\n",
              "       'Functional', 'Fireplaces', 'FireplaceQu', 'GarageType', 'GarageYrBlt',\n",
              "       'GarageFinish', 'GarageCars', 'GarageArea', 'GarageQual', 'GarageCond',\n",
              "       'PavedDrive', 'WoodDeckSF', 'OpenPorchSF', 'EnclosedPorch',\n",
              "       'ThreeSeasonPorchArea', 'ScreenPorch', 'PoolArea', 'PoolQC', 'Fence',\n",
              "       'MiscFeature', 'MiscVal', 'MoSold', 'YrSold', 'SaleType',\n",
              "       'SaleCondition', 'SalePrice'],\n",
              "      dtype='object')"
            ]
          },
          "metadata": {},
          "execution_count": 250
        }
      ]
    },
    {
      "cell_type": "code",
      "source": [
        "# find unique values in label\n",
        "df['PropertySubClass'].unique()"
      ],
      "metadata": {
        "colab": {
          "base_uri": "https://localhost:8080/"
        },
        "id": "c5-ODHVYjMSH",
        "outputId": "a301d1c9-2fdc-4f05-d7c5-15f076f5df0b"
      },
      "execution_count": 251,
      "outputs": [
        {
          "output_type": "execute_result",
          "data": {
            "text/plain": [
              "array(['SC60', 'SC20', 'SC70', 'SC50', 'SC190', 'SC45', 'SC90', 'SC120',\n",
              "       'SC30', 'SC85', 'SC80', 'SC160', 'SC75', 'SC180', 'SC40'],\n",
              "      dtype=object)"
            ]
          },
          "metadata": {},
          "execution_count": 251
        }
      ]
    },
    {
      "cell_type": "code",
      "source": [
        "df['PropertySubClass'] = df['PropertySubClass'].replace({'SC60': '2-STORY 1946 & NEWER', 'SC20': '1-STORY 1946 & NEWER ALL STYLES', 'SC70': '2-STORY 1945 & OLDER','SC50': '1-1/2 STORY FINISHED ALL AGES','SC190': '2 FAMILY CONVERSION - ALL STYLES AND AGES', 'SC45': '1-1/2 STORY - UNFINISHED ALL AGES', 'SC90': 'DUPLEX - ALL STYLES AND AGES','SC120': '1-STORY PUD 1946 & NEWER', 'SC30': '1-STORY 1945 & OLDER', 'SC80': 'SPLIT OR MULTI-LEVEL', 'SC85': 'SPLIT FOYER', 'SC160': '2-STORY PUD - 1946 & NEWER', 'SC75': '2-1/2 STORY ALL AGES', 'SC180': 'PUD - MULTILEVEL - INCL SPLIT LEV/FOYER',\n",
        "                                                   'SC40': '1-STORY W/FINISHED ATTIC ALL AGES'})\n",
        "df['PropertySubClass'].value_counts()"
      ],
      "metadata": {
        "colab": {
          "base_uri": "https://localhost:8080/"
        },
        "id": "ewX7-Aswjb2_",
        "outputId": "3952ca43-2428-4516-fbae-fdcf627c85ac"
      },
      "execution_count": 252,
      "outputs": [
        {
          "output_type": "execute_result",
          "data": {
            "text/plain": [
              "PropertySubClass\n",
              "1-STORY 1946 & NEWER ALL STYLES              536\n",
              "2-STORY 1946 & NEWER                         299\n",
              "1-1/2 STORY FINISHED ALL AGES                144\n",
              "1-STORY PUD 1946 & NEWER                      87\n",
              "1-STORY 1945 & OLDER                          69\n",
              "2-STORY PUD - 1946 & NEWER                    63\n",
              "2-STORY 1945 & OLDER                          60\n",
              "SPLIT OR MULTI-LEVEL                          58\n",
              "DUPLEX - ALL STYLES AND AGES                  52\n",
              "2 FAMILY CONVERSION - ALL STYLES AND AGES     30\n",
              "SPLIT FOYER                                   20\n",
              "2-1/2 STORY ALL AGES                          16\n",
              "1-1/2 STORY - UNFINISHED ALL AGES             12\n",
              "PUD - MULTILEVEL - INCL SPLIT LEV/FOYER       10\n",
              "1-STORY W/FINISHED ATTIC ALL AGES              4\n",
              "Name: count, dtype: int64"
            ]
          },
          "metadata": {},
          "execution_count": 252
        }
      ]
    },
    {
      "cell_type": "markdown",
      "source": [],
      "metadata": {
        "id": "VytIhehyjiMv"
      }
    },
    {
      "cell_type": "code",
      "source": [
        "df['PropertyZone'].unique()"
      ],
      "metadata": {
        "colab": {
          "base_uri": "https://localhost:8080/"
        },
        "id": "MYR7_e0Sj1I6",
        "outputId": "56793b4f-12a3-4cc3-ccd3-2e841ba73a68"
      },
      "execution_count": 253,
      "outputs": [
        {
          "output_type": "execute_result",
          "data": {
            "text/plain": [
              "array(['RL', 'RM', 'C (all)', 'FV', 'RH'], dtype=object)"
            ]
          },
          "metadata": {},
          "execution_count": 253
        }
      ]
    },
    {
      "cell_type": "code",
      "source": [
        "df['PropertyZone'] = df['PropertyZone'].replace({'RL': 'Residential Low-Density', 'RM': 'Residential Medium Density', 'C': 'Commercial', 'FV': 'Floating Village Residential','RH': 'Residential High-Density'})"
      ],
      "metadata": {
        "id": "7U3GBOOuj-Z8"
      },
      "execution_count": 254,
      "outputs": []
    },
    {
      "cell_type": "code",
      "source": [
        "df['Street'].unique()"
      ],
      "metadata": {
        "colab": {
          "base_uri": "https://localhost:8080/"
        },
        "id": "HgJCgdwbkNZp",
        "outputId": "d6da2033-213f-4558-eaf8-8dfa3a1c7ba0"
      },
      "execution_count": 255,
      "outputs": [
        {
          "output_type": "execute_result",
          "data": {
            "text/plain": [
              "array(['Pave', 'Grvl'], dtype=object)"
            ]
          },
          "metadata": {},
          "execution_count": 255
        }
      ]
    },
    {
      "cell_type": "code",
      "execution_count": 256,
      "metadata": {
        "colab": {
          "base_uri": "https://localhost:8080/"
        },
        "id": "T5JOYZvoJrCx",
        "outputId": "91c41536-78f8-49d4-86f2-2186ed706f27"
      },
      "outputs": [
        {
          "output_type": "execute_result",
          "data": {
            "text/plain": [
              "array([nan, 'Grvl', 'Pave'], dtype=object)"
            ]
          },
          "metadata": {},
          "execution_count": 256
        }
      ],
      "source": [
        "# find unique values in label\n",
        "df['Alley'].unique()"
      ]
    },
    {
      "cell_type": "code",
      "source": [
        "# drop the column because have same data\n",
        "df.drop(['Alley'], axis=1, inplace=True)\n"
      ],
      "metadata": {
        "id": "dQpb_xREkZQp"
      },
      "execution_count": 257,
      "outputs": []
    },
    {
      "cell_type": "code",
      "source": [
        "df.shape"
      ],
      "metadata": {
        "colab": {
          "base_uri": "https://localhost:8080/"
        },
        "id": "QJTc_vD3k58v",
        "outputId": "f3cea8d9-9eab-499e-d0e4-ba5218a0615c"
      },
      "execution_count": 258,
      "outputs": [
        {
          "output_type": "execute_result",
          "data": {
            "text/plain": [
              "(1460, 79)"
            ]
          },
          "metadata": {},
          "execution_count": 258
        }
      ]
    },
    {
      "cell_type": "code",
      "source": [
        "# to understand better we replace the names of data\n",
        "\n",
        "df['Street'] = df['Street'].replace({'Pave': 'Paved ', 'Grvl': 'Gravel'})"
      ],
      "metadata": {
        "id": "KfZsuL6GkwpK"
      },
      "execution_count": 259,
      "outputs": []
    },
    {
      "cell_type": "code",
      "source": [
        "df['Street'].value_counts()"
      ],
      "metadata": {
        "colab": {
          "base_uri": "https://localhost:8080/"
        },
        "id": "YWQIfCOelEmI",
        "outputId": "c366b38d-1d64-4f5d-f993-4612e3ad4337"
      },
      "execution_count": 260,
      "outputs": [
        {
          "output_type": "execute_result",
          "data": {
            "text/plain": [
              "Street\n",
              "Paved     1454\n",
              "Gravel       6\n",
              "Name: count, dtype: int64"
            ]
          },
          "metadata": {},
          "execution_count": 260
        }
      ]
    },
    {
      "cell_type": "code",
      "execution_count": 261,
      "metadata": {
        "colab": {
          "base_uri": "https://localhost:8080/"
        },
        "id": "3J6hpZCyzDNC",
        "outputId": "9cb5b1a7-b386-49dc-db46-8ba586f8e5fa"
      },
      "outputs": [
        {
          "output_type": "execute_result",
          "data": {
            "text/plain": [
              "array(['Reg', 'IR1', 'IR2', 'IR3'], dtype=object)"
            ]
          },
          "metadata": {},
          "execution_count": 261
        }
      ],
      "source": [
        "# find unique values in label\n",
        "df['PropertyShape'].unique()"
      ]
    },
    {
      "cell_type": "code",
      "execution_count": 262,
      "metadata": {
        "colab": {
          "base_uri": "https://localhost:8080/",
          "height": 595
        },
        "id": "v2X_AhFVzlvc",
        "outputId": "b59eb001-bff6-42f4-b162-079381ec5990"
      },
      "outputs": [
        {
          "output_type": "execute_result",
          "data": {
            "text/plain": [
              "<Axes: xlabel='PropertyShape'>"
            ]
          },
          "metadata": {},
          "execution_count": 262
        },
        {
          "output_type": "display_data",
          "data": {
            "text/plain": [
              "<Figure size 640x480 with 1 Axes>"
            ],
            "image/png": "[encoded data removed]"
          },
          "metadata": {}
        }
      ],
      "source": [
        "df['PropertyShape'] = df['PropertyShape'].replace({'IR1': 'Slightly irregular', 'Reg': 'Regular', 'IR2': 'Moderately Irregular', 'IR3': 'Irregular'})\n",
        "\n",
        "df['PropertyShape'].value_counts().plot(kind='bar')"
      ]
    },
    {
      "cell_type": "code",
      "execution_count": 263,
      "metadata": {
        "colab": {
          "base_uri": "https://localhost:8080/"
        },
        "id": "M05rOZFXGXFL",
        "outputId": "9db7029c-c168-4b10-8be8-e8bdf0e2713f"
      },
      "outputs": [
        {
          "output_type": "execute_result",
          "data": {
            "text/plain": [
              "array(['Lvl', 'Bnk', 'Low', 'HLS'], dtype=object)"
            ]
          },
          "metadata": {},
          "execution_count": 263
        }
      ],
      "source": [
        "df['PropertyContour'].unique()"
      ]
    },
    {
      "cell_type": "code",
      "source": [
        "df['PropertyContour'] = df['PropertyContour'].replace({'Lvl': 'Level', 'Bnk': 'Significant Slope', 'Low': 'Low lying area', 'HLS': 'Hillside '})\n",
        "\n",
        "df['PropertyContour'].value_counts().plot(kind='bar')"
      ],
      "metadata": {
        "colab": {
          "base_uri": "https://localhost:8080/",
          "height": 569
        },
        "id": "TVnbO3i3pQk3",
        "outputId": "ce5ccfbf-16aa-4a66-e5bc-623d0a53eaae"
      },
      "execution_count": 264,
      "outputs": [
        {
          "output_type": "execute_result",
          "data": {
            "text/plain": [
              "<Axes: xlabel='PropertyContour'>"
            ]
          },
          "metadata": {},
          "execution_count": 264
        },
        {
          "output_type": "display_data",
          "data": {
            "text/plain": [
              "<Figure size 640x480 with 1 Axes>"
            ],
            "image/png": "[encoded data removed]"
          },
          "metadata": {}
        }
      ]
    },
    {
      "cell_type": "code",
      "source": [
        "df['Utilities'].unique()"
      ],
      "metadata": {
        "colab": {
          "base_uri": "https://localhost:8080/"
        },
        "id": "WtJULhVVqR4x",
        "outputId": "450b3a65-057e-4d72-a598-4d51ec54fdd2"
      },
      "execution_count": 265,
      "outputs": [
        {
          "output_type": "execute_result",
          "data": {
            "text/plain": [
              "array(['AllPub', 'NoSeWa'], dtype=object)"
            ]
          },
          "metadata": {},
          "execution_count": 265
        }
      ]
    },
    {
      "cell_type": "code",
      "source": [
        "# to understand better we replace the names of data\n",
        "\n",
        "df['Utilities'] = df['Utilities'].replace({'AllPub': 'All public Utilities ', 'NoSeWa': 'Electricity and Gas Only'})"
      ],
      "metadata": {
        "id": "szCII939qRyc"
      },
      "execution_count": 266,
      "outputs": []
    },
    {
      "cell_type": "code",
      "source": [
        "df['PropertySlope'].unique()"
      ],
      "metadata": {
        "colab": {
          "base_uri": "https://localhost:8080/"
        },
        "id": "aLUQCxxXqRu4",
        "outputId": "8eef2f5d-4755-4881-9f48-6d0f458292cd"
      },
      "execution_count": 267,
      "outputs": [
        {
          "output_type": "execute_result",
          "data": {
            "text/plain": [
              "array(['Gtl', 'Mod', 'Sev'], dtype=object)"
            ]
          },
          "metadata": {},
          "execution_count": 267
        }
      ]
    },
    {
      "cell_type": "code",
      "source": [
        "# to understand better we replace the names of data\n",
        "\n",
        "df['PropertySlope'] = df['PropertySlope'].replace({'Gtl': 'Gentle slope ', 'Mod': 'Moderate slope ', 'Sev': 'Severe slope '})"
      ],
      "metadata": {
        "id": "Zsf7qYqMqRo6"
      },
      "execution_count": 268,
      "outputs": []
    },
    {
      "cell_type": "code",
      "source": [
        "df['Neighborhood'].unique()"
      ],
      "metadata": {
        "colab": {
          "base_uri": "https://localhost:8080/"
        },
        "id": "RUj8AAQNxyoY",
        "outputId": "e28bb6b4-d88b-4f7f-c88a-131bb884592b"
      },
      "execution_count": 269,
      "outputs": [
        {
          "output_type": "execute_result",
          "data": {
            "text/plain": [
              "array(['CollgCr', 'Veenker', 'Crawfor', 'NoRidge', 'Mitchel', 'Somerst',\n",
              "       'NWAmes', 'OldTown', 'BrkSide', 'Sawyer', 'NridgHt', 'NAmes',\n",
              "       'SawyerW', 'IDOTRR', 'MeadowV', 'Edwards', 'Timber', 'Gilbert',\n",
              "       'StoneBr', 'ClearCr', 'NPkVill', 'Blmngtn', 'BrDale', 'SWISU',\n",
              "       'Blueste'], dtype=object)"
            ]
          },
          "metadata": {},
          "execution_count": 269
        }
      ]
    },
    {
      "cell_type": "code",
      "source": [
        "# to understand better we replace the names of data\n",
        "\n",
        "df['Neighborhood'] = df['Neighborhood'].replace({'Blmngtn ': 'Bloomington Heights', 'Blueste ': 'Bluestem', 'BrDale': 'Briardale', 'BrkSide': 'Brookside', 'ClearCr': 'Clear Creek', 'CollgCr': 'College Creek',\n",
        "                                          'Crawfor ': 'Crawford', 'Edwards': 'Edwards', 'Gilbert': 'Gilbert', 'IDOTRR': 'Iowa DOT and Rail Road', 'MeadowV ': 'Meadow Village', 'Mitchel' : 'Mitchell',\n",
        "                                          'Names': 'North Ames', 'NoRidge': 'Northridge', 'NPkVill': 'Northpark Villa', 'NridgHt': 'Northridge Heights', 'NWAmes': 'Northwest Ames', 'OldTown' : 'Old Town',\n",
        "                                          'SWISU ': 'South & West of Iowa State University', 'Sawyer ': 'Sawyer', 'SawyerW ': 'Sawyer West', 'Somerst ': 'Somerset', 'StoneBr': 'Stone Brook', 'Timber' : 'Timberland',\n",
        "                                          'Veenker ' : 'Veenker'})"
      ],
      "metadata": {
        "id": "353pkzeIxylA"
      },
      "execution_count": 270,
      "outputs": []
    },
    {
      "cell_type": "code",
      "source": [
        "df['Condition2'].unique()"
      ],
      "metadata": {
        "colab": {
          "base_uri": "https://localhost:8080/"
        },
        "id": "Npd7ZJIOxyeP",
        "outputId": "be605688-5cde-4e45-c79f-b398dc1d294d"
      },
      "execution_count": 271,
      "outputs": [
        {
          "output_type": "execute_result",
          "data": {
            "text/plain": [
              "array(['Norm', 'Artery', 'RRNn', 'Feedr', 'PosN', 'PosA', 'RRAn', 'RRAe'],\n",
              "      dtype=object)"
            ]
          },
          "metadata": {},
          "execution_count": 271
        }
      ]
    },
    {
      "cell_type": "code",
      "source": [
        "df['Condition1'].unique()"
      ],
      "metadata": {
        "colab": {
          "base_uri": "https://localhost:8080/"
        },
        "id": "kPN1nfcexyaB",
        "outputId": "f7c7c4ea-beaa-416f-b1fb-da1971f4fa0b"
      },
      "execution_count": 272,
      "outputs": [
        {
          "output_type": "execute_result",
          "data": {
            "text/plain": [
              "array(['Norm', 'Feedr', 'PosN', 'Artery', 'RRAe', 'RRNn', 'RRAn', 'PosA',\n",
              "       'RRNe'], dtype=object)"
            ]
          },
          "metadata": {},
          "execution_count": 272
        }
      ]
    },
    {
      "cell_type": "code",
      "source": [
        "# drop the column because have same data\n",
        "df.drop(['Condition1'], axis=1, inplace=True)"
      ],
      "metadata": {
        "id": "Kok0dlxYy4fD"
      },
      "execution_count": 273,
      "outputs": []
    },
    {
      "cell_type": "code",
      "source": [
        "# to understand better we replace the names of data\n",
        "\n",
        "df['Condition2'] = df['Condition2'].replace({'Artery ': 'Adjacent to arterial street', 'Norm': 'Normal', 'RRNn ': 'Within 200 of North-South Railroad',  'Feedr': 'Adjacent to feeder street', 'PosN ': 'Near positive off-site feature park greenbelt etc', 'RRAn': 'Adjacent to North-South Railroad', 'RRAe': 'Adjacent to East-West Railroad', 'PosA': 'Adjacent to positive off-site feature '})"
      ],
      "metadata": {
        "id": "AcA-ZNHJy4cB"
      },
      "execution_count": 274,
      "outputs": []
    },
    {
      "cell_type": "code",
      "source": [
        "df['BldgType'].unique()"
      ],
      "metadata": {
        "colab": {
          "base_uri": "https://localhost:8080/"
        },
        "id": "bKs4sePey4Y5",
        "outputId": "fb77caea-d60e-4387-d4d9-475406bd8fef"
      },
      "execution_count": 275,
      "outputs": [
        {
          "output_type": "execute_result",
          "data": {
            "text/plain": [
              "array(['1Fam', '2fmCon', 'Duplex', 'TwnhsE', 'Twnhs'], dtype=object)"
            ]
          },
          "metadata": {},
          "execution_count": 275
        }
      ]
    },
    {
      "cell_type": "code",
      "source": [
        "df['BldgType'] = df['BldgType'].replace({'1Fam': 'Single-family Detached ', '2fmCon': 'Two-family Conversion originally built as one-family dwelling', 'Duplex': 'Duplex', 'TwnhsE': 'Townhouse End Unit', 'Twnhs': 'Townhouse Inside Unit'})"
      ],
      "metadata": {
        "id": "bFdm8EA9y4Ud"
      },
      "execution_count": 276,
      "outputs": []
    },
    {
      "cell_type": "code",
      "source": [
        "df['HouseStyle'].unique()"
      ],
      "metadata": {
        "colab": {
          "base_uri": "https://localhost:8080/"
        },
        "id": "zw3DykTjz60V",
        "outputId": "570c06e7-9996-4fee-a427-bdd5ed571ee3"
      },
      "execution_count": 277,
      "outputs": [
        {
          "output_type": "execute_result",
          "data": {
            "text/plain": [
              "array(['2Story', '1Story', '1.5Fin', '1.5Unf', 'SFoyer', 'SLvl', '2.5Unf',\n",
              "       '2.5Fin'], dtype=object)"
            ]
          },
          "metadata": {},
          "execution_count": 277
        }
      ]
    },
    {
      "cell_type": "code",
      "source": [
        "df['HouseStyle'] = df['HouseStyle'].replace({'2Story': 'Two-story ', '1Story': '1Story One story', '1.5Fin': 'One and one-half story 2nd level finished', '1.5Unf': 'One and one-half story 2nd level unfinished', 'SFoyer': 'Split Foyer', 'SLvl': 'Split Level', '2.5Unf': 'Two and one-half story 2nd level unfinished',\n",
        "'2.5Fin': 'Two and one-half story 2nd level finished'})"
      ],
      "metadata": {
        "id": "9rkB3Shsz6vx"
      },
      "execution_count": 278,
      "outputs": []
    },
    {
      "cell_type": "code",
      "source": [
        "df['OverallCond'].unique()"
      ],
      "metadata": {
        "colab": {
          "base_uri": "https://localhost:8080/"
        },
        "id": "Z5x--ATcz6sK",
        "outputId": "bea2f6b2-4d31-44c6-f4a9-533a6c59219c"
      },
      "execution_count": 279,
      "outputs": [
        {
          "output_type": "execute_result",
          "data": {
            "text/plain": [
              "array([5, 8, 6, 7, 4, 2, 3, 9, 1])"
            ]
          },
          "metadata": {},
          "execution_count": 279
        }
      ]
    },
    {
      "cell_type": "code",
      "source": [
        "df['OverallQual'].unique()"
      ],
      "metadata": {
        "colab": {
          "base_uri": "https://localhost:8080/"
        },
        "id": "aA1f-jjSyzKM",
        "outputId": "40e478a5-0f92-4d9b-e6de-0bde53b1ffde"
      },
      "execution_count": 280,
      "outputs": [
        {
          "output_type": "execute_result",
          "data": {
            "text/plain": [
              "array([ 7,  6,  8,  5,  9,  4, 10,  3,  1,  2])"
            ]
          },
          "metadata": {},
          "execution_count": 280
        }
      ]
    },
    {
      "cell_type": "code",
      "source": [
        "# drop the column because have same data\n",
        "df.drop(['OverallCond'], axis=1, inplace=True)"
      ],
      "metadata": {
        "id": "Xj6BLFv01VUB"
      },
      "execution_count": 281,
      "outputs": []
    },
    {
      "cell_type": "code",
      "source": [
        "df['OverallQual'] = df['OverallQual'].replace({'1': 'Very Poor', '2': 'Poor ', '3': 'Fair','4': 'Below Average', '5': 'Average ', '6': 'Above Average','7': 'Good','8': 'Very Good', '9': 'Excellent ', '10': 'Very Excellent'})"
      ],
      "metadata": {
        "id": "ZTeojZQi1VMz"
      },
      "execution_count": 282,
      "outputs": []
    },
    {
      "cell_type": "code",
      "source": [
        "df['RoofStyle'].unique()"
      ],
      "metadata": {
        "colab": {
          "base_uri": "https://localhost:8080/"
        },
        "id": "i5yckoAt1VJz",
        "outputId": "c325c70c-1e33-4c6c-b90d-b735a0a178b7"
      },
      "execution_count": 283,
      "outputs": [
        {
          "output_type": "execute_result",
          "data": {
            "text/plain": [
              "array(['Gable', 'Hip', 'Gambrel', 'Mansard', 'Flat', 'Shed'], dtype=object)"
            ]
          },
          "metadata": {},
          "execution_count": 283
        }
      ]
    },
    {
      "cell_type": "code",
      "source": [
        "df['RoofMatl'].unique()"
      ],
      "metadata": {
        "colab": {
          "base_uri": "https://localhost:8080/"
        },
        "id": "m1A_yq4d1VGL",
        "outputId": "a27c0198-3a65-47b7-f43d-5287fbf1c78f"
      },
      "execution_count": 284,
      "outputs": [
        {
          "output_type": "execute_result",
          "data": {
            "text/plain": [
              "array(['CompShg', 'WdShngl', 'Metal', 'WdShake', 'Membran', 'Tar&Grv',\n",
              "       'Roll', 'ClyTile'], dtype=object)"
            ]
          },
          "metadata": {},
          "execution_count": 284
        }
      ]
    },
    {
      "cell_type": "code",
      "source": [
        "df['RoofMatl'] = df['RoofMatl'].replace({'ClyTile ': 'Clay or Tile', 'CompShg ': 'Standard (Composite) Shingle  ', 'Membran ': 'Membrane','Metal ': 'Metal Average', 'Roll ': 'Roll  ', 'Tar&Grv': 'Gravel & Tar','WdShake ': 'Wood Shakes','WdShngl ': 'Wood Shingles'})"
      ],
      "metadata": {
        "id": "BLAWVdD_2J57"
      },
      "execution_count": 285,
      "outputs": []
    },
    {
      "cell_type": "code",
      "source": [
        "df['Exterior1st'].unique()"
      ],
      "metadata": {
        "colab": {
          "base_uri": "https://localhost:8080/"
        },
        "id": "62PY7N_J2J2i",
        "outputId": "21c03215-88f4-403f-9f2e-9da213f1d91e"
      },
      "execution_count": 286,
      "outputs": [
        {
          "output_type": "execute_result",
          "data": {
            "text/plain": [
              "array(['VinylSd', 'MetalSd', 'Wd Sdng', 'HdBoard', 'BrkFace', 'WdShing',\n",
              "       'CemntBd', 'Plywood', 'AsbShng', 'Stucco', 'BrkComm', 'AsphShn',\n",
              "       'Stone', 'ImStucc', 'CBlock'], dtype=object)"
            ]
          },
          "metadata": {},
          "execution_count": 286
        }
      ]
    },
    {
      "cell_type": "code",
      "source": [
        "df['Exterior2nd'].unique()"
      ],
      "metadata": {
        "colab": {
          "base_uri": "https://localhost:8080/"
        },
        "id": "A9a9esJ02JxQ",
        "outputId": "485a4ddb-7277-4676-d51e-5a8c62ab962b"
      },
      "execution_count": 287,
      "outputs": [
        {
          "output_type": "execute_result",
          "data": {
            "text/plain": [
              "array(['VinylSd', 'MetalSd', 'Wd Shng', 'HdBoard', 'Plywood', 'Wd Sdng',\n",
              "       'CmentBd', 'BrkFace', 'Stucco', 'AsbShng', 'Brk Cmn', 'ImStucc',\n",
              "       'AsphShn', 'Stone', 'Other', 'CBlock'], dtype=object)"
            ]
          },
          "metadata": {},
          "execution_count": 287
        }
      ]
    },
    {
      "cell_type": "code",
      "source": [
        "# drop the column because have same data\n",
        "df.drop(['Exterior2nd'], axis=1, inplace=True)"
      ],
      "metadata": {
        "id": "-IGI0R9H3BnL"
      },
      "execution_count": 288,
      "outputs": []
    },
    {
      "cell_type": "code",
      "source": [
        "df.columns"
      ],
      "metadata": {
        "colab": {
          "base_uri": "https://localhost:8080/"
        },
        "id": "7dhOOKDe3Bjs",
        "outputId": "d8e77901-d7b5-4dc9-c1f6-35a9c124686a"
      },
      "execution_count": 289,
      "outputs": [
        {
          "output_type": "execute_result",
          "data": {
            "text/plain": [
              "Index(['PropertySubClass', 'PropertyZone', 'PropertyFrontage', 'PropertyArea',\n",
              "       'Street', 'PropertyShape', 'PropertyContour', 'Utilities',\n",
              "       'PropertyConfig', 'PropertySlope', 'Neighborhood', 'Condition2',\n",
              "       'BldgType', 'HouseStyle', 'OverallQual', 'YearBuilt', 'YearRemodAdd',\n",
              "       'RoofStyle', 'RoofMatl', 'Exterior1st', 'MasonryVeneerType',\n",
              "       'MasonryVeneerArea', 'ExterQual', 'ExterCond', 'Foundation',\n",
              "       'BasementQuality', 'BasementCondition', 'BasementExposure',\n",
              "       'BasementFinishType1', 'BasementFinishSquareFeet1',\n",
              "       'BasementFinishType2', 'BasementFinishSquareFeet2',\n",
              "       'BasementUnFinishSquareFeet', 'TotalBasementSquareFeet', 'Heating',\n",
              "       'HeatingQC', 'CentralAir', 'Electrical', 'FirstFloorSquareFeet',\n",
              "       'SecondFloorSquareFeet', 'LowQualFinSF', 'AboveGradeGroundLiving Area',\n",
              "       'BasementFullBath', 'BasementHalfBath', 'FullBath', 'HalfBath',\n",
              "       'BedroomAbvGr', 'KitchenAbvGr', 'KitchenQual', 'TotalRoomsAboveGrade',\n",
              "       'Functional', 'Fireplaces', 'FireplaceQu', 'GarageType', 'GarageYrBlt',\n",
              "       'GarageFinish', 'GarageCars', 'GarageArea', 'GarageQual', 'GarageCond',\n",
              "       'PavedDrive', 'WoodDeckSF', 'OpenPorchSF', 'EnclosedPorch',\n",
              "       'ThreeSeasonPorchArea', 'ScreenPorch', 'PoolArea', 'PoolQC', 'Fence',\n",
              "       'MiscFeature', 'MiscVal', 'MoSold', 'YrSold', 'SaleType',\n",
              "       'SaleCondition', 'SalePrice'],\n",
              "      dtype='object')"
            ]
          },
          "metadata": {},
          "execution_count": 289
        }
      ]
    },
    {
      "cell_type": "code",
      "source": [
        "df['MasonryVeneerType'].unique()"
      ],
      "metadata": {
        "colab": {
          "base_uri": "https://localhost:8080/"
        },
        "id": "CN5lHGDi3mdB",
        "outputId": "ab869d05-d793-4510-a42e-07ec0c902397"
      },
      "execution_count": 290,
      "outputs": [
        {
          "output_type": "execute_result",
          "data": {
            "text/plain": [
              "array(['BrkFace', nan, 'Stone', 'BrkCmn'], dtype=object)"
            ]
          },
          "metadata": {},
          "execution_count": 290
        }
      ]
    },
    {
      "cell_type": "code",
      "source": [
        "df['MasonryVeneerType'] = df['MasonryVeneerType'].replace({'BrkFace ': 'Brick Veneer', 'Stone ': 'Stone Veneer', 'BrkCmn ': 'Common Brick'})"
      ],
      "metadata": {
        "id": "2vbL21xb3mZg"
      },
      "execution_count": 291,
      "outputs": []
    },
    {
      "cell_type": "code",
      "source": [
        "df['ExterCond'].unique()"
      ],
      "metadata": {
        "colab": {
          "base_uri": "https://localhost:8080/"
        },
        "id": "kqBnB3Mr5SW0",
        "outputId": "607cfaa4-13c7-4f8a-8e45-e557700d6529"
      },
      "execution_count": 292,
      "outputs": [
        {
          "output_type": "execute_result",
          "data": {
            "text/plain": [
              "array(['TA', 'Gd', 'Fa', 'Po', 'Ex'], dtype=object)"
            ]
          },
          "metadata": {},
          "execution_count": 292
        }
      ]
    },
    {
      "cell_type": "code",
      "source": [
        "df['ExterQual'].unique()"
      ],
      "metadata": {
        "colab": {
          "base_uri": "https://localhost:8080/"
        },
        "id": "i7lO6Scq5SOj",
        "outputId": "df719575-24f0-4e0e-91dd-66095e6d1e45"
      },
      "execution_count": 293,
      "outputs": [
        {
          "output_type": "execute_result",
          "data": {
            "text/plain": [
              "array(['Gd', 'TA', 'Ex', 'Fa'], dtype=object)"
            ]
          },
          "metadata": {},
          "execution_count": 293
        }
      ]
    },
    {
      "cell_type": "code",
      "source": [
        "df['ExterQual'] = df['ExterQual'].replace({'Ex ': 'Excellent', 'Gd': 'Good', 'TA': 'Average/Typical ','Fa': 'Fair' ,'Po': 'Poor'})"
      ],
      "metadata": {
        "id": "dY3m-NAL5SEz"
      },
      "execution_count": 294,
      "outputs": []
    },
    {
      "cell_type": "code",
      "source": [
        "df['ExterCond'] = df['ExterCond'].replace({'Ex ': 'Excellent', 'Gd': 'Good', 'TA': 'Average/Typical ','Fa': 'Fair' ,'Po': 'Poor'})"
      ],
      "metadata": {
        "id": "9p3IsIMc8Oid"
      },
      "execution_count": 295,
      "outputs": []
    },
    {
      "cell_type": "code",
      "source": [
        "df['BasementQuality'].unique()"
      ],
      "metadata": {
        "colab": {
          "base_uri": "https://localhost:8080/"
        },
        "id": "1jQuCwLT8OdA",
        "outputId": "ac630942-c89c-44cf-cf21-9ebca3d6a913"
      },
      "execution_count": 296,
      "outputs": [
        {
          "output_type": "execute_result",
          "data": {
            "text/plain": [
              "array(['Gd', 'TA', 'Ex', 'No', 'Fa'], dtype=object)"
            ]
          },
          "metadata": {},
          "execution_count": 296
        }
      ]
    },
    {
      "cell_type": "code",
      "source": [
        "df['BasementQuality'] = df['BasementQuality'].replace({'Ex ': 'Excellent', 'Gd': 'Good', 'TA': 'Average/Typical ','Fa': 'Fair' ,'Po': 'Poor'})"
      ],
      "metadata": {
        "id": "TZ8wl-RU-yMA"
      },
      "execution_count": 297,
      "outputs": []
    },
    {
      "cell_type": "code",
      "source": [
        "df['BasementCondition'].unique()"
      ],
      "metadata": {
        "colab": {
          "base_uri": "https://localhost:8080/"
        },
        "id": "-eCWFijn8OXC",
        "outputId": "f5894e98-0d86-49a7-b8ab-c94fe2f3d561"
      },
      "execution_count": 298,
      "outputs": [
        {
          "output_type": "execute_result",
          "data": {
            "text/plain": [
              "array(['TA', 'Gd', 'No', 'Fa', 'Po'], dtype=object)"
            ]
          },
          "metadata": {},
          "execution_count": 298
        }
      ]
    },
    {
      "cell_type": "code",
      "source": [
        "df['BasementCondition'] = df['BasementCondition'].replace({'Ex ': 'Excellent', 'Gd': 'Good', 'TA': 'Average/Typical ','Fa': 'Fair' ,'Po': 'Poor','No': 'No'})"
      ],
      "metadata": {
        "id": "3IzrdT9i9UkA"
      },
      "execution_count": 299,
      "outputs": []
    },
    {
      "cell_type": "code",
      "source": [
        "df['BasementExposure'].unique()"
      ],
      "metadata": {
        "colab": {
          "base_uri": "https://localhost:8080/"
        },
        "id": "pe7NRgCi9Uec",
        "outputId": "6f49c693-11db-421d-a4a0-2c34c5e1acd5"
      },
      "execution_count": 301,
      "outputs": [
        {
          "output_type": "execute_result",
          "data": {
            "text/plain": [
              "array(['No', 'Gd', 'Mn', 'Av'], dtype=object)"
            ]
          },
          "metadata": {},
          "execution_count": 301
        }
      ]
    },
    {
      "cell_type": "code",
      "source": [
        "df['BasementExposure'] = df['BasementExposure'].replace({'Gd': 'Good Exposure', 'Av': 'Average Exposure ', 'Mn': 'Mimimum Exposure','No ': 'No Exposure'})"
      ],
      "metadata": {
        "id": "m6RhYvPs9UaN"
      },
      "execution_count": 302,
      "outputs": []
    },
    {
      "cell_type": "code",
      "source": [
        "df['BasementFinishType1'].unique()"
      ],
      "metadata": {
        "colab": {
          "base_uri": "https://localhost:8080/"
        },
        "id": "Svv0ToPbBtP9",
        "outputId": "275b7c23-4b86-42e0-9f78-c01b8abd0377"
      },
      "execution_count": 303,
      "outputs": [
        {
          "output_type": "execute_result",
          "data": {
            "text/plain": [
              "array(['GLQ', 'ALQ', 'Unf', 'Rec', 'BLQ', 'No', 'LwQ'], dtype=object)"
            ]
          },
          "metadata": {},
          "execution_count": 303
        }
      ]
    },
    {
      "cell_type": "code",
      "source": [
        "# to understand better we replace the names of data\n",
        "\n",
        "df['BasementFinishType1'] = df['BasementFinishType1'].replace({'GLQ': 'Good Living Quarters', 'ALQ': 'Average Living Quarters', 'Unf': 'Unfinished', 'Rec': 'Average Rec Room','BLQ': ' Below Average Living Quarters', 'nan': 'No Basement','LwQ': 'Low Quality'})"
      ],
      "metadata": {
        "id": "S9qnQ_hgBtL1"
      },
      "execution_count": null,
      "outputs": []
    },
    {
      "cell_type": "code",
      "source": [
        "# drop the column because have same data\n",
        "df.drop(['BasementFinishType2'], axis=1, inplace=True)"
      ],
      "metadata": {
        "id": "iwWd8YtMBtCj"
      },
      "execution_count": 305,
      "outputs": []
    },
    {
      "cell_type": "code",
      "source": [
        "# drop the column because have same data\n",
        "df.drop(['BasementFinishSquareFeet2'], axis=1, inplace=True)"
      ],
      "metadata": {
        "id": "rI-UEfaTBs2t"
      },
      "execution_count": 306,
      "outputs": []
    },
    {
      "cell_type": "code",
      "source": [
        "df['HeatingQC'].unique()"
      ],
      "metadata": {
        "colab": {
          "base_uri": "https://localhost:8080/"
        },
        "id": "WDTxc6GHCqwa",
        "outputId": "4507f9cd-e881-4d24-a793-79d31deb0b0f"
      },
      "execution_count": 307,
      "outputs": [
        {
          "output_type": "execute_result",
          "data": {
            "text/plain": [
              "array(['Ex', 'Gd', 'TA', 'Fa', 'Po'], dtype=object)"
            ]
          },
          "metadata": {},
          "execution_count": 307
        }
      ]
    },
    {
      "cell_type": "code",
      "source": [
        "df['HeatingQC'] = df['HeatingQC'].replace({'Ex ': 'Excellent', 'Gd': 'Good', 'TA': 'Average/Typical ','Fa': 'Fair' ,'Po': 'Poor'})"
      ],
      "metadata": {
        "id": "9JS61yWKCqsw"
      },
      "execution_count": null,
      "outputs": []
    },
    {
      "cell_type": "code",
      "source": [
        "df['Electrical'].unique()"
      ],
      "metadata": {
        "colab": {
          "base_uri": "https://localhost:8080/"
        },
        "id": "qhZ6KpiHCqn_",
        "outputId": "75b91ac4-df7b-41ae-d8c6-20097c2bcf86"
      },
      "execution_count": 308,
      "outputs": [
        {
          "output_type": "execute_result",
          "data": {
            "text/plain": [
              "array(['SBrkr', 'FuseF', 'FuseA', 'FuseP', 'Mix', nan], dtype=object)"
            ]
          },
          "metadata": {},
          "execution_count": 308
        }
      ]
    },
    {
      "cell_type": "code",
      "source": [
        "df['Electrical'] = df['Electrical'].replace({'SBrkr ': 'Standard Circuit Breakers & Romex', 'FuseF': 'FuseF', '60 AMP Fuse Box and mostly Romex wiring': 'FuseP','60 AMP Fuse Box and mostly knob & tube wiring': 'Fair','Mix': 'Mixed'})"
      ],
      "metadata": {
        "id": "rJ5Ks0vNOeQQ"
      },
      "execution_count": null,
      "outputs": []
    },
    {
      "cell_type": "code",
      "source": [
        "df['GarageQual'].unique()"
      ],
      "metadata": {
        "colab": {
          "base_uri": "https://localhost:8080/"
        },
        "id": "yYM1LTLnOfhD",
        "outputId": "d7ef89e5-e9bd-4f21-9474-62f8ec6119aa"
      },
      "execution_count": 310,
      "outputs": [
        {
          "output_type": "execute_result",
          "data": {
            "text/plain": [
              "array(['TA', 'Fa', 'Gd', 'No', 'Ex', 'Po'], dtype=object)"
            ]
          },
          "metadata": {},
          "execution_count": 310
        }
      ]
    },
    {
      "cell_type": "code",
      "source": [
        "df['GarageQual'] = df['GarageQual'].replace({'Ex ': 'Excellent', 'Gd': 'Good', 'TA': 'Average/Typical ','Fa': 'Fair' ,'Po': 'Poor','No': 'No'})"
      ],
      "metadata": {
        "id": "8eo608siOfY-"
      },
      "execution_count": 311,
      "outputs": []
    },
    {
      "cell_type": "code",
      "source": [
        "df['GarageCond'].unique()"
      ],
      "metadata": {
        "colab": {
          "base_uri": "https://localhost:8080/"
        },
        "id": "6OazKJrwOfS-",
        "outputId": "f14efa8b-f549-4b63-fa20-6bd5f5c7529f"
      },
      "execution_count": 312,
      "outputs": [
        {
          "output_type": "execute_result",
          "data": {
            "text/plain": [
              "array(['TA', 'Fa', 'No', 'Gd', 'Po', 'Ex'], dtype=object)"
            ]
          },
          "metadata": {},
          "execution_count": 312
        }
      ]
    },
    {
      "cell_type": "code",
      "source": [
        "df['GarageQual'] = df['GarageQual'].replace({'Ex ': 'Excellent', 'Gd': 'Good', 'TA': 'Average/Typical ','Fa': 'Fair' ,'Po': 'Poor','No': 'No'})"
      ],
      "metadata": {
        "id": "jgRGvSPDPM8w"
      },
      "execution_count": 313,
      "outputs": []
    },
    {
      "cell_type": "code",
      "source": [
        "df['SaleCondition'].unique()"
      ],
      "metadata": {
        "colab": {
          "base_uri": "https://localhost:8080/"
        },
        "id": "U7CKRAf8PM6M",
        "outputId": "53696226-eec2-4c0a-c832-47525cfa8ead"
      },
      "execution_count": 315,
      "outputs": [
        {
          "output_type": "execute_result",
          "data": {
            "text/plain": [
              "array(['Normal', 'Abnorml', 'Partial', 'AdjLand', 'Alloca', 'Family'],\n",
              "      dtype=object)"
            ]
          },
          "metadata": {},
          "execution_count": 315
        }
      ]
    },
    {
      "cell_type": "code",
      "source": [
        "df['SaleCondition'] = df['SaleCondition'].replace({'Normal': 'Normal', ' Abnorml': ' Abnorml', 'AdjLand': 'Adjoining Land Purchase', 'Alloca ': 'Allocation ', 'Family ': 'Sale between family members', 'Partial': 'Home was not completed '})"
      ],
      "metadata": {
        "id": "SCtP8JSHPM00"
      },
      "execution_count": 316,
      "outputs": []
    },
    {
      "cell_type": "code",
      "source": [
        "# finding null values\n",
        "df.isnull().sum()"
      ],
      "metadata": {
        "colab": {
          "base_uri": "https://localhost:8080/"
        },
        "id": "wCgQsxE9PMte",
        "outputId": "df737b30-c25b-4e00-94ed-8ffd5b5e0aa8"
      },
      "execution_count": 317,
      "outputs": [
        {
          "output_type": "execute_result",
          "data": {
            "text/plain": [
              "PropertySubClass    0\n",
              "PropertyZone        0\n",
              "PropertyFrontage    0\n",
              "PropertyArea        0\n",
              "Street              0\n",
              "                   ..\n",
              "MoSold              0\n",
              "YrSold              0\n",
              "SaleType            0\n",
              "SaleCondition       0\n",
              "SalePrice           0\n",
              "Length: 74, dtype: int64"
            ]
          },
          "metadata": {},
          "execution_count": 317
        }
      ]
    },
    {
      "cell_type": "code",
      "source": [
        "null_values = df.isnull()\n",
        "null_counts = null_values.sum()\n",
        "null_counts\n",
        "\n",
        "for column, count in null_counts.items():\n",
        "    print(f\"Column '{column}': {count} null values\")"
      ],
      "metadata": {
        "colab": {
          "base_uri": "https://localhost:8080/"
        },
        "id": "aaPPVwgIPsoj",
        "outputId": "a258c803-ea80-4ae6-daf8-5c2dd61b6fa0"
      },
      "execution_count": 318,
      "outputs": [
        {
          "output_type": "stream",
          "name": "stdout",
          "text": [
            "Column 'PropertySubClass': 0 null values\n",
            "Column 'PropertyZone': 0 null values\n",
            "Column 'PropertyFrontage': 0 null values\n",
            "Column 'PropertyArea': 0 null values\n",
            "Column 'Street': 0 null values\n",
            "Column 'PropertyShape': 0 null values\n",
            "Column 'PropertyContour': 0 null values\n",
            "Column 'Utilities': 0 null values\n",
            "Column 'PropertyConfig': 0 null values\n",
            "Column 'PropertySlope': 0 null values\n",
            "Column 'Neighborhood': 0 null values\n",
            "Column 'Condition2': 0 null values\n",
            "Column 'BldgType': 0 null values\n",
            "Column 'HouseStyle': 0 null values\n",
            "Column 'OverallQual': 0 null values\n",
            "Column 'YearBuilt': 0 null values\n",
            "Column 'YearRemodAdd': 0 null values\n",
            "Column 'RoofStyle': 0 null values\n",
            "Column 'RoofMatl': 0 null values\n",
            "Column 'Exterior1st': 0 null values\n",
            "Column 'MasonryVeneerType': 872 null values\n",
            "Column 'MasonryVeneerArea': 0 null values\n",
            "Column 'ExterQual': 0 null values\n",
            "Column 'ExterCond': 0 null values\n",
            "Column 'Foundation': 0 null values\n",
            "Column 'BasementQuality': 0 null values\n",
            "Column 'BasementCondition': 0 null values\n",
            "Column 'BasementExposure': 0 null values\n",
            "Column 'BasementFinishType1': 0 null values\n",
            "Column 'BasementFinishSquareFeet1': 0 null values\n",
            "Column 'BasementUnFinishSquareFeet': 0 null values\n",
            "Column 'TotalBasementSquareFeet': 0 null values\n",
            "Column 'Heating': 0 null values\n",
            "Column 'HeatingQC': 0 null values\n",
            "Column 'CentralAir': 0 null values\n",
            "Column 'Electrical': 1 null values\n",
            "Column 'FirstFloorSquareFeet': 0 null values\n",
            "Column 'SecondFloorSquareFeet': 0 null values\n",
            "Column 'LowQualFinSF': 0 null values\n",
            "Column 'AboveGradeGroundLiving Area': 0 null values\n",
            "Column 'BasementFullBath': 0 null values\n",
            "Column 'BasementHalfBath': 0 null values\n",
            "Column 'FullBath': 0 null values\n",
            "Column 'HalfBath': 0 null values\n",
            "Column 'BedroomAbvGr': 0 null values\n",
            "Column 'KitchenAbvGr': 0 null values\n",
            "Column 'KitchenQual': 0 null values\n",
            "Column 'TotalRoomsAboveGrade': 0 null values\n",
            "Column 'Functional': 0 null values\n",
            "Column 'Fireplaces': 0 null values\n",
            "Column 'FireplaceQu': 0 null values\n",
            "Column 'GarageType': 0 null values\n",
            "Column 'GarageYrBlt': 81 null values\n",
            "Column 'GarageFinish': 0 null values\n",
            "Column 'GarageCars': 0 null values\n",
            "Column 'GarageArea': 0 null values\n",
            "Column 'GarageQual': 0 null values\n",
            "Column 'GarageCond': 0 null values\n",
            "Column 'PavedDrive': 0 null values\n",
            "Column 'WoodDeckSF': 0 null values\n",
            "Column 'OpenPorchSF': 0 null values\n",
            "Column 'EnclosedPorch': 0 null values\n",
            "Column 'ThreeSeasonPorchArea': 0 null values\n",
            "Column 'ScreenPorch': 0 null values\n",
            "Column 'PoolArea': 0 null values\n",
            "Column 'PoolQC': 0 null values\n",
            "Column 'Fence': 0 null values\n",
            "Column 'MiscFeature': 0 null values\n",
            "Column 'MiscVal': 0 null values\n",
            "Column 'MoSold': 0 null values\n",
            "Column 'YrSold': 0 null values\n",
            "Column 'SaleType': 0 null values\n",
            "Column 'SaleCondition': 0 null values\n",
            "Column 'SalePrice': 0 null values\n"
          ]
        }
      ]
    },
    {
      "cell_type": "code",
      "execution_count": 319,
      "metadata": {
        "id": "7WpOQE8LMN0U",
        "colab": {
          "base_uri": "https://localhost:8080/"
        },
        "outputId": "de9eab38-d485-428f-d1d1-3478e665b1af"
      },
      "outputs": [
        {
          "output_type": "execute_result",
          "data": {
            "text/plain": [
              "array(['BrkFace', nan, 'Stone', 'BrkCmn'], dtype=object)"
            ]
          },
          "metadata": {},
          "execution_count": 319
        }
      ],
      "source": [
        "df['MasonryVeneerType'].unique()"
      ]
    },
    {
      "cell_type": "code",
      "source": [
        "df['Electrical'].unique()"
      ],
      "metadata": {
        "colab": {
          "base_uri": "https://localhost:8080/"
        },
        "id": "MM4L5nnIRZgp",
        "outputId": "22899db4-910f-4b3d-ab00-79aa8058bf9a"
      },
      "execution_count": 320,
      "outputs": [
        {
          "output_type": "execute_result",
          "data": {
            "text/plain": [
              "array(['SBrkr', 'FuseF', 'FuseA', 'FuseP', 'Mix', nan], dtype=object)"
            ]
          },
          "metadata": {},
          "execution_count": 320
        }
      ]
    },
    {
      "cell_type": "code",
      "source": [
        "df['GarageYrBlt'].unique()"
      ],
      "metadata": {
        "colab": {
          "base_uri": "https://localhost:8080/"
        },
        "id": "pAmU9_BKRhSP",
        "outputId": "c86f658d-5a6b-4859-c663-e53c7aa4b84c"
      },
      "execution_count": 321,
      "outputs": [
        {
          "output_type": "execute_result",
          "data": {
            "text/plain": [
              "array([2003., 1976., 2001., 1998., 2000., 1993., 2004., 1973., 1931.,\n",
              "       1939., 1965., 2005., 1962., 2006., 1960., 1991., 1970., 1967.,\n",
              "       1958., 1930., 2002., 1968., 2007., 2008., 1957., 1920., 1966.,\n",
              "       1959., 1995., 1954., 1953.,   nan, 1983., 1977., 1997., 1985.,\n",
              "       1963., 1981., 1964., 1999., 1935., 1990., 1945., 1987., 1989.,\n",
              "       1915., 1956., 1948., 1974., 2009., 1950., 1961., 1921., 1900.,\n",
              "       1979., 1951., 1969., 1936., 1975., 1971., 1923., 1984., 1926.,\n",
              "       1955., 1986., 1988., 1916., 1932., 1972., 1918., 1980., 1924.,\n",
              "       1996., 1940., 1949., 1994., 1910., 1978., 1982., 1992., 1925.,\n",
              "       1941., 2010., 1927., 1947., 1937., 1942., 1938., 1952., 1928.,\n",
              "       1922., 1934., 1906., 1914., 1946., 1908., 1929., 1933.])"
            ]
          },
          "metadata": {},
          "execution_count": 321
        }
      ]
    },
    {
      "cell_type": "code",
      "execution_count": 322,
      "metadata": {
        "id": "e8xYZJv2P7Iv",
        "colab": {
          "base_uri": "https://localhost:8080/",
          "height": 36
        },
        "outputId": "c7c215c3-f3e9-4fc2-d3ed-fbff16598d0f"
      },
      "outputs": [
        {
          "output_type": "execute_result",
          "data": {
            "text/plain": [
              "'SBrkr'"
            ],
            "application/vnd.google.colaboratory.intrinsic+json": {
              "type": "string"
            }
          },
          "metadata": {},
          "execution_count": 322
        }
      ],
      "source": [
        "# Find the mode for categorical data\n",
        "mode=df['Electrical'].mode()[0]  # to find the means of the column\n",
        "mode"
      ]
    },
    {
      "cell_type": "code",
      "execution_count": 323,
      "metadata": {
        "id": "LFsnOsX8QFF7"
      },
      "outputs": [],
      "source": [
        "#fill the null values with mode\n",
        "df['Electrical'].fillna(value=mode, inplace=True)\n"
      ]
    },
    {
      "cell_type": "code",
      "execution_count": 324,
      "metadata": {
        "id": "6iWyrn3bQRdo",
        "colab": {
          "base_uri": "https://localhost:8080/"
        },
        "outputId": "bab56c2a-a847-4885-f863-c7081cea2cdf"
      },
      "outputs": [
        {
          "output_type": "execute_result",
          "data": {
            "text/plain": [
              "1978.5061638868744"
            ]
          },
          "metadata": {},
          "execution_count": 324
        }
      ],
      "source": [
        "# Find the mean Values\n",
        "mean=df['GarageYrBlt'].mean()  # to find the means of the column\n",
        "mean\n",
        "\n"
      ]
    },
    {
      "cell_type": "code",
      "execution_count": 325,
      "metadata": {
        "id": "g38BJeFEQxFq",
        "colab": {
          "base_uri": "https://localhost:8080/"
        },
        "outputId": "199c46e6-698f-4aeb-85ca-f18a5565d010"
      },
      "outputs": [
        {
          "output_type": "execute_result",
          "data": {
            "text/plain": [
              "1980.0"
            ]
          },
          "metadata": {},
          "execution_count": 325
        }
      ],
      "source": [
        "# Find the nmedian values\n",
        "md=df['GarageYrBlt'].median()  # to find the median of the column\n",
        "md"
      ]
    },
    {
      "cell_type": "code",
      "execution_count": 326,
      "metadata": {
        "id": "eGsX02nuQqvM"
      },
      "outputs": [],
      "source": [
        "# replace the with the median values\n",
        "\n",
        "df['GarageYrBlt'].fillna(value=md, inplace=True)"
      ]
    },
    {
      "cell_type": "code",
      "source": [
        "# Find the mode for categorical data\n",
        "mode=df['MasonryVeneerType'].mode()[0]  # to find the means of the column\n",
        "mode"
      ],
      "metadata": {
        "colab": {
          "base_uri": "https://localhost:8080/",
          "height": 36
        },
        "id": "SFpeDeN2R0v4",
        "outputId": "0eecf354-94c7-40ca-8b83-968e80a9b4cb"
      },
      "execution_count": 327,
      "outputs": [
        {
          "output_type": "execute_result",
          "data": {
            "text/plain": [
              "'BrkFace'"
            ],
            "application/vnd.google.colaboratory.intrinsic+json": {
              "type": "string"
            }
          },
          "metadata": {},
          "execution_count": 327
        }
      ]
    },
    {
      "cell_type": "code",
      "source": [
        "#fill the null values with mode\n",
        "df['MasonryVeneerType'].fillna(value=mode, inplace=True)"
      ],
      "metadata": {
        "id": "dLiXhWKBR8zf"
      },
      "execution_count": 328,
      "outputs": []
    },
    {
      "cell_type": "code",
      "execution_count": 329,
      "metadata": {
        "id": "67nP3gn5M7ZO",
        "colab": {
          "base_uri": "https://localhost:8080/"
        },
        "outputId": "d5118efb-5a47-42c5-a055-9491f8516c4d"
      },
      "outputs": [
        {
          "output_type": "stream",
          "name": "stdout",
          "text": [
            "<class 'pandas.core.frame.DataFrame'>\n",
            "RangeIndex: 1460 entries, 0 to 1459\n",
            "Data columns (total 74 columns):\n",
            " #   Column                       Non-Null Count  Dtype  \n",
            "---  ------                       --------------  -----  \n",
            " 0   PropertySubClass             1460 non-null   object \n",
            " 1   PropertyZone                 1460 non-null   object \n",
            " 2   PropertyFrontage             1460 non-null   int64  \n",
            " 3   PropertyArea                 1460 non-null   int64  \n",
            " 4   Street                       1460 non-null   object \n",
            " 5   PropertyShape                1460 non-null   object \n",
            " 6   PropertyContour              1460 non-null   object \n",
            " 7   Utilities                    1460 non-null   object \n",
            " 8   PropertyConfig               1460 non-null   object \n",
            " 9   PropertySlope                1460 non-null   object \n",
            " 10  Neighborhood                 1460 non-null   object \n",
            " 11  Condition2                   1460 non-null   object \n",
            " 12  BldgType                     1460 non-null   object \n",
            " 13  HouseStyle                   1460 non-null   object \n",
            " 14  OverallQual                  1460 non-null   int64  \n",
            " 15  YearBuilt                    1460 non-null   int64  \n",
            " 16  YearRemodAdd                 1460 non-null   int64  \n",
            " 17  RoofStyle                    1460 non-null   object \n",
            " 18  RoofMatl                     1460 non-null   object \n",
            " 19  Exterior1st                  1460 non-null   object \n",
            " 20  MasonryVeneerType            1460 non-null   object \n",
            " 21  MasonryVeneerArea            1460 non-null   int64  \n",
            " 22  ExterQual                    1460 non-null   object \n",
            " 23  ExterCond                    1460 non-null   object \n",
            " 24  Foundation                   1460 non-null   object \n",
            " 25  BasementQuality              1460 non-null   object \n",
            " 26  BasementCondition            1460 non-null   object \n",
            " 27  BasementExposure             1460 non-null   object \n",
            " 28  BasementFinishType1          1460 non-null   object \n",
            " 29  BasementFinishSquareFeet1    1460 non-null   int64  \n",
            " 30  BasementUnFinishSquareFeet   1460 non-null   int64  \n",
            " 31  TotalBasementSquareFeet      1460 non-null   int64  \n",
            " 32  Heating                      1460 non-null   object \n",
            " 33  HeatingQC                    1460 non-null   object \n",
            " 34  CentralAir                   1460 non-null   object \n",
            " 35  Electrical                   1460 non-null   object \n",
            " 36  FirstFloorSquareFeet         1460 non-null   int64  \n",
            " 37  SecondFloorSquareFeet        1460 non-null   int64  \n",
            " 38  LowQualFinSF                 1460 non-null   int64  \n",
            " 39  AboveGradeGroundLiving Area  1460 non-null   int64  \n",
            " 40  BasementFullBath             1460 non-null   int64  \n",
            " 41  BasementHalfBath             1460 non-null   int64  \n",
            " 42  FullBath                     1460 non-null   int64  \n",
            " 43  HalfBath                     1460 non-null   int64  \n",
            " 44  BedroomAbvGr                 1460 non-null   int64  \n",
            " 45  KitchenAbvGr                 1460 non-null   int64  \n",
            " 46  KitchenQual                  1460 non-null   object \n",
            " 47  TotalRoomsAboveGrade         1460 non-null   int64  \n",
            " 48  Functional                   1460 non-null   object \n",
            " 49  Fireplaces                   1460 non-null   int64  \n",
            " 50  FireplaceQu                  1460 non-null   object \n",
            " 51  GarageType                   1460 non-null   object \n",
            " 52  GarageYrBlt                  1460 non-null   float64\n",
            " 53  GarageFinish                 1460 non-null   object \n",
            " 54  GarageCars                   1460 non-null   int64  \n",
            " 55  GarageArea                   1460 non-null   int64  \n",
            " 56  GarageQual                   1460 non-null   object \n",
            " 57  GarageCond                   1460 non-null   object \n",
            " 58  PavedDrive                   1460 non-null   object \n",
            " 59  WoodDeckSF                   1460 non-null   int64  \n",
            " 60  OpenPorchSF                  1460 non-null   int64  \n",
            " 61  EnclosedPorch                1460 non-null   int64  \n",
            " 62  ThreeSeasonPorchArea         1460 non-null   int64  \n",
            " 63  ScreenPorch                  1460 non-null   int64  \n",
            " 64  PoolArea                     1460 non-null   int64  \n",
            " 65  PoolQC                       1460 non-null   object \n",
            " 66  Fence                        1460 non-null   object \n",
            " 67  MiscFeature                  1460 non-null   object \n",
            " 68  MiscVal                      1460 non-null   int64  \n",
            " 69  MoSold                       1460 non-null   object \n",
            " 70  YrSold                       1460 non-null   int64  \n",
            " 71  SaleType                     1460 non-null   object \n",
            " 72  SaleCondition                1460 non-null   object \n",
            " 73  SalePrice                    1460 non-null   int64  \n",
            "dtypes: float64(1), int64(32), object(41)\n",
            "memory usage: 844.2+ KB\n"
          ]
        }
      ],
      "source": [
        "# what is the info in my data after replacing null values\n",
        "df.info()"
      ]
    },
    {
      "cell_type": "code",
      "execution_count": 330,
      "metadata": {
        "id": "ktaM_hfzPphh",
        "colab": {
          "base_uri": "https://localhost:8080/",
          "height": 423
        },
        "outputId": "7b0d7666-1a97-4fad-a846-723cfb310cb2"
      },
      "outputs": [
        {
          "output_type": "execute_result",
          "data": {
            "text/plain": [
              "                                        0                                1  \\\n",
              "PropertySubClass     2-STORY 1946 & NEWER  1-STORY 1946 & NEWER ALL STYLES   \n",
              "PropertyZone      Residential Low-Density          Residential Low-Density   \n",
              "PropertyFrontage                       65                               80   \n",
              "PropertyArea                         8450                             9600   \n",
              "Street                             Paved                            Paved    \n",
              "...                                   ...                              ...   \n",
              "MoSold                                Feb                              May   \n",
              "YrSold                               2008                             2007   \n",
              "SaleType                               WD                               WD   \n",
              "SaleCondition                      Normal                           Normal   \n",
              "SalePrice                          208500                           181500   \n",
              "\n",
              "                                        2                        3  \\\n",
              "PropertySubClass     2-STORY 1946 & NEWER     2-STORY 1945 & OLDER   \n",
              "PropertyZone      Residential Low-Density  Residential Low-Density   \n",
              "PropertyFrontage                       68                       60   \n",
              "PropertyArea                        11250                     9550   \n",
              "Street                             Paved                    Paved    \n",
              "...                                   ...                      ...   \n",
              "MoSold                                Sep                      Feb   \n",
              "YrSold                               2008                     2006   \n",
              "SaleType                               WD                       WD   \n",
              "SaleCondition                      Normal                  Abnorml   \n",
              "SalePrice                          223500                   140000   \n",
              "\n",
              "                                        4  \n",
              "PropertySubClass     2-STORY 1946 & NEWER  \n",
              "PropertyZone      Residential Low-Density  \n",
              "PropertyFrontage                       84  \n",
              "PropertyArea                        14260  \n",
              "Street                             Paved   \n",
              "...                                   ...  \n",
              "MoSold                                Dec  \n",
              "YrSold                               2008  \n",
              "SaleType                               WD  \n",
              "SaleCondition                      Normal  \n",
              "SalePrice                          250000  \n",
              "\n",
              "[74 rows x 5 columns]"
            ],
            "text/html": [
              "\n",
              "  <div id=\"df-0c35577e-e7cb-41f6-821c-e7b2a9480c56\" class=\"colab-df-container\">\n",
              "    <div>\n",
              "<style scoped>\n",
              "    .dataframe tbody tr th:only-of-type {\n",
              "        vertical-align: middle;\n",
              "    }\n",
              "\n",
              "    .dataframe tbody tr th {\n",
              "        vertical-align: top;\n",
              "    }\n",
              "\n",
              "    .dataframe thead th {\n",
              "        text-align: right;\n",
              "    }\n",
              "</style>\n",
              "<table border=\"1\" class=\"dataframe\">\n",
              "  <thead>\n",
              "    <tr style=\"text-align: right;\">\n",
              "      <th></th>\n",
              "      <th>0</th>\n",
              "      <th>1</th>\n",
              "      <th>2</th>\n",
              "      <th>3</th>\n",
              "      <th>4</th>\n",
              "    </tr>\n",
              "  </thead>\n",
              "  <tbody>\n",
              "    <tr>\n",
              "      <th>PropertySubClass</th>\n",
              "      <td>2-STORY 1946 &amp; NEWER</td>\n",
              "      <td>1-STORY 1946 &amp; NEWER ALL STYLES</td>\n",
              "      <td>2-STORY 1946 &amp; NEWER</td>\n",
              "      <td>2-STORY 1945 &amp; OLDER</td>\n",
              "      <td>2-STORY 1946 &amp; NEWER</td>\n",
              "    </tr>\n",
              "    <tr>\n",
              "      <th>PropertyZone</th>\n",
              "      <td>Residential Low-Density</td>\n",
              "      <td>Residential Low-Density</td>\n",
              "      <td>Residential Low-Density</td>\n",
              "      <td>Residential Low-Density</td>\n",
              "      <td>Residential Low-Density</td>\n",
              "    </tr>\n",
              "    <tr>\n",
              "      <th>PropertyFrontage</th>\n",
              "      <td>65</td>\n",
              "      <td>80</td>\n",
              "      <td>68</td>\n",
              "      <td>60</td>\n",
              "      <td>84</td>\n",
              "    </tr>\n",
              "    <tr>\n",
              "      <th>PropertyArea</th>\n",
              "      <td>8450</td>\n",
              "      <td>9600</td>\n",
              "      <td>11250</td>\n",
              "      <td>9550</td>\n",
              "      <td>14260</td>\n",
              "    </tr>\n",
              "    <tr>\n",
              "      <th>Street</th>\n",
              "      <td>Paved</td>\n",
              "      <td>Paved</td>\n",
              "      <td>Paved</td>\n",
              "      <td>Paved</td>\n",
              "      <td>Paved</td>\n",
              "    </tr>\n",
              "    <tr>\n",
              "      <th>...</th>\n",
              "      <td>...</td>\n",
              "      <td>...</td>\n",
              "      <td>...</td>\n",
              "      <td>...</td>\n",
              "      <td>...</td>\n",
              "    </tr>\n",
              "    <tr>\n",
              "      <th>MoSold</th>\n",
              "      <td>Feb</td>\n",
              "      <td>May</td>\n",
              "      <td>Sep</td>\n",
              "      <td>Feb</td>\n",
              "      <td>Dec</td>\n",
              "    </tr>\n",
              "    <tr>\n",
              "      <th>YrSold</th>\n",
              "      <td>2008</td>\n",
              "      <td>2007</td>\n",
              "      <td>2008</td>\n",
              "      <td>2006</td>\n",
              "      <td>2008</td>\n",
              "    </tr>\n",
              "    <tr>\n",
              "      <th>SaleType</th>\n",
              "      <td>WD</td>\n",
              "      <td>WD</td>\n",
              "      <td>WD</td>\n",
              "      <td>WD</td>\n",
              "      <td>WD</td>\n",
              "    </tr>\n",
              "    <tr>\n",
              "      <th>SaleCondition</th>\n",
              "      <td>Normal</td>\n",
              "      <td>Normal</td>\n",
              "      <td>Normal</td>\n",
              "      <td>Abnorml</td>\n",
              "      <td>Normal</td>\n",
              "    </tr>\n",
              "    <tr>\n",
              "      <th>SalePrice</th>\n",
              "      <td>208500</td>\n",
              "      <td>181500</td>\n",
              "      <td>223500</td>\n",
              "      <td>140000</td>\n",
              "      <td>250000</td>\n",
              "    </tr>\n",
              "  </tbody>\n",
              "</table>\n",
              "<p>74 rows × 5 columns</p>\n",
              "</div>\n",
              "    <div class=\"colab-df-buttons\">\n",
              "\n",
              "  <div class=\"colab-df-container\">\n",
              "    <button class=\"colab-df-convert\" onclick=\"convertToInteractive('df-0c35577e-e7cb-41f6-821c-e7b2a9480c56')\"\n",
              "            title=\"Convert this dataframe to an interactive table.\"\n",
              "            style=\"display:none;\">\n",
              "\n",
              "  <svg xmlns=\"http://www.w3.org/2000/svg\" height=\"24px\" viewBox=\"0 -960 960 960\">\n",
              "    <path d=\"M120-120v-720h720v720H120Zm60-500h600v-160H180v160Zm220 220h160v-160H400v160Zm0 220h160v-160H400v160ZM180-400h160v-160H180v160Zm440 0h160v-160H620v160ZM180-180h160v-160H180v160Zm440 0h160v-160H620v160Z\"/>\n",
              "  </svg>\n",
              "    </button>\n",
              "\n",
              "  <style>\n",
              "    .colab-df-container {\n",
              "      display:flex;\n",
              "      gap: 12px;\n",
              "    }\n",
              "\n",
              "    .colab-df-convert {\n",
              "      background-color: #E8F0FE;\n",
              "      border: none;\n",
              "      border-radius: 50%;\n",
              "      cursor: pointer;\n",
              "      display: none;\n",
              "      fill: #1967D2;\n",
              "      height: 32px;\n",
              "      padding: 0 0 0 0;\n",
              "      width: 32px;\n",
              "    }\n",
              "\n",
              "    .colab-df-convert:hover {\n",
              "      background-color: #E2EBFA;\n",
              "      box-shadow: 0px 1px 2px rgba(60, 64, 67, 0.3), 0px 1px 3px 1px rgba(60, 64, 67, 0.15);\n",
              "      fill: #174EA6;\n",
              "    }\n",
              "\n",
              "    .colab-df-buttons div {\n",
              "      margin-bottom: 4px;\n",
              "    }\n",
              "\n",
              "    [theme=dark] .colab-df-convert {\n",
              "      background-color: #3B4455;\n",
              "      fill: #D2E3FC;\n",
              "    }\n",
              "\n",
              "    [theme=dark] .colab-df-convert:hover {\n",
              "      background-color: #434B5C;\n",
              "      box-shadow: 0px 1px 3px 1px rgba(0, 0, 0, 0.15);\n",
              "      filter: drop-shadow(0px 1px 2px rgba(0, 0, 0, 0.3));\n",
              "      fill: #FFFFFF;\n",
              "    }\n",
              "  </style>\n",
              "\n",
              "    <script>\n",
              "      const buttonEl =\n",
              "        document.querySelector('#df-0c35577e-e7cb-41f6-821c-e7b2a9480c56 button.colab-df-convert');\n",
              "      buttonEl.style.display =\n",
              "        google.colab.kernel.accessAllowed ? 'block' : 'none';\n",
              "\n",
              "      async function convertToInteractive(key) {\n",
              "        const element = document.querySelector('#df-0c35577e-e7cb-41f6-821c-e7b2a9480c56');\n",
              "        const dataTable =\n",
              "          await google.colab.kernel.invokeFunction('convertToInteractive',\n",
              "                                                    [key], {});\n",
              "        if (!dataTable) return;\n",
              "\n",
              "        const docLinkHtml = 'Like what you see? Visit the ' +\n",
              "          '<a target=\"_blank\" href=https://colab.research.google.com/notebooks/data_table.ipynb>data table notebook</a>'\n",
              "          + ' to learn more about interactive tables.';\n",
              "        element.innerHTML = '';\n",
              "        dataTable['output_type'] = 'display_data';\n",
              "        await google.colab.output.renderOutput(dataTable, element);\n",
              "        const docLink = document.createElement('div');\n",
              "        docLink.innerHTML = docLinkHtml;\n",
              "        element.appendChild(docLink);\n",
              "      }\n",
              "    </script>\n",
              "  </div>\n",
              "\n",
              "\n",
              "<div id=\"df-ba35f40f-705b-4ecc-8f1c-615052bcd468\">\n",
              "  <button class=\"colab-df-quickchart\" onclick=\"quickchart('df-ba35f40f-705b-4ecc-8f1c-615052bcd468')\"\n",
              "            title=\"Suggest charts\"\n",
              "            style=\"display:none;\">\n",
              "\n",
              "<svg xmlns=\"http://www.w3.org/2000/svg\" height=\"24px\"viewBox=\"0 0 24 24\"\n",
              "     width=\"24px\">\n",
              "    <g>\n",
              "        <path d=\"M19 3H5c-1.1 0-2 .9-2 2v14c0 1.1.9 2 2 2h14c1.1 0 2-.9 2-2V5c0-1.1-.9-2-2-2zM9 17H7v-7h2v7zm4 0h-2V7h2v10zm4 0h-2v-4h2v4z\"/>\n",
              "    </g>\n",
              "</svg>\n",
              "  </button>\n",
              "\n",
              "<style>\n",
              "  .colab-df-quickchart {\n",
              "      --bg-color: #E8F0FE;\n",
              "      --fill-color: #1967D2;\n",
              "      --hover-bg-color: #E2EBFA;\n",
              "      --hover-fill-color: #174EA6;\n",
              "      --disabled-fill-color: #AAA;\n",
              "      --disabled-bg-color: #DDD;\n",
              "  }\n",
              "\n",
              "  [theme=dark] .colab-df-quickchart {\n",
              "      --bg-color: #3B4455;\n",
              "      --fill-color: #D2E3FC;\n",
              "      --hover-bg-color: #434B5C;\n",
              "      --hover-fill-color: #FFFFFF;\n",
              "      --disabled-bg-color: #3B4455;\n",
              "      --disabled-fill-color: #666;\n",
              "  }\n",
              "\n",
              "  .colab-df-quickchart {\n",
              "    background-color: var(--bg-color);\n",
              "    border: none;\n",
              "    border-radius: 50%;\n",
              "    cursor: pointer;\n",
              "    display: none;\n",
              "    fill: var(--fill-color);\n",
              "    height: 32px;\n",
              "    padding: 0;\n",
              "    width: 32px;\n",
              "  }\n",
              "\n",
              "  .colab-df-quickchart:hover {\n",
              "    background-color: var(--hover-bg-color);\n",
              "    box-shadow: 0 1px 2px rgba(60, 64, 67, 0.3), 0 1px 3px 1px rgba(60, 64, 67, 0.15);\n",
              "    fill: var(--button-hover-fill-color);\n",
              "  }\n",
              "\n",
              "  .colab-df-quickchart-complete:disabled,\n",
              "  .colab-df-quickchart-complete:disabled:hover {\n",
              "    background-color: var(--disabled-bg-color);\n",
              "    fill: var(--disabled-fill-color);\n",
              "    box-shadow: none;\n",
              "  }\n",
              "\n",
              "  .colab-df-spinner {\n",
              "    border: 2px solid var(--fill-color);\n",
              "    border-color: transparent;\n",
              "    border-bottom-color: var(--fill-color);\n",
              "    animation:\n",
              "      spin 1s steps(1) infinite;\n",
              "  }\n",
              "\n",
              "  @keyframes spin {\n",
              "    0% {\n",
              "      border-color: transparent;\n",
              "      border-bottom-color: var(--fill-color);\n",
              "      border-left-color: var(--fill-color);\n",
              "    }\n",
              "    20% {\n",
              "      border-color: transparent;\n",
              "      border-left-color: var(--fill-color);\n",
              "      border-top-color: var(--fill-color);\n",
              "    }\n",
              "    30% {\n",
              "      border-color: transparent;\n",
              "      border-left-color: var(--fill-color);\n",
              "      border-top-color: var(--fill-color);\n",
              "      border-right-color: var(--fill-color);\n",
              "    }\n",
              "    40% {\n",
              "      border-color: transparent;\n",
              "      border-right-color: var(--fill-color);\n",
              "      border-top-color: var(--fill-color);\n",
              "    }\n",
              "    60% {\n",
              "      border-color: transparent;\n",
              "      border-right-color: var(--fill-color);\n",
              "    }\n",
              "    80% {\n",
              "      border-color: transparent;\n",
              "      border-right-color: var(--fill-color);\n",
              "      border-bottom-color: var(--fill-color);\n",
              "    }\n",
              "    90% {\n",
              "      border-color: transparent;\n",
              "      border-bottom-color: var(--fill-color);\n",
              "    }\n",
              "  }\n",
              "</style>\n",
              "\n",
              "  <script>\n",
              "    async function quickchart(key) {\n",
              "      const quickchartButtonEl =\n",
              "        document.querySelector('#' + key + ' button');\n",
              "      quickchartButtonEl.disabled = true;  // To prevent multiple clicks.\n",
              "      quickchartButtonEl.classList.add('colab-df-spinner');\n",
              "      try {\n",
              "        const charts = await google.colab.kernel.invokeFunction(\n",
              "            'suggestCharts', [key], {});\n",
              "      } catch (error) {\n",
              "        console.error('Error during call to suggestCharts:', error);\n",
              "      }\n",
              "      quickchartButtonEl.classList.remove('colab-df-spinner');\n",
              "      quickchartButtonEl.classList.add('colab-df-quickchart-complete');\n",
              "    }\n",
              "    (() => {\n",
              "      let quickchartButtonEl =\n",
              "        document.querySelector('#df-ba35f40f-705b-4ecc-8f1c-615052bcd468 button');\n",
              "      quickchartButtonEl.style.display =\n",
              "        google.colab.kernel.accessAllowed ? 'block' : 'none';\n",
              "    })();\n",
              "  </script>\n",
              "</div>\n",
              "\n",
              "    </div>\n",
              "  </div>\n"
            ],
            "application/vnd.google.colaboratory.intrinsic+json": {
              "type": "dataframe",
              "variable_name": "df"
            }
          },
          "metadata": {},
          "execution_count": 330
        }
      ],
      "source": [
        "# Transpose  the data have a different look at the data\n",
        "df.head().T"
      ]
    },
    {
      "cell_type": "code",
      "execution_count": 331,
      "metadata": {
        "id": "Uk8lEDGfuYMO",
        "colab": {
          "base_uri": "https://localhost:8080/"
        },
        "outputId": "66d50827-fad8-4260-916d-19b58adba1b9"
      },
      "outputs": [
        {
          "output_type": "execute_result",
          "data": {
            "text/plain": [
              "PropertySubClass    1460\n",
              "PropertyZone        1460\n",
              "PropertyFrontage    1460\n",
              "PropertyArea        1460\n",
              "Street              1460\n",
              "                    ... \n",
              "MoSold              1460\n",
              "YrSold              1460\n",
              "SaleType            1460\n",
              "SaleCondition       1460\n",
              "SalePrice           1460\n",
              "Length: 74, dtype: int64"
            ]
          },
          "metadata": {},
          "execution_count": 331
        }
      ],
      "source": [
        "df = df.drop_duplicates()\n",
        "df.count()"
      ]
    },
    {
      "cell_type": "code",
      "execution_count": 332,
      "metadata": {
        "id": "xJla6ZkF41nj",
        "colab": {
          "base_uri": "https://localhost:8080/"
        },
        "outputId": "38e9d7e6-a14a-4d30-c21e-e1d953a94566"
      },
      "outputs": [
        {
          "output_type": "stream",
          "name": "stdout",
          "text": [
            "Column 'PropertySubClass': 0 null values\n",
            "Column 'PropertyZone': 0 null values\n",
            "Column 'PropertyFrontage': 0 null values\n",
            "Column 'PropertyArea': 0 null values\n",
            "Column 'Street': 0 null values\n",
            "Column 'PropertyShape': 0 null values\n",
            "Column 'PropertyContour': 0 null values\n",
            "Column 'Utilities': 0 null values\n",
            "Column 'PropertyConfig': 0 null values\n",
            "Column 'PropertySlope': 0 null values\n",
            "Column 'Neighborhood': 0 null values\n",
            "Column 'Condition2': 0 null values\n",
            "Column 'BldgType': 0 null values\n",
            "Column 'HouseStyle': 0 null values\n",
            "Column 'OverallQual': 0 null values\n",
            "Column 'YearBuilt': 0 null values\n",
            "Column 'YearRemodAdd': 0 null values\n",
            "Column 'RoofStyle': 0 null values\n",
            "Column 'RoofMatl': 0 null values\n",
            "Column 'Exterior1st': 0 null values\n",
            "Column 'MasonryVeneerType': 0 null values\n",
            "Column 'MasonryVeneerArea': 0 null values\n",
            "Column 'ExterQual': 0 null values\n",
            "Column 'ExterCond': 0 null values\n",
            "Column 'Foundation': 0 null values\n",
            "Column 'BasementQuality': 0 null values\n",
            "Column 'BasementCondition': 0 null values\n",
            "Column 'BasementExposure': 0 null values\n",
            "Column 'BasementFinishType1': 0 null values\n",
            "Column 'BasementFinishSquareFeet1': 0 null values\n",
            "Column 'BasementUnFinishSquareFeet': 0 null values\n",
            "Column 'TotalBasementSquareFeet': 0 null values\n",
            "Column 'Heating': 0 null values\n",
            "Column 'HeatingQC': 0 null values\n",
            "Column 'CentralAir': 0 null values\n",
            "Column 'Electrical': 0 null values\n",
            "Column 'FirstFloorSquareFeet': 0 null values\n",
            "Column 'SecondFloorSquareFeet': 0 null values\n",
            "Column 'LowQualFinSF': 0 null values\n",
            "Column 'AboveGradeGroundLiving Area': 0 null values\n",
            "Column 'BasementFullBath': 0 null values\n",
            "Column 'BasementHalfBath': 0 null values\n",
            "Column 'FullBath': 0 null values\n",
            "Column 'HalfBath': 0 null values\n",
            "Column 'BedroomAbvGr': 0 null values\n",
            "Column 'KitchenAbvGr': 0 null values\n",
            "Column 'KitchenQual': 0 null values\n",
            "Column 'TotalRoomsAboveGrade': 0 null values\n",
            "Column 'Functional': 0 null values\n",
            "Column 'Fireplaces': 0 null values\n",
            "Column 'FireplaceQu': 0 null values\n",
            "Column 'GarageType': 0 null values\n",
            "Column 'GarageYrBlt': 0 null values\n",
            "Column 'GarageFinish': 0 null values\n",
            "Column 'GarageCars': 0 null values\n",
            "Column 'GarageArea': 0 null values\n",
            "Column 'GarageQual': 0 null values\n",
            "Column 'GarageCond': 0 null values\n",
            "Column 'PavedDrive': 0 null values\n",
            "Column 'WoodDeckSF': 0 null values\n",
            "Column 'OpenPorchSF': 0 null values\n",
            "Column 'EnclosedPorch': 0 null values\n",
            "Column 'ThreeSeasonPorchArea': 0 null values\n",
            "Column 'ScreenPorch': 0 null values\n",
            "Column 'PoolArea': 0 null values\n",
            "Column 'PoolQC': 0 null values\n",
            "Column 'Fence': 0 null values\n",
            "Column 'MiscFeature': 0 null values\n",
            "Column 'MiscVal': 0 null values\n",
            "Column 'MoSold': 0 null values\n",
            "Column 'YrSold': 0 null values\n",
            "Column 'SaleType': 0 null values\n",
            "Column 'SaleCondition': 0 null values\n",
            "Column 'SalePrice': 0 null values\n"
          ]
        }
      ],
      "source": [
        "# find and print null values\n",
        "null_values = df.isnull()\n",
        "null_counts = null_values.sum()\n",
        "null_counts\n",
        "\n",
        "for column, count in null_counts.items():\n",
        "    print(f\"Column '{column}': {count} null values\")"
      ]
    },
    {
      "cell_type": "code",
      "source": [
        "df.shape"
      ],
      "metadata": {
        "id": "B_gpzW1KbYR6",
        "outputId": "a5829526-6b31-49ea-9207-3e86e813ff69",
        "colab": {
          "base_uri": "https://localhost:8080/"
        }
      },
      "execution_count": 355,
      "outputs": [
        {
          "output_type": "execute_result",
          "data": {
            "text/plain": [
              "(1399, 232)"
            ]
          },
          "metadata": {},
          "execution_count": 355
        }
      ]
    },
    {
      "cell_type": "code",
      "execution_count": 333,
      "metadata": {
        "id": "5fZhE6Ar5gcb"
      },
      "outputs": [],
      "source": [
        "# indentify numberical and categorical data\n",
        "num_columns = df.select_dtypes(include=['number']).columns.to_list()\n",
        "cat_columns = df.select_dtypes(include=['object']).columns.to_list()"
      ]
    },
    {
      "cell_type": "code",
      "execution_count": 334,
      "metadata": {
        "id": "0XnvrtZC2CTd",
        "colab": {
          "base_uri": "https://localhost:8080/"
        },
        "outputId": "0fe80ca1-cb81-43aa-f755-58a9b2444f0b"
      },
      "outputs": [
        {
          "output_type": "execute_result",
          "data": {
            "text/plain": [
              "['PropertyFrontage',\n",
              " 'PropertyArea',\n",
              " 'OverallQual',\n",
              " 'YearBuilt',\n",
              " 'YearRemodAdd',\n",
              " 'MasonryVeneerArea',\n",
              " 'BasementFinishSquareFeet1',\n",
              " 'BasementUnFinishSquareFeet',\n",
              " 'TotalBasementSquareFeet',\n",
              " 'FirstFloorSquareFeet',\n",
              " 'SecondFloorSquareFeet',\n",
              " 'LowQualFinSF',\n",
              " 'AboveGradeGroundLiving Area',\n",
              " 'BasementFullBath',\n",
              " 'BasementHalfBath',\n",
              " 'FullBath',\n",
              " 'HalfBath',\n",
              " 'BedroomAbvGr',\n",
              " 'KitchenAbvGr',\n",
              " 'TotalRoomsAboveGrade',\n",
              " 'Fireplaces',\n",
              " 'GarageYrBlt',\n",
              " 'GarageCars',\n",
              " 'GarageArea',\n",
              " 'WoodDeckSF',\n",
              " 'OpenPorchSF',\n",
              " 'EnclosedPorch',\n",
              " 'ThreeSeasonPorchArea',\n",
              " 'ScreenPorch',\n",
              " 'PoolArea',\n",
              " 'MiscVal',\n",
              " 'YrSold',\n",
              " 'SalePrice']"
            ]
          },
          "metadata": {},
          "execution_count": 334
        }
      ],
      "source": [
        "num_columns"
      ]
    },
    {
      "cell_type": "code",
      "execution_count": 335,
      "metadata": {
        "id": "Qv7p3Irc2NEs",
        "colab": {
          "base_uri": "https://localhost:8080/"
        },
        "outputId": "f6ed5e49-657e-4d64-f777-b93fbc0f7f53"
      },
      "outputs": [
        {
          "output_type": "execute_result",
          "data": {
            "text/plain": [
              "['PropertySubClass',\n",
              " 'PropertyZone',\n",
              " 'Street',\n",
              " 'PropertyShape',\n",
              " 'PropertyContour',\n",
              " 'Utilities',\n",
              " 'PropertyConfig',\n",
              " 'PropertySlope',\n",
              " 'Neighborhood',\n",
              " 'Condition2',\n",
              " 'BldgType',\n",
              " 'HouseStyle',\n",
              " 'RoofStyle',\n",
              " 'RoofMatl',\n",
              " 'Exterior1st',\n",
              " 'MasonryVeneerType',\n",
              " 'ExterQual',\n",
              " 'ExterCond',\n",
              " 'Foundation',\n",
              " 'BasementQuality',\n",
              " 'BasementCondition',\n",
              " 'BasementExposure',\n",
              " 'BasementFinishType1',\n",
              " 'Heating',\n",
              " 'HeatingQC',\n",
              " 'CentralAir',\n",
              " 'Electrical',\n",
              " 'KitchenQual',\n",
              " 'Functional',\n",
              " 'FireplaceQu',\n",
              " 'GarageType',\n",
              " 'GarageFinish',\n",
              " 'GarageQual',\n",
              " 'GarageCond',\n",
              " 'PavedDrive',\n",
              " 'PoolQC',\n",
              " 'Fence',\n",
              " 'MiscFeature',\n",
              " 'MoSold',\n",
              " 'SaleType',\n",
              " 'SaleCondition']"
            ]
          },
          "metadata": {},
          "execution_count": 335
        }
      ],
      "source": [
        "cat_columns"
      ]
    },
    {
      "cell_type": "code",
      "source": [
        "# import ordinal encoder\n",
        "from sklearn.preprocessing import OrdinalEncoder\n"
      ],
      "metadata": {
        "id": "sVTK9wuAZy1v"
      },
      "execution_count": 339,
      "outputs": []
    },
    {
      "cell_type": "code",
      "execution_count": 340,
      "metadata": {
        "id": "zXLSIF9un0ca"
      },
      "outputs": [],
      "source": [
        "# Select only the categorical ordinal columns\n",
        "categorical_ordcolumns = ['ExterQual', 'Condition2', 'BldgType', 'HouseStyle', 'RoofStyle', 'KitchenQual','BasementCondition', 'BasementQuality',\n",
        "                   'FireplaceQu','GarageQual', 'GarageCond', 'SaleCondition',]\n",
        "encoder = OrdinalEncoder()\n",
        "\n",
        "\n",
        "\n",
        "# Fit the encoder to the categorical columns\n",
        "encoder.fit(df[categorical_ordcolumns])\n",
        "\n",
        "\n",
        "\n",
        "df[categorical_ordcolumns] = encoder.transform(df[categorical_ordcolumns])\n",
        "\n",
        "\n"
      ]
    },
    {
      "cell_type": "code",
      "source": [
        "# To find nominal catgorical columns\n",
        "cat_nominalcolumns = df.select_dtypes(include=['object']).columns.to_list()\n",
        "cat_nominalcolumns"
      ],
      "metadata": {
        "colab": {
          "base_uri": "https://localhost:8080/"
        },
        "id": "llFAALuOZNk5",
        "outputId": "3eed788e-7800-4497-993a-5171b1fe5a84"
      },
      "execution_count": 341,
      "outputs": [
        {
          "output_type": "execute_result",
          "data": {
            "text/plain": [
              "['PropertySubClass',\n",
              " 'PropertyZone',\n",
              " 'Street',\n",
              " 'PropertyShape',\n",
              " 'PropertyContour',\n",
              " 'Utilities',\n",
              " 'PropertyConfig',\n",
              " 'PropertySlope',\n",
              " 'Neighborhood',\n",
              " 'RoofMatl',\n",
              " 'Exterior1st',\n",
              " 'MasonryVeneerType',\n",
              " 'ExterCond',\n",
              " 'Foundation',\n",
              " 'BasementExposure',\n",
              " 'BasementFinishType1',\n",
              " 'Heating',\n",
              " 'HeatingQC',\n",
              " 'CentralAir',\n",
              " 'Electrical',\n",
              " 'Functional',\n",
              " 'GarageType',\n",
              " 'GarageFinish',\n",
              " 'PavedDrive',\n",
              " 'PoolQC',\n",
              " 'Fence',\n",
              " 'MiscFeature',\n",
              " 'MoSold',\n",
              " 'SaleType']"
            ]
          },
          "metadata": {},
          "execution_count": 341
        }
      ]
    },
    {
      "cell_type": "code",
      "execution_count": 343,
      "metadata": {
        "id": "UZkD385EctPw"
      },
      "outputs": [],
      "source": [
        "# convert object data into int format\n",
        "df= pd.get_dummies(df, columns=['PropertySubClass', 'PropertyZone',  'Street',  'PropertyShape',  'PropertyContour',  'Utilities',  'PropertyConfig',  'PropertySlope',  'Neighborhood',  'RoofMatl',  'Exterior1st',  'MasonryVeneerType',\n",
        " 'ExterCond',  'Foundation',  'BasementExposure',  'BasementFinishType1',  'Heating',  'HeatingQC',  'CentralAir',  'Electrical',  'Functional',  'GarageType',  'GarageFinish',\n",
        " 'PavedDrive',  'PoolQC',  'Fence',  'MiscFeature',  'MoSold',  'SaleType'],  dtype=int)"
      ]
    },
    {
      "cell_type": "code",
      "execution_count": 344,
      "metadata": {
        "id": "QLU2my5bu3Ws",
        "colab": {
          "base_uri": "https://localhost:8080/"
        },
        "outputId": "2127fdb6-44a1-4988-d17a-907ca8830677"
      },
      "outputs": [
        {
          "output_type": "execute_result",
          "data": {
            "text/plain": [
              "[]"
            ]
          },
          "metadata": {},
          "execution_count": 344
        }
      ],
      "source": [
        "cat_columns = df.select_dtypes(include=['object']).columns.to_list()\n",
        "cat_columns"
      ]
    },
    {
      "cell_type": "code",
      "execution_count": 345,
      "metadata": {
        "id": "lsM4bySssQHw",
        "colab": {
          "base_uri": "https://localhost:8080/",
          "height": 443
        },
        "outputId": "e1b29602-9ac9-45f7-b8e1-d41bb4d89b9a"
      },
      "outputs": [
        {
          "output_type": "execute_result",
          "data": {
            "text/plain": [
              "      PropertyFrontage  PropertyArea  Condition2  BldgType  HouseStyle  \\\n",
              "0                   65          8450         5.0       1.0         7.0   \n",
              "1                   80          9600         5.0       1.0         0.0   \n",
              "2                   68         11250         5.0       1.0         7.0   \n",
              "3                   60          9550         5.0       1.0         7.0   \n",
              "4                   84         14260         5.0       1.0         7.0   \n",
              "...                ...           ...         ...       ...         ...   \n",
              "1455                62          7917         5.0       1.0         7.0   \n",
              "1456                85         13175         5.0       1.0         0.0   \n",
              "1457                66          9042         5.0       1.0         7.0   \n",
              "1458                68          9717         5.0       1.0         0.0   \n",
              "1459                75          9937         5.0       1.0         0.0   \n",
              "\n",
              "      OverallQual  YearBuilt  YearRemodAdd  RoofStyle  MasonryVeneerArea  ...  \\\n",
              "0               7       2003          2003        1.0                196  ...   \n",
              "1               6       1976          1976        1.0                  0  ...   \n",
              "2               7       2001          2002        1.0                162  ...   \n",
              "3               7       1915          1970        1.0                  0  ...   \n",
              "4               8       2000          2000        1.0                350  ...   \n",
              "...           ...        ...           ...        ...                ...  ...   \n",
              "1455            6       1999          2000        1.0                  0  ...   \n",
              "1456            6       1978          1988        1.0                119  ...   \n",
              "1457            7       1941          2006        1.0                  0  ...   \n",
              "1458            5       1950          1996        3.0                  0  ...   \n",
              "1459            5       1965          1965        1.0                  0  ...   \n",
              "\n",
              "      MoSold_Sep  SaleType_COD  SaleType_CWD  SaleType_Con  SaleType_ConLD  \\\n",
              "0              0             0             0             0               0   \n",
              "1              0             0             0             0               0   \n",
              "2              1             0             0             0               0   \n",
              "3              0             0             0             0               0   \n",
              "4              0             0             0             0               0   \n",
              "...          ...           ...           ...           ...             ...   \n",
              "1455           0             0             0             0               0   \n",
              "1456           0             0             0             0               0   \n",
              "1457           0             0             0             0               0   \n",
              "1458           0             0             0             0               0   \n",
              "1459           0             0             0             0               0   \n",
              "\n",
              "      SaleType_ConLI  SaleType_ConLw  SaleType_New  SaleType_Oth  SaleType_WD  \n",
              "0                  0               0             0             0            1  \n",
              "1                  0               0             0             0            1  \n",
              "2                  0               0             0             0            1  \n",
              "3                  0               0             0             0            1  \n",
              "4                  0               0             0             0            1  \n",
              "...              ...             ...           ...           ...          ...  \n",
              "1455               0               0             0             0            1  \n",
              "1456               0               0             0             0            1  \n",
              "1457               0               0             0             0            1  \n",
              "1458               0               0             0             0            1  \n",
              "1459               0               0             0             0            1  \n",
              "\n",
              "[1460 rows x 232 columns]"
            ],
            "text/html": [
              "\n",
              "  <div id=\"df-d154654d-9fbc-4adf-a0c5-53e2805ed1bd\" class=\"colab-df-container\">\n",
              "    <div>\n",
              "<style scoped>\n",
              "    .dataframe tbody tr th:only-of-type {\n",
              "        vertical-align: middle;\n",
              "    }\n",
              "\n",
              "    .dataframe tbody tr th {\n",
              "        vertical-align: top;\n",
              "    }\n",
              "\n",
              "    .dataframe thead th {\n",
              "        text-align: right;\n",
              "    }\n",
              "</style>\n",
              "<table border=\"1\" class=\"dataframe\">\n",
              "  <thead>\n",
              "    <tr style=\"text-align: right;\">\n",
              "      <th></th>\n",
              "      <th>PropertyFrontage</th>\n",
              "      <th>PropertyArea</th>\n",
              "      <th>Condition2</th>\n",
              "      <th>BldgType</th>\n",
              "      <th>HouseStyle</th>\n",
              "      <th>OverallQual</th>\n",
              "      <th>YearBuilt</th>\n",
              "      <th>YearRemodAdd</th>\n",
              "      <th>RoofStyle</th>\n",
              "      <th>MasonryVeneerArea</th>\n",
              "      <th>...</th>\n",
              "      <th>MoSold_Sep</th>\n",
              "      <th>SaleType_COD</th>\n",
              "      <th>SaleType_CWD</th>\n",
              "      <th>SaleType_Con</th>\n",
              "      <th>SaleType_ConLD</th>\n",
              "      <th>SaleType_ConLI</th>\n",
              "      <th>SaleType_ConLw</th>\n",
              "      <th>SaleType_New</th>\n",
              "      <th>SaleType_Oth</th>\n",
              "      <th>SaleType_WD</th>\n",
              "    </tr>\n",
              "  </thead>\n",
              "  <tbody>\n",
              "    <tr>\n",
              "      <th>0</th>\n",
              "      <td>65</td>\n",
              "      <td>8450</td>\n",
              "      <td>5.0</td>\n",
              "      <td>1.0</td>\n",
              "      <td>7.0</td>\n",
              "      <td>7</td>\n",
              "      <td>2003</td>\n",
              "      <td>2003</td>\n",
              "      <td>1.0</td>\n",
              "      <td>196</td>\n",
              "      <td>...</td>\n",
              "      <td>0</td>\n",
              "      <td>0</td>\n",
              "      <td>0</td>\n",
              "      <td>0</td>\n",
              "      <td>0</td>\n",
              "      <td>0</td>\n",
              "      <td>0</td>\n",
              "      <td>0</td>\n",
              "      <td>0</td>\n",
              "      <td>1</td>\n",
              "    </tr>\n",
              "    <tr>\n",
              "      <th>1</th>\n",
              "      <td>80</td>\n",
              "      <td>9600</td>\n",
              "      <td>5.0</td>\n",
              "      <td>1.0</td>\n",
              "      <td>0.0</td>\n",
              "      <td>6</td>\n",
              "      <td>1976</td>\n",
              "      <td>1976</td>\n",
              "      <td>1.0</td>\n",
              "      <td>0</td>\n",
              "      <td>...</td>\n",
              "      <td>0</td>\n",
              "      <td>0</td>\n",
              "      <td>0</td>\n",
              "      <td>0</td>\n",
              "      <td>0</td>\n",
              "      <td>0</td>\n",
              "      <td>0</td>\n",
              "      <td>0</td>\n",
              "      <td>0</td>\n",
              "      <td>1</td>\n",
              "    </tr>\n",
              "    <tr>\n",
              "      <th>2</th>\n",
              "      <td>68</td>\n",
              "      <td>11250</td>\n",
              "      <td>5.0</td>\n",
              "      <td>1.0</td>\n",
              "      <td>7.0</td>\n",
              "      <td>7</td>\n",
              "      <td>2001</td>\n",
              "      <td>2002</td>\n",
              "      <td>1.0</td>\n",
              "      <td>162</td>\n",
              "      <td>...</td>\n",
              "      <td>1</td>\n",
              "      <td>0</td>\n",
              "      <td>0</td>\n",
              "      <td>0</td>\n",
              "      <td>0</td>\n",
              "      <td>0</td>\n",
              "      <td>0</td>\n",
              "      <td>0</td>\n",
              "      <td>0</td>\n",
              "      <td>1</td>\n",
              "    </tr>\n",
              "    <tr>\n",
              "      <th>3</th>\n",
              "      <td>60</td>\n",
              "      <td>9550</td>\n",
              "      <td>5.0</td>\n",
              "      <td>1.0</td>\n",
              "      <td>7.0</td>\n",
              "      <td>7</td>\n",
              "      <td>1915</td>\n",
              "      <td>1970</td>\n",
              "      <td>1.0</td>\n",
              "      <td>0</td>\n",
              "      <td>...</td>\n",
              "      <td>0</td>\n",
              "      <td>0</td>\n",
              "      <td>0</td>\n",
              "      <td>0</td>\n",
              "      <td>0</td>\n",
              "      <td>0</td>\n",
              "      <td>0</td>\n",
              "      <td>0</td>\n",
              "      <td>0</td>\n",
              "      <td>1</td>\n",
              "    </tr>\n",
              "    <tr>\n",
              "      <th>4</th>\n",
              "      <td>84</td>\n",
              "      <td>14260</td>\n",
              "      <td>5.0</td>\n",
              "      <td>1.0</td>\n",
              "      <td>7.0</td>\n",
              "      <td>8</td>\n",
              "      <td>2000</td>\n",
              "      <td>2000</td>\n",
              "      <td>1.0</td>\n",
              "      <td>350</td>\n",
              "      <td>...</td>\n",
              "      <td>0</td>\n",
              "      <td>0</td>\n",
              "      <td>0</td>\n",
              "      <td>0</td>\n",
              "      <td>0</td>\n",
              "      <td>0</td>\n",
              "      <td>0</td>\n",
              "      <td>0</td>\n",
              "      <td>0</td>\n",
              "      <td>1</td>\n",
              "    </tr>\n",
              "    <tr>\n",
              "      <th>...</th>\n",
              "      <td>...</td>\n",
              "      <td>...</td>\n",
              "      <td>...</td>\n",
              "      <td>...</td>\n",
              "      <td>...</td>\n",
              "      <td>...</td>\n",
              "      <td>...</td>\n",
              "      <td>...</td>\n",
              "      <td>...</td>\n",
              "      <td>...</td>\n",
              "      <td>...</td>\n",
              "      <td>...</td>\n",
              "      <td>...</td>\n",
              "      <td>...</td>\n",
              "      <td>...</td>\n",
              "      <td>...</td>\n",
              "      <td>...</td>\n",
              "      <td>...</td>\n",
              "      <td>...</td>\n",
              "      <td>...</td>\n",
              "      <td>...</td>\n",
              "    </tr>\n",
              "    <tr>\n",
              "      <th>1455</th>\n",
              "      <td>62</td>\n",
              "      <td>7917</td>\n",
              "      <td>5.0</td>\n",
              "      <td>1.0</td>\n",
              "      <td>7.0</td>\n",
              "      <td>6</td>\n",
              "      <td>1999</td>\n",
              "      <td>2000</td>\n",
              "      <td>1.0</td>\n",
              "      <td>0</td>\n",
              "      <td>...</td>\n",
              "      <td>0</td>\n",
              "      <td>0</td>\n",
              "      <td>0</td>\n",
              "      <td>0</td>\n",
              "      <td>0</td>\n",
              "      <td>0</td>\n",
              "      <td>0</td>\n",
              "      <td>0</td>\n",
              "      <td>0</td>\n",
              "      <td>1</td>\n",
              "    </tr>\n",
              "    <tr>\n",
              "      <th>1456</th>\n",
              "      <td>85</td>\n",
              "      <td>13175</td>\n",
              "      <td>5.0</td>\n",
              "      <td>1.0</td>\n",
              "      <td>0.0</td>\n",
              "      <td>6</td>\n",
              "      <td>1978</td>\n",
              "      <td>1988</td>\n",
              "      <td>1.0</td>\n",
              "      <td>119</td>\n",
              "      <td>...</td>\n",
              "      <td>0</td>\n",
              "      <td>0</td>\n",
              "      <td>0</td>\n",
              "      <td>0</td>\n",
              "      <td>0</td>\n",
              "      <td>0</td>\n",
              "      <td>0</td>\n",
              "      <td>0</td>\n",
              "      <td>0</td>\n",
              "      <td>1</td>\n",
              "    </tr>\n",
              "    <tr>\n",
              "      <th>1457</th>\n",
              "      <td>66</td>\n",
              "      <td>9042</td>\n",
              "      <td>5.0</td>\n",
              "      <td>1.0</td>\n",
              "      <td>7.0</td>\n",
              "      <td>7</td>\n",
              "      <td>1941</td>\n",
              "      <td>2006</td>\n",
              "      <td>1.0</td>\n",
              "      <td>0</td>\n",
              "      <td>...</td>\n",
              "      <td>0</td>\n",
              "      <td>0</td>\n",
              "      <td>0</td>\n",
              "      <td>0</td>\n",
              "      <td>0</td>\n",
              "      <td>0</td>\n",
              "      <td>0</td>\n",
              "      <td>0</td>\n",
              "      <td>0</td>\n",
              "      <td>1</td>\n",
              "    </tr>\n",
              "    <tr>\n",
              "      <th>1458</th>\n",
              "      <td>68</td>\n",
              "      <td>9717</td>\n",
              "      <td>5.0</td>\n",
              "      <td>1.0</td>\n",
              "      <td>0.0</td>\n",
              "      <td>5</td>\n",
              "      <td>1950</td>\n",
              "      <td>1996</td>\n",
              "      <td>3.0</td>\n",
              "      <td>0</td>\n",
              "      <td>...</td>\n",
              "      <td>0</td>\n",
              "      <td>0</td>\n",
              "      <td>0</td>\n",
              "      <td>0</td>\n",
              "      <td>0</td>\n",
              "      <td>0</td>\n",
              "      <td>0</td>\n",
              "      <td>0</td>\n",
              "      <td>0</td>\n",
              "      <td>1</td>\n",
              "    </tr>\n",
              "    <tr>\n",
              "      <th>1459</th>\n",
              "      <td>75</td>\n",
              "      <td>9937</td>\n",
              "      <td>5.0</td>\n",
              "      <td>1.0</td>\n",
              "      <td>0.0</td>\n",
              "      <td>5</td>\n",
              "      <td>1965</td>\n",
              "      <td>1965</td>\n",
              "      <td>1.0</td>\n",
              "      <td>0</td>\n",
              "      <td>...</td>\n",
              "      <td>0</td>\n",
              "      <td>0</td>\n",
              "      <td>0</td>\n",
              "      <td>0</td>\n",
              "      <td>0</td>\n",
              "      <td>0</td>\n",
              "      <td>0</td>\n",
              "      <td>0</td>\n",
              "      <td>0</td>\n",
              "      <td>1</td>\n",
              "    </tr>\n",
              "  </tbody>\n",
              "</table>\n",
              "<p>1460 rows × 232 columns</p>\n",
              "</div>\n",
              "    <div class=\"colab-df-buttons\">\n",
              "\n",
              "  <div class=\"colab-df-container\">\n",
              "    <button class=\"colab-df-convert\" onclick=\"convertToInteractive('df-d154654d-9fbc-4adf-a0c5-53e2805ed1bd')\"\n",
              "            title=\"Convert this dataframe to an interactive table.\"\n",
              "            style=\"display:none;\">\n",
              "\n",
              "  <svg xmlns=\"http://www.w3.org/2000/svg\" height=\"24px\" viewBox=\"0 -960 960 960\">\n",
              "    <path d=\"M120-120v-720h720v720H120Zm60-500h600v-160H180v160Zm220 220h160v-160H400v160Zm0 220h160v-160H400v160ZM180-400h160v-160H180v160Zm440 0h160v-160H620v160ZM180-180h160v-160H180v160Zm440 0h160v-160H620v160Z\"/>\n",
              "  </svg>\n",
              "    </button>\n",
              "\n",
              "  <style>\n",
              "    .colab-df-container {\n",
              "      display:flex;\n",
              "      gap: 12px;\n",
              "    }\n",
              "\n",
              "    .colab-df-convert {\n",
              "      background-color: #E8F0FE;\n",
              "      border: none;\n",
              "      border-radius: 50%;\n",
              "      cursor: pointer;\n",
              "      display: none;\n",
              "      fill: #1967D2;\n",
              "      height: 32px;\n",
              "      padding: 0 0 0 0;\n",
              "      width: 32px;\n",
              "    }\n",
              "\n",
              "    .colab-df-convert:hover {\n",
              "      background-color: #E2EBFA;\n",
              "      box-shadow: 0px 1px 2px rgba(60, 64, 67, 0.3), 0px 1px 3px 1px rgba(60, 64, 67, 0.15);\n",
              "      fill: #174EA6;\n",
              "    }\n",
              "\n",
              "    .colab-df-buttons div {\n",
              "      margin-bottom: 4px;\n",
              "    }\n",
              "\n",
              "    [theme=dark] .colab-df-convert {\n",
              "      background-color: #3B4455;\n",
              "      fill: #D2E3FC;\n",
              "    }\n",
              "\n",
              "    [theme=dark] .colab-df-convert:hover {\n",
              "      background-color: #434B5C;\n",
              "      box-shadow: 0px 1px 3px 1px rgba(0, 0, 0, 0.15);\n",
              "      filter: drop-shadow(0px 1px 2px rgba(0, 0, 0, 0.3));\n",
              "      fill: #FFFFFF;\n",
              "    }\n",
              "  </style>\n",
              "\n",
              "    <script>\n",
              "      const buttonEl =\n",
              "        document.querySelector('#df-d154654d-9fbc-4adf-a0c5-53e2805ed1bd button.colab-df-convert');\n",
              "      buttonEl.style.display =\n",
              "        google.colab.kernel.accessAllowed ? 'block' : 'none';\n",
              "\n",
              "      async function convertToInteractive(key) {\n",
              "        const element = document.querySelector('#df-d154654d-9fbc-4adf-a0c5-53e2805ed1bd');\n",
              "        const dataTable =\n",
              "          await google.colab.kernel.invokeFunction('convertToInteractive',\n",
              "                                                    [key], {});\n",
              "        if (!dataTable) return;\n",
              "\n",
              "        const docLinkHtml = 'Like what you see? Visit the ' +\n",
              "          '<a target=\"_blank\" href=https://colab.research.google.com/notebooks/data_table.ipynb>data table notebook</a>'\n",
              "          + ' to learn more about interactive tables.';\n",
              "        element.innerHTML = '';\n",
              "        dataTable['output_type'] = 'display_data';\n",
              "        await google.colab.output.renderOutput(dataTable, element);\n",
              "        const docLink = document.createElement('div');\n",
              "        docLink.innerHTML = docLinkHtml;\n",
              "        element.appendChild(docLink);\n",
              "      }\n",
              "    </script>\n",
              "  </div>\n",
              "\n",
              "\n",
              "<div id=\"df-5a1dd635-3a6d-4a09-9db7-214d2d603e83\">\n",
              "  <button class=\"colab-df-quickchart\" onclick=\"quickchart('df-5a1dd635-3a6d-4a09-9db7-214d2d603e83')\"\n",
              "            title=\"Suggest charts\"\n",
              "            style=\"display:none;\">\n",
              "\n",
              "<svg xmlns=\"http://www.w3.org/2000/svg\" height=\"24px\"viewBox=\"0 0 24 24\"\n",
              "     width=\"24px\">\n",
              "    <g>\n",
              "        <path d=\"M19 3H5c-1.1 0-2 .9-2 2v14c0 1.1.9 2 2 2h14c1.1 0 2-.9 2-2V5c0-1.1-.9-2-2-2zM9 17H7v-7h2v7zm4 0h-2V7h2v10zm4 0h-2v-4h2v4z\"/>\n",
              "    </g>\n",
              "</svg>\n",
              "  </button>\n",
              "\n",
              "<style>\n",
              "  .colab-df-quickchart {\n",
              "      --bg-color: #E8F0FE;\n",
              "      --fill-color: #1967D2;\n",
              "      --hover-bg-color: #E2EBFA;\n",
              "      --hover-fill-color: #174EA6;\n",
              "      --disabled-fill-color: #AAA;\n",
              "      --disabled-bg-color: #DDD;\n",
              "  }\n",
              "\n",
              "  [theme=dark] .colab-df-quickchart {\n",
              "      --bg-color: #3B4455;\n",
              "      --fill-color: #D2E3FC;\n",
              "      --hover-bg-color: #434B5C;\n",
              "      --hover-fill-color: #FFFFFF;\n",
              "      --disabled-bg-color: #3B4455;\n",
              "      --disabled-fill-color: #666;\n",
              "  }\n",
              "\n",
              "  .colab-df-quickchart {\n",
              "    background-color: var(--bg-color);\n",
              "    border: none;\n",
              "    border-radius: 50%;\n",
              "    cursor: pointer;\n",
              "    display: none;\n",
              "    fill: var(--fill-color);\n",
              "    height: 32px;\n",
              "    padding: 0;\n",
              "    width: 32px;\n",
              "  }\n",
              "\n",
              "  .colab-df-quickchart:hover {\n",
              "    background-color: var(--hover-bg-color);\n",
              "    box-shadow: 0 1px 2px rgba(60, 64, 67, 0.3), 0 1px 3px 1px rgba(60, 64, 67, 0.15);\n",
              "    fill: var(--button-hover-fill-color);\n",
              "  }\n",
              "\n",
              "  .colab-df-quickchart-complete:disabled,\n",
              "  .colab-df-quickchart-complete:disabled:hover {\n",
              "    background-color: var(--disabled-bg-color);\n",
              "    fill: var(--disabled-fill-color);\n",
              "    box-shadow: none;\n",
              "  }\n",
              "\n",
              "  .colab-df-spinner {\n",
              "    border: 2px solid var(--fill-color);\n",
              "    border-color: transparent;\n",
              "    border-bottom-color: var(--fill-color);\n",
              "    animation:\n",
              "      spin 1s steps(1) infinite;\n",
              "  }\n",
              "\n",
              "  @keyframes spin {\n",
              "    0% {\n",
              "      border-color: transparent;\n",
              "      border-bottom-color: var(--fill-color);\n",
              "      border-left-color: var(--fill-color);\n",
              "    }\n",
              "    20% {\n",
              "      border-color: transparent;\n",
              "      border-left-color: var(--fill-color);\n",
              "      border-top-color: var(--fill-color);\n",
              "    }\n",
              "    30% {\n",
              "      border-color: transparent;\n",
              "      border-left-color: var(--fill-color);\n",
              "      border-top-color: var(--fill-color);\n",
              "      border-right-color: var(--fill-color);\n",
              "    }\n",
              "    40% {\n",
              "      border-color: transparent;\n",
              "      border-right-color: var(--fill-color);\n",
              "      border-top-color: var(--fill-color);\n",
              "    }\n",
              "    60% {\n",
              "      border-color: transparent;\n",
              "      border-right-color: var(--fill-color);\n",
              "    }\n",
              "    80% {\n",
              "      border-color: transparent;\n",
              "      border-right-color: var(--fill-color);\n",
              "      border-bottom-color: var(--fill-color);\n",
              "    }\n",
              "    90% {\n",
              "      border-color: transparent;\n",
              "      border-bottom-color: var(--fill-color);\n",
              "    }\n",
              "  }\n",
              "</style>\n",
              "\n",
              "  <script>\n",
              "    async function quickchart(key) {\n",
              "      const quickchartButtonEl =\n",
              "        document.querySelector('#' + key + ' button');\n",
              "      quickchartButtonEl.disabled = true;  // To prevent multiple clicks.\n",
              "      quickchartButtonEl.classList.add('colab-df-spinner');\n",
              "      try {\n",
              "        const charts = await google.colab.kernel.invokeFunction(\n",
              "            'suggestCharts', [key], {});\n",
              "      } catch (error) {\n",
              "        console.error('Error during call to suggestCharts:', error);\n",
              "      }\n",
              "      quickchartButtonEl.classList.remove('colab-df-spinner');\n",
              "      quickchartButtonEl.classList.add('colab-df-quickchart-complete');\n",
              "    }\n",
              "    (() => {\n",
              "      let quickchartButtonEl =\n",
              "        document.querySelector('#df-5a1dd635-3a6d-4a09-9db7-214d2d603e83 button');\n",
              "      quickchartButtonEl.style.display =\n",
              "        google.colab.kernel.accessAllowed ? 'block' : 'none';\n",
              "    })();\n",
              "  </script>\n",
              "</div>\n",
              "\n",
              "  <div id=\"id_137f8092-db0d-41b1-8c83-fca4d0600e43\">\n",
              "    <style>\n",
              "      .colab-df-generate {\n",
              "        background-color: #E8F0FE;\n",
              "        border: none;\n",
              "        border-radius: 50%;\n",
              "        cursor: pointer;\n",
              "        display: none;\n",
              "        fill: #1967D2;\n",
              "        height: 32px;\n",
              "        padding: 0 0 0 0;\n",
              "        width: 32px;\n",
              "      }\n",
              "\n",
              "      .colab-df-generate:hover {\n",
              "        background-color: #E2EBFA;\n",
              "        box-shadow: 0px 1px 2px rgba(60, 64, 67, 0.3), 0px 1px 3px 1px rgba(60, 64, 67, 0.15);\n",
              "        fill: #174EA6;\n",
              "      }\n",
              "\n",
              "      [theme=dark] .colab-df-generate {\n",
              "        background-color: #3B4455;\n",
              "        fill: #D2E3FC;\n",
              "      }\n",
              "\n",
              "      [theme=dark] .colab-df-generate:hover {\n",
              "        background-color: #434B5C;\n",
              "        box-shadow: 0px 1px 3px 1px rgba(0, 0, 0, 0.15);\n",
              "        filter: drop-shadow(0px 1px 2px rgba(0, 0, 0, 0.3));\n",
              "        fill: #FFFFFF;\n",
              "      }\n",
              "    </style>\n",
              "    <button class=\"colab-df-generate\" onclick=\"generateWithVariable('df')\"\n",
              "            title=\"Generate code using this dataframe.\"\n",
              "            style=\"display:none;\">\n",
              "\n",
              "  <svg xmlns=\"http://www.w3.org/2000/svg\" height=\"24px\"viewBox=\"0 0 24 24\"\n",
              "       width=\"24px\">\n",
              "    <path d=\"M7,19H8.4L18.45,9,17,7.55,7,17.6ZM5,21V16.75L18.45,3.32a2,2,0,0,1,2.83,0l1.4,1.43a1.91,1.91,0,0,1,.58,1.4,1.91,1.91,0,0,1-.58,1.4L9.25,21ZM18.45,9,17,7.55Zm-12,3A5.31,5.31,0,0,0,4.9,8.1,5.31,5.31,0,0,0,1,6.5,5.31,5.31,0,0,0,4.9,4.9,5.31,5.31,0,0,0,6.5,1,5.31,5.31,0,0,0,8.1,4.9,5.31,5.31,0,0,0,12,6.5,5.46,5.46,0,0,0,6.5,12Z\"/>\n",
              "  </svg>\n",
              "    </button>\n",
              "    <script>\n",
              "      (() => {\n",
              "      const buttonEl =\n",
              "        document.querySelector('#id_137f8092-db0d-41b1-8c83-fca4d0600e43 button.colab-df-generate');\n",
              "      buttonEl.style.display =\n",
              "        google.colab.kernel.accessAllowed ? 'block' : 'none';\n",
              "\n",
              "      buttonEl.onclick = () => {\n",
              "        google.colab.notebook.generateWithVariable('df');\n",
              "      }\n",
              "      })();\n",
              "    </script>\n",
              "  </div>\n",
              "\n",
              "    </div>\n",
              "  </div>\n"
            ],
            "application/vnd.google.colaboratory.intrinsic+json": {
              "type": "dataframe",
              "variable_name": "df"
            }
          },
          "metadata": {},
          "execution_count": 345
        }
      ],
      "source": [
        "df"
      ]
    },
    {
      "cell_type": "code",
      "execution_count": 347,
      "metadata": {
        "id": "Y_TvZthysyKw",
        "colab": {
          "base_uri": "https://localhost:8080/"
        },
        "outputId": "1d0106c1-b701-4ba7-aaec-93fc381117ea"
      },
      "outputs": [
        {
          "output_type": "stream",
          "name": "stdout",
          "text": [
            "<class 'pandas.core.frame.DataFrame'>\n",
            "RangeIndex: 1460 entries, 0 to 1459\n",
            "Columns: 232 entries, PropertyFrontage to SaleType_WD\n",
            "dtypes: float64(13), int64(219)\n",
            "memory usage: 2.6 MB\n"
          ]
        }
      ],
      "source": [
        "df.info()"
      ]
    },
    {
      "cell_type": "code",
      "source": [
        "# summary statistics\n",
        "\n",
        "df.describe()"
      ],
      "metadata": {
        "id": "UxpCVoCTaqlX",
        "outputId": "656b4cb6-5128-4ff3-d35e-d66ceb4c0c70",
        "colab": {
          "base_uri": "https://localhost:8080/",
          "height": 349
        }
      },
      "execution_count": 346,
      "outputs": [
        {
          "output_type": "execute_result",
          "data": {
            "text/plain": [
              "       PropertyFrontage   PropertyArea   Condition2     BldgType   HouseStyle  \\\n",
              "count       1460.000000    1460.000000  1460.000000  1460.000000  1460.000000   \n",
              "mean          57.623288   10516.828082     4.982877     1.165068     2.584932   \n",
              "std           34.664304    9981.264932     0.275293     0.628988     3.122852   \n",
              "min            0.000000    1300.000000     0.000000     0.000000     0.000000   \n",
              "25%           42.000000    7553.500000     5.000000     1.000000     0.000000   \n",
              "50%           63.000000    9478.500000     5.000000     1.000000     1.000000   \n",
              "75%           79.000000   11601.500000     5.000000     1.000000     7.000000   \n",
              "max          313.000000  215245.000000     7.000000     4.000000     7.000000   \n",
              "\n",
              "       OverallQual    YearBuilt  YearRemodAdd    RoofStyle  MasonryVeneerArea  \\\n",
              "count  1460.000000  1460.000000   1460.000000  1460.000000        1460.000000   \n",
              "mean      6.099315  1971.267808   1984.865753     1.410274         103.117123   \n",
              "std       1.382997    30.202904     20.645407     0.834998         180.731373   \n",
              "min       1.000000  1872.000000   1950.000000     0.000000           0.000000   \n",
              "25%       5.000000  1954.000000   1967.000000     1.000000           0.000000   \n",
              "50%       6.000000  1973.000000   1994.000000     1.000000           0.000000   \n",
              "75%       7.000000  2000.000000   2004.000000     1.000000         164.250000   \n",
              "max      10.000000  2010.000000   2010.000000     5.000000        1600.000000   \n",
              "\n",
              "       ...   MoSold_Sep  SaleType_COD  SaleType_CWD  SaleType_Con  \\\n",
              "count  ...  1460.000000   1460.000000   1460.000000   1460.000000   \n",
              "mean   ...     0.043151      0.029452      0.002740      0.001370   \n",
              "std    ...     0.203266      0.169128      0.052289      0.036999   \n",
              "min    ...     0.000000      0.000000      0.000000      0.000000   \n",
              "25%    ...     0.000000      0.000000      0.000000      0.000000   \n",
              "50%    ...     0.000000      0.000000      0.000000      0.000000   \n",
              "75%    ...     0.000000      0.000000      0.000000      0.000000   \n",
              "max    ...     1.000000      1.000000      1.000000      1.000000   \n",
              "\n",
              "       SaleType_ConLD  SaleType_ConLI  SaleType_ConLw  SaleType_New  \\\n",
              "count     1460.000000     1460.000000     1460.000000   1460.000000   \n",
              "mean         0.006164        0.003425        0.003425      0.083562   \n",
              "std          0.078298        0.058440        0.058440      0.276824   \n",
              "min          0.000000        0.000000        0.000000      0.000000   \n",
              "25%          0.000000        0.000000        0.000000      0.000000   \n",
              "50%          0.000000        0.000000        0.000000      0.000000   \n",
              "75%          0.000000        0.000000        0.000000      0.000000   \n",
              "max          1.000000        1.000000        1.000000      1.000000   \n",
              "\n",
              "       SaleType_Oth  SaleType_WD  \n",
              "count   1460.000000  1460.000000  \n",
              "mean       0.002055     0.867808  \n",
              "std        0.045299     0.338815  \n",
              "min        0.000000     0.000000  \n",
              "25%        0.000000     1.000000  \n",
              "50%        0.000000     1.000000  \n",
              "75%        0.000000     1.000000  \n",
              "max        1.000000     1.000000  \n",
              "\n",
              "[8 rows x 232 columns]"
            ],
            "text/html": [
              "\n",
              "  <div id=\"df-26306dbe-72d7-42c2-86ed-6367e0c1b545\" class=\"colab-df-container\">\n",
              "    <div>\n",
              "<style scoped>\n",
              "    .dataframe tbody tr th:only-of-type {\n",
              "        vertical-align: middle;\n",
              "    }\n",
              "\n",
              "    .dataframe tbody tr th {\n",
              "        vertical-align: top;\n",
              "    }\n",
              "\n",
              "    .dataframe thead th {\n",
              "        text-align: right;\n",
              "    }\n",
              "</style>\n",
              "<table border=\"1\" class=\"dataframe\">\n",
              "  <thead>\n",
              "    <tr style=\"text-align: right;\">\n",
              "      <th></th>\n",
              "      <th>PropertyFrontage</th>\n",
              "      <th>PropertyArea</th>\n",
              "      <th>Condition2</th>\n",
              "      <th>BldgType</th>\n",
              "      <th>HouseStyle</th>\n",
              "      <th>OverallQual</th>\n",
              "      <th>YearBuilt</th>\n",
              "      <th>YearRemodAdd</th>\n",
              "      <th>RoofStyle</th>\n",
              "      <th>MasonryVeneerArea</th>\n",
              "      <th>...</th>\n",
              "      <th>MoSold_Sep</th>\n",
              "      <th>SaleType_COD</th>\n",
              "      <th>SaleType_CWD</th>\n",
              "      <th>SaleType_Con</th>\n",
              "      <th>SaleType_ConLD</th>\n",
              "      <th>SaleType_ConLI</th>\n",
              "      <th>SaleType_ConLw</th>\n",
              "      <th>SaleType_New</th>\n",
              "      <th>SaleType_Oth</th>\n",
              "      <th>SaleType_WD</th>\n",
              "    </tr>\n",
              "  </thead>\n",
              "  <tbody>\n",
              "    <tr>\n",
              "      <th>count</th>\n",
              "      <td>1460.000000</td>\n",
              "      <td>1460.000000</td>\n",
              "      <td>1460.000000</td>\n",
              "      <td>1460.000000</td>\n",
              "      <td>1460.000000</td>\n",
              "      <td>1460.000000</td>\n",
              "      <td>1460.000000</td>\n",
              "      <td>1460.000000</td>\n",
              "      <td>1460.000000</td>\n",
              "      <td>1460.000000</td>\n",
              "      <td>...</td>\n",
              "      <td>1460.000000</td>\n",
              "      <td>1460.000000</td>\n",
              "      <td>1460.000000</td>\n",
              "      <td>1460.000000</td>\n",
              "      <td>1460.000000</td>\n",
              "      <td>1460.000000</td>\n",
              "      <td>1460.000000</td>\n",
              "      <td>1460.000000</td>\n",
              "      <td>1460.000000</td>\n",
              "      <td>1460.000000</td>\n",
              "    </tr>\n",
              "    <tr>\n",
              "      <th>mean</th>\n",
              "      <td>57.623288</td>\n",
              "      <td>10516.828082</td>\n",
              "      <td>4.982877</td>\n",
              "      <td>1.165068</td>\n",
              "      <td>2.584932</td>\n",
              "      <td>6.099315</td>\n",
              "      <td>1971.267808</td>\n",
              "      <td>1984.865753</td>\n",
              "      <td>1.410274</td>\n",
              "      <td>103.117123</td>\n",
              "      <td>...</td>\n",
              "      <td>0.043151</td>\n",
              "      <td>0.029452</td>\n",
              "      <td>0.002740</td>\n",
              "      <td>0.001370</td>\n",
              "      <td>0.006164</td>\n",
              "      <td>0.003425</td>\n",
              "      <td>0.003425</td>\n",
              "      <td>0.083562</td>\n",
              "      <td>0.002055</td>\n",
              "      <td>0.867808</td>\n",
              "    </tr>\n",
              "    <tr>\n",
              "      <th>std</th>\n",
              "      <td>34.664304</td>\n",
              "      <td>9981.264932</td>\n",
              "      <td>0.275293</td>\n",
              "      <td>0.628988</td>\n",
              "      <td>3.122852</td>\n",
              "      <td>1.382997</td>\n",
              "      <td>30.202904</td>\n",
              "      <td>20.645407</td>\n",
              "      <td>0.834998</td>\n",
              "      <td>180.731373</td>\n",
              "      <td>...</td>\n",
              "      <td>0.203266</td>\n",
              "      <td>0.169128</td>\n",
              "      <td>0.052289</td>\n",
              "      <td>0.036999</td>\n",
              "      <td>0.078298</td>\n",
              "      <td>0.058440</td>\n",
              "      <td>0.058440</td>\n",
              "      <td>0.276824</td>\n",
              "      <td>0.045299</td>\n",
              "      <td>0.338815</td>\n",
              "    </tr>\n",
              "    <tr>\n",
              "      <th>min</th>\n",
              "      <td>0.000000</td>\n",
              "      <td>1300.000000</td>\n",
              "      <td>0.000000</td>\n",
              "      <td>0.000000</td>\n",
              "      <td>0.000000</td>\n",
              "      <td>1.000000</td>\n",
              "      <td>1872.000000</td>\n",
              "      <td>1950.000000</td>\n",
              "      <td>0.000000</td>\n",
              "      <td>0.000000</td>\n",
              "      <td>...</td>\n",
              "      <td>0.000000</td>\n",
              "      <td>0.000000</td>\n",
              "      <td>0.000000</td>\n",
              "      <td>0.000000</td>\n",
              "      <td>0.000000</td>\n",
              "      <td>0.000000</td>\n",
              "      <td>0.000000</td>\n",
              "      <td>0.000000</td>\n",
              "      <td>0.000000</td>\n",
              "      <td>0.000000</td>\n",
              "    </tr>\n",
              "    <tr>\n",
              "      <th>25%</th>\n",
              "      <td>42.000000</td>\n",
              "      <td>7553.500000</td>\n",
              "      <td>5.000000</td>\n",
              "      <td>1.000000</td>\n",
              "      <td>0.000000</td>\n",
              "      <td>5.000000</td>\n",
              "      <td>1954.000000</td>\n",
              "      <td>1967.000000</td>\n",
              "      <td>1.000000</td>\n",
              "      <td>0.000000</td>\n",
              "      <td>...</td>\n",
              "      <td>0.000000</td>\n",
              "      <td>0.000000</td>\n",
              "      <td>0.000000</td>\n",
              "      <td>0.000000</td>\n",
              "      <td>0.000000</td>\n",
              "      <td>0.000000</td>\n",
              "      <td>0.000000</td>\n",
              "      <td>0.000000</td>\n",
              "      <td>0.000000</td>\n",
              "      <td>1.000000</td>\n",
              "    </tr>\n",
              "    <tr>\n",
              "      <th>50%</th>\n",
              "      <td>63.000000</td>\n",
              "      <td>9478.500000</td>\n",
              "      <td>5.000000</td>\n",
              "      <td>1.000000</td>\n",
              "      <td>1.000000</td>\n",
              "      <td>6.000000</td>\n",
              "      <td>1973.000000</td>\n",
              "      <td>1994.000000</td>\n",
              "      <td>1.000000</td>\n",
              "      <td>0.000000</td>\n",
              "      <td>...</td>\n",
              "      <td>0.000000</td>\n",
              "      <td>0.000000</td>\n",
              "      <td>0.000000</td>\n",
              "      <td>0.000000</td>\n",
              "      <td>0.000000</td>\n",
              "      <td>0.000000</td>\n",
              "      <td>0.000000</td>\n",
              "      <td>0.000000</td>\n",
              "      <td>0.000000</td>\n",
              "      <td>1.000000</td>\n",
              "    </tr>\n",
              "    <tr>\n",
              "      <th>75%</th>\n",
              "      <td>79.000000</td>\n",
              "      <td>11601.500000</td>\n",
              "      <td>5.000000</td>\n",
              "      <td>1.000000</td>\n",
              "      <td>7.000000</td>\n",
              "      <td>7.000000</td>\n",
              "      <td>2000.000000</td>\n",
              "      <td>2004.000000</td>\n",
              "      <td>1.000000</td>\n",
              "      <td>164.250000</td>\n",
              "      <td>...</td>\n",
              "      <td>0.000000</td>\n",
              "      <td>0.000000</td>\n",
              "      <td>0.000000</td>\n",
              "      <td>0.000000</td>\n",
              "      <td>0.000000</td>\n",
              "      <td>0.000000</td>\n",
              "      <td>0.000000</td>\n",
              "      <td>0.000000</td>\n",
              "      <td>0.000000</td>\n",
              "      <td>1.000000</td>\n",
              "    </tr>\n",
              "    <tr>\n",
              "      <th>max</th>\n",
              "      <td>313.000000</td>\n",
              "      <td>215245.000000</td>\n",
              "      <td>7.000000</td>\n",
              "      <td>4.000000</td>\n",
              "      <td>7.000000</td>\n",
              "      <td>10.000000</td>\n",
              "      <td>2010.000000</td>\n",
              "      <td>2010.000000</td>\n",
              "      <td>5.000000</td>\n",
              "      <td>1600.000000</td>\n",
              "      <td>...</td>\n",
              "      <td>1.000000</td>\n",
              "      <td>1.000000</td>\n",
              "      <td>1.000000</td>\n",
              "      <td>1.000000</td>\n",
              "      <td>1.000000</td>\n",
              "      <td>1.000000</td>\n",
              "      <td>1.000000</td>\n",
              "      <td>1.000000</td>\n",
              "      <td>1.000000</td>\n",
              "      <td>1.000000</td>\n",
              "    </tr>\n",
              "  </tbody>\n",
              "</table>\n",
              "<p>8 rows × 232 columns</p>\n",
              "</div>\n",
              "    <div class=\"colab-df-buttons\">\n",
              "\n",
              "  <div class=\"colab-df-container\">\n",
              "    <button class=\"colab-df-convert\" onclick=\"convertToInteractive('df-26306dbe-72d7-42c2-86ed-6367e0c1b545')\"\n",
              "            title=\"Convert this dataframe to an interactive table.\"\n",
              "            style=\"display:none;\">\n",
              "\n",
              "  <svg xmlns=\"http://www.w3.org/2000/svg\" height=\"24px\" viewBox=\"0 -960 960 960\">\n",
              "    <path d=\"M120-120v-720h720v720H120Zm60-500h600v-160H180v160Zm220 220h160v-160H400v160Zm0 220h160v-160H400v160ZM180-400h160v-160H180v160Zm440 0h160v-160H620v160ZM180-180h160v-160H180v160Zm440 0h160v-160H620v160Z\"/>\n",
              "  </svg>\n",
              "    </button>\n",
              "\n",
              "  <style>\n",
              "    .colab-df-container {\n",
              "      display:flex;\n",
              "      gap: 12px;\n",
              "    }\n",
              "\n",
              "    .colab-df-convert {\n",
              "      background-color: #E8F0FE;\n",
              "      border: none;\n",
              "      border-radius: 50%;\n",
              "      cursor: pointer;\n",
              "      display: none;\n",
              "      fill: #1967D2;\n",
              "      height: 32px;\n",
              "      padding: 0 0 0 0;\n",
              "      width: 32px;\n",
              "    }\n",
              "\n",
              "    .colab-df-convert:hover {\n",
              "      background-color: #E2EBFA;\n",
              "      box-shadow: 0px 1px 2px rgba(60, 64, 67, 0.3), 0px 1px 3px 1px rgba(60, 64, 67, 0.15);\n",
              "      fill: #174EA6;\n",
              "    }\n",
              "\n",
              "    .colab-df-buttons div {\n",
              "      margin-bottom: 4px;\n",
              "    }\n",
              "\n",
              "    [theme=dark] .colab-df-convert {\n",
              "      background-color: #3B4455;\n",
              "      fill: #D2E3FC;\n",
              "    }\n",
              "\n",
              "    [theme=dark] .colab-df-convert:hover {\n",
              "      background-color: #434B5C;\n",
              "      box-shadow: 0px 1px 3px 1px rgba(0, 0, 0, 0.15);\n",
              "      filter: drop-shadow(0px 1px 2px rgba(0, 0, 0, 0.3));\n",
              "      fill: #FFFFFF;\n",
              "    }\n",
              "  </style>\n",
              "\n",
              "    <script>\n",
              "      const buttonEl =\n",
              "        document.querySelector('#df-26306dbe-72d7-42c2-86ed-6367e0c1b545 button.colab-df-convert');\n",
              "      buttonEl.style.display =\n",
              "        google.colab.kernel.accessAllowed ? 'block' : 'none';\n",
              "\n",
              "      async function convertToInteractive(key) {\n",
              "        const element = document.querySelector('#df-26306dbe-72d7-42c2-86ed-6367e0c1b545');\n",
              "        const dataTable =\n",
              "          await google.colab.kernel.invokeFunction('convertToInteractive',\n",
              "                                                    [key], {});\n",
              "        if (!dataTable) return;\n",
              "\n",
              "        const docLinkHtml = 'Like what you see? Visit the ' +\n",
              "          '<a target=\"_blank\" href=https://colab.research.google.com/notebooks/data_table.ipynb>data table notebook</a>'\n",
              "          + ' to learn more about interactive tables.';\n",
              "        element.innerHTML = '';\n",
              "        dataTable['output_type'] = 'display_data';\n",
              "        await google.colab.output.renderOutput(dataTable, element);\n",
              "        const docLink = document.createElement('div');\n",
              "        docLink.innerHTML = docLinkHtml;\n",
              "        element.appendChild(docLink);\n",
              "      }\n",
              "    </script>\n",
              "  </div>\n",
              "\n",
              "\n",
              "<div id=\"df-07ef0b22-9a5b-4521-89e6-58c65818e7d2\">\n",
              "  <button class=\"colab-df-quickchart\" onclick=\"quickchart('df-07ef0b22-9a5b-4521-89e6-58c65818e7d2')\"\n",
              "            title=\"Suggest charts\"\n",
              "            style=\"display:none;\">\n",
              "\n",
              "<svg xmlns=\"http://www.w3.org/2000/svg\" height=\"24px\"viewBox=\"0 0 24 24\"\n",
              "     width=\"24px\">\n",
              "    <g>\n",
              "        <path d=\"M19 3H5c-1.1 0-2 .9-2 2v14c0 1.1.9 2 2 2h14c1.1 0 2-.9 2-2V5c0-1.1-.9-2-2-2zM9 17H7v-7h2v7zm4 0h-2V7h2v10zm4 0h-2v-4h2v4z\"/>\n",
              "    </g>\n",
              "</svg>\n",
              "  </button>\n",
              "\n",
              "<style>\n",
              "  .colab-df-quickchart {\n",
              "      --bg-color: #E8F0FE;\n",
              "      --fill-color: #1967D2;\n",
              "      --hover-bg-color: #E2EBFA;\n",
              "      --hover-fill-color: #174EA6;\n",
              "      --disabled-fill-color: #AAA;\n",
              "      --disabled-bg-color: #DDD;\n",
              "  }\n",
              "\n",
              "  [theme=dark] .colab-df-quickchart {\n",
              "      --bg-color: #3B4455;\n",
              "      --fill-color: #D2E3FC;\n",
              "      --hover-bg-color: #434B5C;\n",
              "      --hover-fill-color: #FFFFFF;\n",
              "      --disabled-bg-color: #3B4455;\n",
              "      --disabled-fill-color: #666;\n",
              "  }\n",
              "\n",
              "  .colab-df-quickchart {\n",
              "    background-color: var(--bg-color);\n",
              "    border: none;\n",
              "    border-radius: 50%;\n",
              "    cursor: pointer;\n",
              "    display: none;\n",
              "    fill: var(--fill-color);\n",
              "    height: 32px;\n",
              "    padding: 0;\n",
              "    width: 32px;\n",
              "  }\n",
              "\n",
              "  .colab-df-quickchart:hover {\n",
              "    background-color: var(--hover-bg-color);\n",
              "    box-shadow: 0 1px 2px rgba(60, 64, 67, 0.3), 0 1px 3px 1px rgba(60, 64, 67, 0.15);\n",
              "    fill: var(--button-hover-fill-color);\n",
              "  }\n",
              "\n",
              "  .colab-df-quickchart-complete:disabled,\n",
              "  .colab-df-quickchart-complete:disabled:hover {\n",
              "    background-color: var(--disabled-bg-color);\n",
              "    fill: var(--disabled-fill-color);\n",
              "    box-shadow: none;\n",
              "  }\n",
              "\n",
              "  .colab-df-spinner {\n",
              "    border: 2px solid var(--fill-color);\n",
              "    border-color: transparent;\n",
              "    border-bottom-color: var(--fill-color);\n",
              "    animation:\n",
              "      spin 1s steps(1) infinite;\n",
              "  }\n",
              "\n",
              "  @keyframes spin {\n",
              "    0% {\n",
              "      border-color: transparent;\n",
              "      border-bottom-color: var(--fill-color);\n",
              "      border-left-color: var(--fill-color);\n",
              "    }\n",
              "    20% {\n",
              "      border-color: transparent;\n",
              "      border-left-color: var(--fill-color);\n",
              "      border-top-color: var(--fill-color);\n",
              "    }\n",
              "    30% {\n",
              "      border-color: transparent;\n",
              "      border-left-color: var(--fill-color);\n",
              "      border-top-color: var(--fill-color);\n",
              "      border-right-color: var(--fill-color);\n",
              "    }\n",
              "    40% {\n",
              "      border-color: transparent;\n",
              "      border-right-color: var(--fill-color);\n",
              "      border-top-color: var(--fill-color);\n",
              "    }\n",
              "    60% {\n",
              "      border-color: transparent;\n",
              "      border-right-color: var(--fill-color);\n",
              "    }\n",
              "    80% {\n",
              "      border-color: transparent;\n",
              "      border-right-color: var(--fill-color);\n",
              "      border-bottom-color: var(--fill-color);\n",
              "    }\n",
              "    90% {\n",
              "      border-color: transparent;\n",
              "      border-bottom-color: var(--fill-color);\n",
              "    }\n",
              "  }\n",
              "</style>\n",
              "\n",
              "  <script>\n",
              "    async function quickchart(key) {\n",
              "      const quickchartButtonEl =\n",
              "        document.querySelector('#' + key + ' button');\n",
              "      quickchartButtonEl.disabled = true;  // To prevent multiple clicks.\n",
              "      quickchartButtonEl.classList.add('colab-df-spinner');\n",
              "      try {\n",
              "        const charts = await google.colab.kernel.invokeFunction(\n",
              "            'suggestCharts', [key], {});\n",
              "      } catch (error) {\n",
              "        console.error('Error during call to suggestCharts:', error);\n",
              "      }\n",
              "      quickchartButtonEl.classList.remove('colab-df-spinner');\n",
              "      quickchartButtonEl.classList.add('colab-df-quickchart-complete');\n",
              "    }\n",
              "    (() => {\n",
              "      let quickchartButtonEl =\n",
              "        document.querySelector('#df-07ef0b22-9a5b-4521-89e6-58c65818e7d2 button');\n",
              "      quickchartButtonEl.style.display =\n",
              "        google.colab.kernel.accessAllowed ? 'block' : 'none';\n",
              "    })();\n",
              "  </script>\n",
              "</div>\n",
              "\n",
              "    </div>\n",
              "  </div>\n"
            ],
            "application/vnd.google.colaboratory.intrinsic+json": {
              "type": "dataframe"
            }
          },
          "metadata": {},
          "execution_count": 346
        }
      ]
    },
    {
      "cell_type": "code",
      "execution_count": 348,
      "metadata": {
        "id": "yuxFBPMvFlk6",
        "colab": {
          "base_uri": "https://localhost:8080/",
          "height": 255
        },
        "outputId": "d317302a-0b3a-4032-9486-a971650ce665"
      },
      "outputs": [
        {
          "output_type": "execute_result",
          "data": {
            "text/plain": [
              "   PropertyFrontage  PropertyArea  Condition2  BldgType  HouseStyle  \\\n",
              "0                65          8450         5.0       1.0         7.0   \n",
              "1                80          9600         5.0       1.0         0.0   \n",
              "2                68         11250         5.0       1.0         7.0   \n",
              "3                60          9550         5.0       1.0         7.0   \n",
              "4                84         14260         5.0       1.0         7.0   \n",
              "\n",
              "   OverallQual  YearBuilt  YearRemodAdd  RoofStyle  MasonryVeneerArea  ...  \\\n",
              "0            7       2003          2003        1.0                196  ...   \n",
              "1            6       1976          1976        1.0                  0  ...   \n",
              "2            7       2001          2002        1.0                162  ...   \n",
              "3            7       1915          1970        1.0                  0  ...   \n",
              "4            8       2000          2000        1.0                350  ...   \n",
              "\n",
              "   MoSold_Sep  SaleType_COD  SaleType_CWD  SaleType_Con  SaleType_ConLD  \\\n",
              "0           0             0             0             0               0   \n",
              "1           0             0             0             0               0   \n",
              "2           1             0             0             0               0   \n",
              "3           0             0             0             0               0   \n",
              "4           0             0             0             0               0   \n",
              "\n",
              "   SaleType_ConLI  SaleType_ConLw  SaleType_New  SaleType_Oth  SaleType_WD  \n",
              "0               0               0             0             0            1  \n",
              "1               0               0             0             0            1  \n",
              "2               0               0             0             0            1  \n",
              "3               0               0             0             0            1  \n",
              "4               0               0             0             0            1  \n",
              "\n",
              "[5 rows x 232 columns]"
            ],
            "text/html": [
              "\n",
              "  <div id=\"df-68f72ec4-3e93-49ca-9ccd-0cc4c4372cb6\" class=\"colab-df-container\">\n",
              "    <div>\n",
              "<style scoped>\n",
              "    .dataframe tbody tr th:only-of-type {\n",
              "        vertical-align: middle;\n",
              "    }\n",
              "\n",
              "    .dataframe tbody tr th {\n",
              "        vertical-align: top;\n",
              "    }\n",
              "\n",
              "    .dataframe thead th {\n",
              "        text-align: right;\n",
              "    }\n",
              "</style>\n",
              "<table border=\"1\" class=\"dataframe\">\n",
              "  <thead>\n",
              "    <tr style=\"text-align: right;\">\n",
              "      <th></th>\n",
              "      <th>PropertyFrontage</th>\n",
              "      <th>PropertyArea</th>\n",
              "      <th>Condition2</th>\n",
              "      <th>BldgType</th>\n",
              "      <th>HouseStyle</th>\n",
              "      <th>OverallQual</th>\n",
              "      <th>YearBuilt</th>\n",
              "      <th>YearRemodAdd</th>\n",
              "      <th>RoofStyle</th>\n",
              "      <th>MasonryVeneerArea</th>\n",
              "      <th>...</th>\n",
              "      <th>MoSold_Sep</th>\n",
              "      <th>SaleType_COD</th>\n",
              "      <th>SaleType_CWD</th>\n",
              "      <th>SaleType_Con</th>\n",
              "      <th>SaleType_ConLD</th>\n",
              "      <th>SaleType_ConLI</th>\n",
              "      <th>SaleType_ConLw</th>\n",
              "      <th>SaleType_New</th>\n",
              "      <th>SaleType_Oth</th>\n",
              "      <th>SaleType_WD</th>\n",
              "    </tr>\n",
              "  </thead>\n",
              "  <tbody>\n",
              "    <tr>\n",
              "      <th>0</th>\n",
              "      <td>65</td>\n",
              "      <td>8450</td>\n",
              "      <td>5.0</td>\n",
              "      <td>1.0</td>\n",
              "      <td>7.0</td>\n",
              "      <td>7</td>\n",
              "      <td>2003</td>\n",
              "      <td>2003</td>\n",
              "      <td>1.0</td>\n",
              "      <td>196</td>\n",
              "      <td>...</td>\n",
              "      <td>0</td>\n",
              "      <td>0</td>\n",
              "      <td>0</td>\n",
              "      <td>0</td>\n",
              "      <td>0</td>\n",
              "      <td>0</td>\n",
              "      <td>0</td>\n",
              "      <td>0</td>\n",
              "      <td>0</td>\n",
              "      <td>1</td>\n",
              "    </tr>\n",
              "    <tr>\n",
              "      <th>1</th>\n",
              "      <td>80</td>\n",
              "      <td>9600</td>\n",
              "      <td>5.0</td>\n",
              "      <td>1.0</td>\n",
              "      <td>0.0</td>\n",
              "      <td>6</td>\n",
              "      <td>1976</td>\n",
              "      <td>1976</td>\n",
              "      <td>1.0</td>\n",
              "      <td>0</td>\n",
              "      <td>...</td>\n",
              "      <td>0</td>\n",
              "      <td>0</td>\n",
              "      <td>0</td>\n",
              "      <td>0</td>\n",
              "      <td>0</td>\n",
              "      <td>0</td>\n",
              "      <td>0</td>\n",
              "      <td>0</td>\n",
              "      <td>0</td>\n",
              "      <td>1</td>\n",
              "    </tr>\n",
              "    <tr>\n",
              "      <th>2</th>\n",
              "      <td>68</td>\n",
              "      <td>11250</td>\n",
              "      <td>5.0</td>\n",
              "      <td>1.0</td>\n",
              "      <td>7.0</td>\n",
              "      <td>7</td>\n",
              "      <td>2001</td>\n",
              "      <td>2002</td>\n",
              "      <td>1.0</td>\n",
              "      <td>162</td>\n",
              "      <td>...</td>\n",
              "      <td>1</td>\n",
              "      <td>0</td>\n",
              "      <td>0</td>\n",
              "      <td>0</td>\n",
              "      <td>0</td>\n",
              "      <td>0</td>\n",
              "      <td>0</td>\n",
              "      <td>0</td>\n",
              "      <td>0</td>\n",
              "      <td>1</td>\n",
              "    </tr>\n",
              "    <tr>\n",
              "      <th>3</th>\n",
              "      <td>60</td>\n",
              "      <td>9550</td>\n",
              "      <td>5.0</td>\n",
              "      <td>1.0</td>\n",
              "      <td>7.0</td>\n",
              "      <td>7</td>\n",
              "      <td>1915</td>\n",
              "      <td>1970</td>\n",
              "      <td>1.0</td>\n",
              "      <td>0</td>\n",
              "      <td>...</td>\n",
              "      <td>0</td>\n",
              "      <td>0</td>\n",
              "      <td>0</td>\n",
              "      <td>0</td>\n",
              "      <td>0</td>\n",
              "      <td>0</td>\n",
              "      <td>0</td>\n",
              "      <td>0</td>\n",
              "      <td>0</td>\n",
              "      <td>1</td>\n",
              "    </tr>\n",
              "    <tr>\n",
              "      <th>4</th>\n",
              "      <td>84</td>\n",
              "      <td>14260</td>\n",
              "      <td>5.0</td>\n",
              "      <td>1.0</td>\n",
              "      <td>7.0</td>\n",
              "      <td>8</td>\n",
              "      <td>2000</td>\n",
              "      <td>2000</td>\n",
              "      <td>1.0</td>\n",
              "      <td>350</td>\n",
              "      <td>...</td>\n",
              "      <td>0</td>\n",
              "      <td>0</td>\n",
              "      <td>0</td>\n",
              "      <td>0</td>\n",
              "      <td>0</td>\n",
              "      <td>0</td>\n",
              "      <td>0</td>\n",
              "      <td>0</td>\n",
              "      <td>0</td>\n",
              "      <td>1</td>\n",
              "    </tr>\n",
              "  </tbody>\n",
              "</table>\n",
              "<p>5 rows × 232 columns</p>\n",
              "</div>\n",
              "    <div class=\"colab-df-buttons\">\n",
              "\n",
              "  <div class=\"colab-df-container\">\n",
              "    <button class=\"colab-df-convert\" onclick=\"convertToInteractive('df-68f72ec4-3e93-49ca-9ccd-0cc4c4372cb6')\"\n",
              "            title=\"Convert this dataframe to an interactive table.\"\n",
              "            style=\"display:none;\">\n",
              "\n",
              "  <svg xmlns=\"http://www.w3.org/2000/svg\" height=\"24px\" viewBox=\"0 -960 960 960\">\n",
              "    <path d=\"M120-120v-720h720v720H120Zm60-500h600v-160H180v160Zm220 220h160v-160H400v160Zm0 220h160v-160H400v160ZM180-400h160v-160H180v160Zm440 0h160v-160H620v160ZM180-180h160v-160H180v160Zm440 0h160v-160H620v160Z\"/>\n",
              "  </svg>\n",
              "    </button>\n",
              "\n",
              "  <style>\n",
              "    .colab-df-container {\n",
              "      display:flex;\n",
              "      gap: 12px;\n",
              "    }\n",
              "\n",
              "    .colab-df-convert {\n",
              "      background-color: #E8F0FE;\n",
              "      border: none;\n",
              "      border-radius: 50%;\n",
              "      cursor: pointer;\n",
              "      display: none;\n",
              "      fill: #1967D2;\n",
              "      height: 32px;\n",
              "      padding: 0 0 0 0;\n",
              "      width: 32px;\n",
              "    }\n",
              "\n",
              "    .colab-df-convert:hover {\n",
              "      background-color: #E2EBFA;\n",
              "      box-shadow: 0px 1px 2px rgba(60, 64, 67, 0.3), 0px 1px 3px 1px rgba(60, 64, 67, 0.15);\n",
              "      fill: #174EA6;\n",
              "    }\n",
              "\n",
              "    .colab-df-buttons div {\n",
              "      margin-bottom: 4px;\n",
              "    }\n",
              "\n",
              "    [theme=dark] .colab-df-convert {\n",
              "      background-color: #3B4455;\n",
              "      fill: #D2E3FC;\n",
              "    }\n",
              "\n",
              "    [theme=dark] .colab-df-convert:hover {\n",
              "      background-color: #434B5C;\n",
              "      box-shadow: 0px 1px 3px 1px rgba(0, 0, 0, 0.15);\n",
              "      filter: drop-shadow(0px 1px 2px rgba(0, 0, 0, 0.3));\n",
              "      fill: #FFFFFF;\n",
              "    }\n",
              "  </style>\n",
              "\n",
              "    <script>\n",
              "      const buttonEl =\n",
              "        document.querySelector('#df-68f72ec4-3e93-49ca-9ccd-0cc4c4372cb6 button.colab-df-convert');\n",
              "      buttonEl.style.display =\n",
              "        google.colab.kernel.accessAllowed ? 'block' : 'none';\n",
              "\n",
              "      async function convertToInteractive(key) {\n",
              "        const element = document.querySelector('#df-68f72ec4-3e93-49ca-9ccd-0cc4c4372cb6');\n",
              "        const dataTable =\n",
              "          await google.colab.kernel.invokeFunction('convertToInteractive',\n",
              "                                                    [key], {});\n",
              "        if (!dataTable) return;\n",
              "\n",
              "        const docLinkHtml = 'Like what you see? Visit the ' +\n",
              "          '<a target=\"_blank\" href=https://colab.research.google.com/notebooks/data_table.ipynb>data table notebook</a>'\n",
              "          + ' to learn more about interactive tables.';\n",
              "        element.innerHTML = '';\n",
              "        dataTable['output_type'] = 'display_data';\n",
              "        await google.colab.output.renderOutput(dataTable, element);\n",
              "        const docLink = document.createElement('div');\n",
              "        docLink.innerHTML = docLinkHtml;\n",
              "        element.appendChild(docLink);\n",
              "      }\n",
              "    </script>\n",
              "  </div>\n",
              "\n",
              "\n",
              "<div id=\"df-3a3f1e1a-2459-406d-b520-734a434f2d98\">\n",
              "  <button class=\"colab-df-quickchart\" onclick=\"quickchart('df-3a3f1e1a-2459-406d-b520-734a434f2d98')\"\n",
              "            title=\"Suggest charts\"\n",
              "            style=\"display:none;\">\n",
              "\n",
              "<svg xmlns=\"http://www.w3.org/2000/svg\" height=\"24px\"viewBox=\"0 0 24 24\"\n",
              "     width=\"24px\">\n",
              "    <g>\n",
              "        <path d=\"M19 3H5c-1.1 0-2 .9-2 2v14c0 1.1.9 2 2 2h14c1.1 0 2-.9 2-2V5c0-1.1-.9-2-2-2zM9 17H7v-7h2v7zm4 0h-2V7h2v10zm4 0h-2v-4h2v4z\"/>\n",
              "    </g>\n",
              "</svg>\n",
              "  </button>\n",
              "\n",
              "<style>\n",
              "  .colab-df-quickchart {\n",
              "      --bg-color: #E8F0FE;\n",
              "      --fill-color: #1967D2;\n",
              "      --hover-bg-color: #E2EBFA;\n",
              "      --hover-fill-color: #174EA6;\n",
              "      --disabled-fill-color: #AAA;\n",
              "      --disabled-bg-color: #DDD;\n",
              "  }\n",
              "\n",
              "  [theme=dark] .colab-df-quickchart {\n",
              "      --bg-color: #3B4455;\n",
              "      --fill-color: #D2E3FC;\n",
              "      --hover-bg-color: #434B5C;\n",
              "      --hover-fill-color: #FFFFFF;\n",
              "      --disabled-bg-color: #3B4455;\n",
              "      --disabled-fill-color: #666;\n",
              "  }\n",
              "\n",
              "  .colab-df-quickchart {\n",
              "    background-color: var(--bg-color);\n",
              "    border: none;\n",
              "    border-radius: 50%;\n",
              "    cursor: pointer;\n",
              "    display: none;\n",
              "    fill: var(--fill-color);\n",
              "    height: 32px;\n",
              "    padding: 0;\n",
              "    width: 32px;\n",
              "  }\n",
              "\n",
              "  .colab-df-quickchart:hover {\n",
              "    background-color: var(--hover-bg-color);\n",
              "    box-shadow: 0 1px 2px rgba(60, 64, 67, 0.3), 0 1px 3px 1px rgba(60, 64, 67, 0.15);\n",
              "    fill: var(--button-hover-fill-color);\n",
              "  }\n",
              "\n",
              "  .colab-df-quickchart-complete:disabled,\n",
              "  .colab-df-quickchart-complete:disabled:hover {\n",
              "    background-color: var(--disabled-bg-color);\n",
              "    fill: var(--disabled-fill-color);\n",
              "    box-shadow: none;\n",
              "  }\n",
              "\n",
              "  .colab-df-spinner {\n",
              "    border: 2px solid var(--fill-color);\n",
              "    border-color: transparent;\n",
              "    border-bottom-color: var(--fill-color);\n",
              "    animation:\n",
              "      spin 1s steps(1) infinite;\n",
              "  }\n",
              "\n",
              "  @keyframes spin {\n",
              "    0% {\n",
              "      border-color: transparent;\n",
              "      border-bottom-color: var(--fill-color);\n",
              "      border-left-color: var(--fill-color);\n",
              "    }\n",
              "    20% {\n",
              "      border-color: transparent;\n",
              "      border-left-color: var(--fill-color);\n",
              "      border-top-color: var(--fill-color);\n",
              "    }\n",
              "    30% {\n",
              "      border-color: transparent;\n",
              "      border-left-color: var(--fill-color);\n",
              "      border-top-color: var(--fill-color);\n",
              "      border-right-color: var(--fill-color);\n",
              "    }\n",
              "    40% {\n",
              "      border-color: transparent;\n",
              "      border-right-color: var(--fill-color);\n",
              "      border-top-color: var(--fill-color);\n",
              "    }\n",
              "    60% {\n",
              "      border-color: transparent;\n",
              "      border-right-color: var(--fill-color);\n",
              "    }\n",
              "    80% {\n",
              "      border-color: transparent;\n",
              "      border-right-color: var(--fill-color);\n",
              "      border-bottom-color: var(--fill-color);\n",
              "    }\n",
              "    90% {\n",
              "      border-color: transparent;\n",
              "      border-bottom-color: var(--fill-color);\n",
              "    }\n",
              "  }\n",
              "</style>\n",
              "\n",
              "  <script>\n",
              "    async function quickchart(key) {\n",
              "      const quickchartButtonEl =\n",
              "        document.querySelector('#' + key + ' button');\n",
              "      quickchartButtonEl.disabled = true;  // To prevent multiple clicks.\n",
              "      quickchartButtonEl.classList.add('colab-df-spinner');\n",
              "      try {\n",
              "        const charts = await google.colab.kernel.invokeFunction(\n",
              "            'suggestCharts', [key], {});\n",
              "      } catch (error) {\n",
              "        console.error('Error during call to suggestCharts:', error);\n",
              "      }\n",
              "      quickchartButtonEl.classList.remove('colab-df-spinner');\n",
              "      quickchartButtonEl.classList.add('colab-df-quickchart-complete');\n",
              "    }\n",
              "    (() => {\n",
              "      let quickchartButtonEl =\n",
              "        document.querySelector('#df-3a3f1e1a-2459-406d-b520-734a434f2d98 button');\n",
              "      quickchartButtonEl.style.display =\n",
              "        google.colab.kernel.accessAllowed ? 'block' : 'none';\n",
              "    })();\n",
              "  </script>\n",
              "</div>\n",
              "\n",
              "    </div>\n",
              "  </div>\n"
            ],
            "application/vnd.google.colaboratory.intrinsic+json": {
              "type": "dataframe",
              "variable_name": "df"
            }
          },
          "metadata": {},
          "execution_count": 348
        }
      ],
      "source": [
        "df.head()"
      ]
    },
    {
      "cell_type": "code",
      "execution_count": 354,
      "metadata": {
        "id": "VEBtuHd_Md3a",
        "colab": {
          "base_uri": "https://localhost:8080/"
        },
        "outputId": "0aee6265-092d-4a13-9bf2-0e4446383b81"
      },
      "outputs": [
        {
          "output_type": "execute_result",
          "data": {
            "text/plain": [
              "(1399, 232)"
            ]
          },
          "metadata": {},
          "execution_count": 354
        }
      ],
      "source": [
        "df.shape"
      ]
    },
    {
      "cell_type": "code",
      "source": [
        "# Distribution of the SalePrice\n",
        "\n",
        "plt.figure(figsize=(12,5))\n",
        "sns.set_theme(style=\"darkgrid\")\n",
        "sns.distplot(df['SalePrice'], color=('r'))\n",
        "plt.xlabel(\"SalePrice\", fontsize=14)\n",
        "plt.ylabel(\"Density\", fontsize=14)\n",
        "plt.title(\"Distribution of PropPrice\", fontsize = 15)\n",
        "plt.show()"
      ],
      "metadata": {
        "id": "e4Xa6MWZa35T",
        "outputId": "a6bbfd64-70a5-44a1-8f72-a988d3fb4d04",
        "colab": {
          "base_uri": "https://localhost:8080/",
          "height": 499
        }
      },
      "execution_count": 359,
      "outputs": [
        {
          "output_type": "display_data",
          "data": {
            "text/plain": [
              "<Figure size 1200x500 with 1 Axes>"
            ],
            "image/png": "[encoded data removed]"
          },
          "metadata": {}
        }
      ]
    },
    {
      "cell_type": "code",
      "source": [
        "sns.boxplot(y=df[\"SalePrice\"], color='blue')\n",
        "plt.title('Finding outliers for the column PropPrice')\n",
        "plt.show()"
      ],
      "metadata": {
        "id": "Y050Il7FbCh_",
        "outputId": "432e262a-281e-453e-9248-be9769068603",
        "colab": {
          "base_uri": "https://localhost:8080/",
          "height": 437
        }
      },
      "execution_count": 351,
      "outputs": [
        {
          "output_type": "display_data",
          "data": {
            "text/plain": [
              "<Figure size 640x480 with 1 Axes>"
            ],
            "image/png": "[encoded data removed]"
          },
          "metadata": {}
        }
      ]
    },
    {
      "cell_type": "code",
      "source": [
        "# Remove outilers\n",
        "print(\"Old Shape: \", df.shape)\n",
        "\n",
        "Q1 = df['SalePrice'].quantile(0.25)\n",
        "Q3 = df['SalePrice'].quantile(0.75)\n",
        "IQR = Q3 - Q1\n",
        "print(\"Q1: \", Q1, \"\\nQ3: \",Q3, \"\\nIQR:\",IQR)\n",
        "\n",
        "\n",
        "lower = Q1 - 1.5 * IQR\n",
        "lower_array = df['SalePrice'] <= lower\n",
        "print(\"Lower Bound:\", lower)\n",
        "print(lower_array.sum())\n",
        "\n",
        "upper = Q3 + 1.5 * IQR\n",
        "upper_array = df['SalePrice'] >= upper\n",
        "print(\"Upper Bound:\", upper)\n",
        "print(upper_array.sum())\n",
        "\n",
        "df = df[~(lower_array | upper_array)]\n",
        "\n",
        "\n",
        "print(\"New Shape: \", df.shape)"
      ],
      "metadata": {
        "id": "ygYmWt2JbCeg",
        "outputId": "84957bcc-6968-4510-a9e3-98be2c7b976c",
        "colab": {
          "base_uri": "https://localhost:8080/"
        }
      },
      "execution_count": 353,
      "outputs": [
        {
          "output_type": "stream",
          "name": "stdout",
          "text": [
            "Old Shape:  (1460, 232)\n",
            "Q1:  129975.0 \n",
            "Q3:  214000.0 \n",
            "IQR: 84025.0\n",
            "Lower Bound: 3937.5\n",
            "0\n",
            "Upper Bound: 340037.5\n",
            "61\n",
            "New Shape:  (1399, 232)\n"
          ]
        }
      ]
    },
    {
      "cell_type": "code",
      "source": [
        "# After Rmoving outilers boxplot\n",
        "sns.boxplot(y=df[\"SalePrice\"], color='blue')\n",
        "plt.title('After removing outliers for the column PropPrice')\n",
        "plt.show()"
      ],
      "metadata": {
        "id": "deyLiu3QbCbT",
        "outputId": "39fc15ab-c6be-492c-a7df-1d7e75c7ee5a",
        "colab": {
          "base_uri": "https://localhost:8080/",
          "height": 428
        }
      },
      "execution_count": 356,
      "outputs": [
        {
          "output_type": "display_data",
          "data": {
            "text/plain": [
              "<Figure size 640x480 with 1 Axes>"
            ],
            "image/png": "[encoded data removed]"
          },
          "metadata": {}
        }
      ]
    },
    {
      "cell_type": "code",
      "source": [
        "# Distribution of the SalePrice\n",
        "\n",
        "plt.figure(figsize=(12,5))\n",
        "sns.set_theme(style=\"darkgrid\")\n",
        "sns.distplot(df['SalePrice'], color=('r'))\n",
        "plt.xlabel(\"SalePrice\", fontsize=14)\n",
        "plt.ylabel(\"Density\", fontsize=14)\n",
        "plt.title(\"Distribution of PropPrice\", fontsize = 15)\n",
        "plt.show()"
      ],
      "metadata": {
        "id": "Db2uFByabCYA",
        "outputId": "508a22e9-2425-41be-e962-5953e35a078f",
        "colab": {
          "base_uri": "https://localhost:8080/",
          "height": 499
        }
      },
      "execution_count": 357,
      "outputs": [
        {
          "output_type": "display_data",
          "data": {
            "text/plain": [
              "<Figure size 1200x500 with 1 Axes>"
            ],
            "image/png": "[encoded data removed]"
          },
          "metadata": {}
        }
      ]
    },
    {
      "cell_type": "code",
      "source": [
        "# Create the KDE plot\n",
        "sns.kdeplot(df['SalePrice'], shade=True)\n",
        "\n",
        "# Show the plot\n",
        "plt.show()"
      ],
      "metadata": {
        "id": "DPcdF_vHbCUh",
        "outputId": "7936da5c-2aa2-412a-c99d-a22d595d19b0",
        "colab": {
          "base_uri": "https://localhost:8080/",
          "height": 474
        }
      },
      "execution_count": 360,
      "outputs": [
        {
          "output_type": "display_data",
          "data": {
            "text/plain": [
              "<Figure size 640x480 with 1 Axes>"
            ],
            "image/png": "[encoded data removed]"
          },
          "metadata": {}
        }
      ]
    },
    {
      "cell_type": "code",
      "source": [
        "# Create a list of columns to plot\n",
        "columns_to_plot = ['PropertyClass', 'PropertySize', 'OverallQual', 'YearBuilt', 'GardenView',  'SaleYr', 'YearRemodAdd', 'BasementFinishedArea'\n",
        "                    ,'FirstFloorSquareFeet', 'SecondFloorSquareFeet']\n",
        "\n",
        "# Determine the number of rows and columns for the subplot grid\n",
        "n_cols = 2\n",
        "n_rows = (len(columns_to_plot) + n_cols - 1) // n_cols\n",
        "\n",
        "# Create a figure and axes for the subplots\n",
        "fig, axes = plt.subplots(n_rows, n_cols, figsize=(15, 17))\n",
        "\n",
        "# Flatten the axes array for easy iteration\n",
        "axes = axes.flatten()\n",
        "\n",
        "# Plot each column\n",
        "for i, col in enumerate(columns_to_plot):\n",
        "    if col in df.columns:\n",
        "        sns.histplot(df[col], kde=True, ax=axes[i])\n",
        "        axes[i].set_title(col)\n",
        "\n",
        "# Remove any empty subplots\n",
        "for j in range(i + 1, len(axes)):\n",
        "    fig.delaxes(axes[j])\n",
        "\n",
        "# Adjust layout to avoid overlap\n",
        "plt.tight_layout()\n",
        "\n",
        "# Show the plot\n",
        "plt.show()"
      ],
      "metadata": {
        "id": "uj-oRlGqb5Di"
      },
      "execution_count": null,
      "outputs": []
    },
    {
      "cell_type": "code",
      "execution_count": null,
      "metadata": {
        "id": "kOKHocLVddiD"
      },
      "outputs": [],
      "source": [
        "\n",
        "import math\n",
        "\n",
        "# Filter for columns with int and float data types\n",
        "numeric_cols = df.select_dtypes(include=['int64', 'float64']).columns\n",
        "\n",
        "# Number of columns per row\n",
        "cols_per_row = 5\n",
        "\n",
        "# Calculate the number of rows needed\n",
        "num_cols = len(numeric_cols)\n",
        "num_rows = math.ceil(num_cols / cols_per_row)\n",
        "\n",
        "fig, axes = plt.subplots(nrows=num_rows, ncols=cols_per_row, figsize=(15, 5 * num_rows))\n",
        "\n",
        "# Flatten axes array to make indexing easier\n",
        "axes = axes.flatten()\n",
        "\n",
        "for i, col in enumerate(numeric_cols):\n",
        "    sns.histplot(data=df[col], kde=True, color=\"green\", edgecolor='black', linewidth=1.5, ax=axes[i])\n",
        "    axes[i].set_title(col)\n",
        "\n",
        "# Remove any empty subplots\n",
        "for j in range(i + 1, len(axes)):\n",
        "    fig.delaxes(axes[j])\n",
        "\n",
        "plt.tight_layout()\n",
        "plt.show()"
      ]
    },
    {
      "cell_type": "code",
      "execution_count": null,
      "metadata": {
        "id": "R5owF-Zuz5AC"
      },
      "outputs": [],
      "source": [
        "\n",
        "# Filter for columns with int and float data types\n",
        "numeric_cols = df.select_dtypes(include=['int64', 'float64']).columns\n",
        "\n",
        "# Number of columns per row\n",
        "cols_per_row = 7\n",
        "\n",
        "# Calculate the number of rows needed\n",
        "num_cols = len(numeric_cols)\n",
        "num_rows = math.ceil(num_cols / cols_per_row)\n",
        "\n",
        "fig, axes = plt.subplots(nrows=num_rows, ncols=cols_per_row, figsize=(14,3 * num_rows))\n",
        "\n",
        "# Flatten axes array to make indexing easier\n",
        "axes = axes.flatten()\n",
        "\n",
        "for i, col in enumerate(numeric_cols):\n",
        "    sns.boxplot(data=df, y=col, ax=axes[i], color=\"green\")\n",
        "    axes[i].set_title(col)\n",
        "\n",
        "# Remove any empty subplots\n",
        "for j in range(i + 1, len(axes)):\n",
        "    fig.delaxes(axes[j])\n",
        "\n",
        "plt.tight_layout()\n",
        "plt.show()"
      ]
    },
    {
      "cell_type": "code",
      "execution_count": null,
      "metadata": {
        "id": "jW5lGrsbA_HX"
      },
      "outputs": [],
      "source": [
        "dfe.columns"
      ]
    },
    {
      "cell_type": "code",
      "execution_count": null,
      "metadata": {
        "id": "Swr-tNjZmqCs"
      },
      "outputs": [],
      "source": [
        "def iqr_tech(DfColumn):\n",
        "  Q1= np.percentile(DfColumn, 25)\n",
        "  Q3= np.percentile(DfColumn, 75)\n",
        "  IQR= Q3 - Q1\n",
        "  lower_range = Q1 - (1.5 * IQR)\n",
        "  upper_range = Q3 + (1.5 * IQR)\n",
        "  return lower_range, upper_range"
      ]
    },
    {
      "cell_type": "code",
      "execution_count": null,
      "metadata": {
        "id": "IoBSN98OA93-"
      },
      "outputs": [],
      "source": []
    },
    {
      "cell_type": "code",
      "execution_count": null,
      "metadata": {
        "id": "l-uLX8c1_gJA"
      },
      "outputs": [],
      "source": [
        "lower_range, upper_range = iqr_tech(df['PropertFrontage'])\n",
        "df = df[(df.PropertFrontage > lower_range ) & (df.PropertFrontage < upper_range )]\n",
        "print(\"NEw Shape: \", df.shape)"
      ]
    },
    {
      "cell_type": "code",
      "execution_count": null,
      "metadata": {
        "id": "IC1rz0tfBn5r"
      },
      "outputs": [],
      "source": [
        "print(\"Old Shape: \", df.shape)\n",
        "\n",
        "lower_range, upper_range = iqr_tech(df['PropertyArea'])\n",
        "df = df[(df.PropertyArea > lower_range ) & (df.PropertyArea < upper_range )]\n",
        "\n",
        "print(\"NEw Shape: \", df.shape)"
      ]
    },
    {
      "cell_type": "code",
      "execution_count": null,
      "metadata": {
        "id": "Z1mDwAi0CF4a"
      },
      "outputs": [],
      "source": [
        "print(\"Old Shape: \", df.shape)\n",
        "\n",
        "lower_range, upper_range = iqr_tech(df['PropertyArea'])\n",
        "df = df[(df.PropertyArea > lower_range ) & (df.PropertyArea < upper_range )]\n",
        "\n",
        "print(\"NEw Shape: \", df.shape)"
      ]
    },
    {
      "cell_type": "code",
      "execution_count": null,
      "metadata": {
        "id": "cBpQbRfHEcuq"
      },
      "outputs": [],
      "source": [
        "column_names = df.columns.tolist()\n",
        "print(column_names)"
      ]
    },
    {
      "cell_type": "code",
      "execution_count": null,
      "metadata": {
        "id": "GPS-MX34F6Wm"
      },
      "outputs": [],
      "source": [
        "df"
      ]
    },
    {
      "cell_type": "code",
      "execution_count": null,
      "metadata": {
        "id": "OUp27kXQG3TT"
      },
      "outputs": [],
      "source": [
        "df.rename(columns={'1stFlrSF': 'FirstFloorSquareFeet', '2ndFlrSF':'SecondFloorSquareFeet', '3SsnPorch':'ThirdSsnPorch',}, inplace=True)"
      ]
    },
    {
      "cell_type": "code",
      "execution_count": null,
      "metadata": {
        "id": "Xr1CBIwjGQ_Y"
      },
      "outputs": [],
      "source": [
        "# Function to remove outliers\n",
        "def remove_outliers(df, columns):\n",
        "    for col in columns:\n",
        "        Q1 = df[col].quantile(0.25)\n",
        "        Q3 = df[col].quantile(0.75)\n",
        "        IQR = Q3 - Q1\n",
        "        lower_bound = Q1 - 1.5 * IQR\n",
        "        upper_bound = Q3 + 1.5 * IQR\n",
        "        df = df[(df[col] >= lower_bound) & (df[col] <= upper_bound)]\n",
        "    return df\n",
        "\n",
        "# List of columns to remove outliers from\n",
        "columns = ['PropertyShape', 'PropertySlope', 'BuildingType', 'OverallQual', 'OverallCond', 'YearBuilt', 'YearRemodAdd', 'MasVnrArea', 'ExterQual', 'ExterCond', 'BsmtQual', 'BsmtExposure', 'BsmtFinType1', 'BsmtFinSF1', 'BsmtFinType2', 'BsmtFinSF2', 'BsmtUnfSF', 'TotalBsmtSF', 'HeatingQC', 'FirstFloorSquareFeet', 'SecondFloorSquareFeet', 'LowQualFinSF', 'GrLivArea', 'BsmtFullBath', 'BsmtHalfBath', 'FullBath', 'HalfBath', 'BedroomAbvGr', 'KitchenAbvGr', 'KitchenQual', 'TotRmsAbvGrd', 'Fireplaces', 'FireplaceQu', 'GarageYrBlt', 'GarageFinish', 'GarageCars', 'GarageArea', 'GarageQual', 'GarageCond', 'WoodDeckSF', 'OpenPorchSF', 'EnclosedPorch', 'ThirdSsnPorch', 'ScreenPorch', 'PoolArea', 'PoolQC', 'Fence', 'MiscVal', 'YrSold', 'SalePrice', 'MSSubClass_SC120', 'MSSubClass_SC160', 'MSSubClass_SC180', 'MSSubClass_SC190', 'MSSubClass_SC20', 'MSSubClass_SC30', 'MSSubClass_SC40', 'MSSubClass_SC45', 'MSSubClass_SC50', 'MSSubClass_SC60', 'MSSubClass_SC70', 'MSSubClass_SC75', 'MSSubClass_SC80', 'MSSubClass_SC85', 'MSSubClass_SC90', 'MSZoning_C (all)', 'MSZoning_FV', 'MSZoning_RH', 'MSZoning_RL', 'MSZoning_RM', 'Street_Grvl', 'Street_Pave', 'LandContour_Bnk', 'LandContour_HLS', 'LandContour_Low', 'LandContour_Lvl', 'Utilities_AllPub', 'Utilities_NoSeWa', 'LotConfig_Corner', 'LotConfig_CulDSac', 'LotConfig_FR2', 'LotConfig_FR3', 'LotConfig_Inside', 'Neighborhood_Blmngtn', 'Neighborhood_Blueste', 'Neighborhood_BrDale', 'Neighborhood_BrkSide', 'Neighborhood_ClearCr', 'Neighborhood_CollgCr', 'Neighborhood_Crawfor', 'Neighborhood_Edwards', 'Neighborhood_Gilbert', 'Neighborhood_IDOTRR', 'Neighborhood_MeadowV', 'Neighborhood_Mitchel', 'Neighborhood_NAmes', 'Neighborhood_NPkVill', 'Neighborhood_NWAmes', 'Neighborhood_NoRidge', 'Neighborhood_NridgHt', 'Neighborhood_OldTown', 'Neighborhood_SWISU', 'Neighborhood_Sawyer', 'Neighborhood_SawyerW', 'Neighborhood_Somerst', 'Neighborhood_StoneBr', 'Neighborhood_Timber', 'Neighborhood_Veenker', 'Condition1_Artery', 'Condition1_Feedr', 'Condition1_Norm', 'Condition1_PosA', 'Condition1_PosN', 'Condition1_RRAe', 'Condition1_RRAn', 'Condition1_RRNe', 'Condition1_RRNn', 'Condition2_Artery', 'Condition2_Feedr', 'Condition2_Norm', 'Condition2_PosA', 'Condition2_PosN', 'Condition2_RRAe', 'Condition2_RRAn', 'Condition2_RRNn', 'HouseStyle_1.5Fin', 'HouseStyle_1.5Unf', 'HouseStyle_1Story', 'HouseStyle_2.5Fin', 'HouseStyle_2.5Unf', 'HouseStyle_2Story', 'HouseStyle_SFoyer', 'HouseStyle_SLvl', 'RoofStyle_Flat', 'RoofStyle_Gable', 'RoofStyle_Gambrel', 'RoofStyle_Hip', 'RoofStyle_Mansard', 'RoofStyle_Shed', 'RoofMatl_ClyTile', 'RoofMatl_CompShg', 'RoofMatl_Membran', 'RoofMatl_Metal', 'RoofMatl_Roll', 'RoofMatl_Tar&Grv', 'RoofMatl_WdShake', 'RoofMatl_WdShngl', 'Exterior1st_AsbShng', 'Exterior1st_AsphShn', 'Exterior1st_BrkComm', 'Exterior1st_BrkFace', 'Exterior1st_CBlock', 'Exterior1st_CemntBd', 'Exterior1st_HdBoard', 'Exterior1st_ImStucc', 'Exterior1st_MetalSd', 'Exterior1st_Plywood', 'Exterior1st_Stone', 'Exterior1st_Stucco', 'Exterior1st_VinylSd', 'Exterior1st_Wd Sdng', 'Exterior1st_WdShing', 'Exterior2nd_AsbShng', 'Exterior2nd_AsphShn', 'Exterior2nd_Brk Cmn', 'Exterior2nd_BrkFace', 'Exterior2nd_CBlock', 'Exterior2nd_CmentBd', 'Exterior2nd_HdBoard', 'Exterior2nd_ImStucc', 'Exterior2nd_MetalSd', 'Exterior2nd_Other', 'Exterior2nd_Plywood', 'Exterior2nd_Stone', 'Exterior2nd_Stucco', 'Exterior2nd_VinylSd', 'Exterior2nd_Wd Sdng', 'Exterior2nd_Wd Shng', 'Foundation_BrkTil', 'Foundation_CBlock', 'Foundation_PConc', 'Foundation_Slab', 'Foundation_Stone', 'Foundation_Wood', 'BsmtCond_Fa', 'BsmtCond_Gd', 'BsmtCond_No', 'BsmtCond_Po', 'BsmtCond_TA', 'Heating_Floor', 'Heating_GasA', 'Heating_GasW', 'Heating_Grav', 'Heating_OthW', 'Heating_Wall', 'CentralAir_N', 'CentralAir_Y', 'Electrical_FuseA', 'Electrical_FuseF', 'Electrical_FuseP', 'Electrical_Mix', 'Electrical_SBrkr', 'Functional_Maj1', 'Functional_Maj2', 'Functional_Min1', 'Functional_Min2', 'Functional_Mod', 'Functional_Sev', 'Functional_Typ', 'GarageType_2Types', 'GarageType_Attchd', 'GarageType_Basment', 'GarageType_BuiltIn', 'GarageType_CarPort', 'GarageType_Detchd', 'GarageType_No', 'PavedDrive_N', 'PavedDrive_P', 'PavedDrive_Y', 'MiscFeature_Gar2', 'MiscFeature_No', 'MiscFeature_Othr', 'MiscFeature_Shed', 'MiscFeature_TenC', 'MoSold_Apr', 'MoSold_Aug', 'MoSold_Dec', 'MoSold_Feb', 'MoSold_Jan', 'MoSold_Jul', 'MoSold_Jun', 'MoSold_Mar', 'MoSold_May', 'MoSold_Nov', 'MoSold_Oct', 'MoSold_Sep', 'SaleType_COD', 'SaleType_CWD', 'SaleType_Con', 'SaleType_ConLD', 'SaleType_ConLI', 'SaleType_ConLw', 'SaleType_New', 'SaleType_Oth', 'SaleType_WD', 'SaleCondition_Abnorml', 'SaleCondition_AdjLand', 'SaleCondition_Alloca', 'SaleCondition_Family', 'SaleCondition_Normal', 'SaleCondition_Partial']\n",
        "\n",
        "# Remove outliers\n",
        "df_cleaned = remove_outliers(df, columns)\n",
        "\n",
        "print(df_cleaned)"
      ]
    },
    {
      "cell_type": "code",
      "execution_count": null,
      "metadata": {
        "id": "sODFN6g8KNAW"
      },
      "outputs": [],
      "source": [
        "df_cleaned.shape\n"
      ]
    },
    {
      "cell_type": "code",
      "execution_count": null,
      "metadata": {
        "id": "HAQac3HhKdFN"
      },
      "outputs": [],
      "source": [
        "column_names = df_cleaned.columns.tolist()\n",
        "print(column_names)"
      ]
    },
    {
      "cell_type": "code",
      "execution_count": null,
      "metadata": {
        "id": "udWlptwgKWC_"
      },
      "outputs": [],
      "source": [
        "df_cleaned"
      ]
    },
    {
      "cell_type": "code",
      "execution_count": null,
      "metadata": {
        "id": "VNLp_KTeRPO-"
      },
      "outputs": [],
      "source": [
        "# Check that the outliers are removed.\n",
        "sns.boxplot(x = df_cleaned['PropertFrontage'])\n",
        "print(df_cleaned.shape)"
      ]
    },
    {
      "cell_type": "code",
      "execution_count": null,
      "metadata": {
        "id": "Vb32bqbbSVBl"
      },
      "outputs": [],
      "source": [
        "print(df_cleaned['SalePrice'].max())"
      ]
    },
    {
      "cell_type": "code",
      "execution_count": null,
      "metadata": {
        "id": "M-hyHHFvShhK"
      },
      "outputs": [],
      "source": [
        "# Distribution of the SalePrice\n",
        "plt.figure(figsize=(12,5))\n",
        "sns.set_theme(style=\"darkgrid\")\n",
        "sns.distplot(df_cleaned['SalePrice'], color=('r'))\n",
        "plt.xlabel(\"SalePrice\", fontsize=14)\n",
        "plt.ylabel(\"Density\", fontsize=14)\n",
        "plt.title(\"Distribution of SalePrice\", fontsize = 15)\n",
        "plt.show()"
      ]
    },
    {
      "cell_type": "code",
      "execution_count": null,
      "metadata": {
        "id": "DBY0uqygVeqG"
      },
      "outputs": [],
      "source": [
        "# Try find new features called HouseAge, Yearsinceremodel and TotalSF\n",
        "df_cleaned['HouseAge'] = df_cleaned['YrSold'] - df_cleaned['YearBuilt']\n",
        "df_cleaned['YearsSinceRemodel'] = df_cleaned['YrSold'] - df_cleaned['YearRemodAdd']\n",
        "\n",
        "\n",
        "df_cleaned['TotalSF'] = df_cleaned['TotalBsmtSF'] + df_cleaned['FirstFloorSquareFeet'] + df_cleaned['SecondFloorSquareFeet']\n"
      ]
    },
    {
      "cell_type": "code",
      "execution_count": null,
      "metadata": {
        "id": "qUPSGZrFW2VD"
      },
      "outputs": [],
      "source": [
        "print(df_cleaned.head())"
      ]
    },
    {
      "cell_type": "code",
      "execution_count": null,
      "metadata": {
        "id": "T4joPVBRW-rZ"
      },
      "outputs": [],
      "source": [
        "df_cleane"
      ]
    },
    {
      "cell_type": "code",
      "execution_count": null,
      "metadata": {
        "id": "970uVWvTbtmJ"
      },
      "outputs": [],
      "source": [
        "# Separate features and target variable\n",
        "\n",
        "X = df_cleaned.drop('SalePrice', axis=1)\n",
        "X\n",
        "\n"
      ]
    },
    {
      "cell_type": "code",
      "execution_count": null,
      "metadata": {
        "id": "UMOIadxacEDj"
      },
      "outputs": [],
      "source": [
        "y = df_cleaned['SalePrice']\n",
        "y"
      ]
    },
    {
      "cell_type": "code",
      "execution_count": null,
      "metadata": {
        "id": "NQNw6XMDcIqA"
      },
      "outputs": [],
      "source": [
        "# Optionally, split the data into training and testing sets\n",
        "from sklearn.model_selection import train_test_split"
      ]
    },
    {
      "cell_type": "code",
      "execution_count": null,
      "metadata": {
        "id": "QkilqKzvcYxn"
      },
      "outputs": [],
      "source": [
        "X_train, X_test, y_train, y_test= train_test_split(X, y, test_size = 0.2, random_state=45)"
      ]
    },
    {
      "cell_type": "code",
      "execution_count": null,
      "metadata": {
        "id": "Sx80gELDccFH"
      },
      "outputs": [],
      "source": [
        "X_train.shape, y_train.shape, X_test.shape, y_test.shape,"
      ]
    },
    {
      "cell_type": "code",
      "execution_count": null,
      "metadata": {
        "id": "4vlFMdbGclHN"
      },
      "outputs": [],
      "source": [
        "from sklearn.linear_model import LinearRegression"
      ]
    },
    {
      "cell_type": "code",
      "execution_count": null,
      "metadata": {
        "id": "5e1cxXZpcoLE"
      },
      "outputs": [],
      "source": [
        "model = LinearRegression()"
      ]
    },
    {
      "cell_type": "code",
      "execution_count": null,
      "metadata": {
        "id": "dTSyYkeUdNMM"
      },
      "outputs": [],
      "source": [
        "model"
      ]
    },
    {
      "cell_type": "code",
      "execution_count": null,
      "metadata": {
        "id": "0aOXjhRZdR-b"
      },
      "outputs": [],
      "source": [
        "# train model on training data\n",
        "model.fit(X_train, y_train)"
      ]
    },
    {
      "cell_type": "code",
      "execution_count": null,
      "metadata": {
        "id": "t5MomJ6ydUSt"
      },
      "outputs": [],
      "source": [
        "y_pred = model.predict(X_train)\n",
        "y_pred"
      ]
    },
    {
      "cell_type": "code",
      "execution_count": null,
      "metadata": {
        "id": "Qn1J4LaZdWal"
      },
      "outputs": [],
      "source": [
        "from sklearn.metrics import r2_score"
      ]
    },
    {
      "cell_type": "code",
      "execution_count": null,
      "metadata": {
        "id": "PyDBW6TkdYwW"
      },
      "outputs": [],
      "source": [
        "r_squared = r2_score(y_train, y_pred)\n",
        "print(\"R-squared:\", r_squared)"
      ]
    },
    {
      "cell_type": "code",
      "execution_count": null,
      "metadata": {
        "id": "g6tEQuxMdao9"
      },
      "outputs": [],
      "source": [
        "z_pred = model.predict(X_test)\n",
        "z_pred"
      ]
    },
    {
      "cell_type": "code",
      "execution_count": null,
      "metadata": {
        "id": "Fl0Rmivwdels"
      },
      "outputs": [],
      "source": [
        "r_squared1 = r2_score(y_test, z_pred)\n",
        "print(\"R-squared:\", r_squared1)"
      ]
    },
    {
      "cell_type": "code",
      "execution_count": null,
      "metadata": {
        "id": "NynotQkDnXED"
      },
      "outputs": [],
      "source": []
    },
    {
      "cell_type": "code",
      "execution_count": null,
      "metadata": {
        "id": "kM7fTszedoEO"
      },
      "outputs": [],
      "source": [
        "#"
      ]
    }
  ],
  "metadata": {
    "colab": {
      "provenance": [],
      "authorship_tag": "ABX9TyP74RuGVB6LS36JWIkqzg3H",
      "include_colab_link": true
    },
    "kernelspec": {
      "display_name": "Python 3",
      "name": "python3"
    },
    "language_info": {
      "name": "python"
    }
  },
  "nbformat": 4,
  "nbformat_minor": 0
}